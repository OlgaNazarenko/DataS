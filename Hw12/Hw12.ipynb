{
  "nbformat": 4,
  "nbformat_minor": 0,
  "metadata": {
    "colab": {
      "provenance": [],
      "collapsed_sections": [
        "Lw3QZ1wgoORI",
        "QTN-Ee1RoTJk",
        "756Z4JiJ6gQM"
      ]
    },
    "kernelspec": {
      "name": "python3",
      "display_name": "Python 3"
    },
    "language_info": {
      "name": "python"
    }
  },
  "cells": [
    {
      "cell_type": "markdown",
      "source": [
        "## 1st Option:\n",
        "\n",
        "> transformers, torch"
      ],
      "metadata": {
        "id": "Lw3QZ1wgoORI"
      }
    },
    {
      "cell_type": "code",
      "execution_count": null,
      "metadata": {
        "colab": {
          "base_uri": "https://localhost:8080/"
        },
        "id": "7a2pXLfYm368",
        "outputId": "223004db-8084-4d56-ef2d-5566256ece5a"
      },
      "outputs": [
        {
          "output_type": "stream",
          "name": "stdout",
          "text": [
            "Collecting transformers\n",
            "  Downloading transformers-4.30.2-py3-none-any.whl (7.2 MB)\n",
            "\u001b[2K     \u001b[90m━━━━━━━━━━━━━━━━━━━━━━━━━━━━━━━━━━━━━━━━\u001b[0m \u001b[32m7.2/7.2 MB\u001b[0m \u001b[31m51.0 MB/s\u001b[0m eta \u001b[36m0:00:00\u001b[0m\n",
            "\u001b[?25hRequirement already satisfied: torch in /usr/local/lib/python3.10/dist-packages (2.0.1+cu118)\n",
            "Collecting sentencepiece\n",
            "  Downloading sentencepiece-0.1.99-cp310-cp310-manylinux_2_17_x86_64.manylinux2014_x86_64.whl (1.3 MB)\n",
            "\u001b[2K     \u001b[90m━━━━━━━━━━━━━━━━━━━━━━━━━━━━━━━━━━━━━━━━\u001b[0m \u001b[32m1.3/1.3 MB\u001b[0m \u001b[31m49.7 MB/s\u001b[0m eta \u001b[36m0:00:00\u001b[0m\n",
            "\u001b[?25hRequirement already satisfied: filelock in /usr/local/lib/python3.10/dist-packages (from transformers) (3.12.2)\n",
            "Collecting huggingface-hub<1.0,>=0.14.1 (from transformers)\n",
            "  Downloading huggingface_hub-0.16.4-py3-none-any.whl (268 kB)\n",
            "\u001b[2K     \u001b[90m━━━━━━━━━━━━━━━━━━━━━━━━━━━━━━━━━━━━━━\u001b[0m \u001b[32m268.8/268.8 kB\u001b[0m \u001b[31m26.8 MB/s\u001b[0m eta \u001b[36m0:00:00\u001b[0m\n",
            "\u001b[?25hRequirement already satisfied: numpy>=1.17 in /usr/local/lib/python3.10/dist-packages (from transformers) (1.22.4)\n",
            "Requirement already satisfied: packaging>=20.0 in /usr/local/lib/python3.10/dist-packages (from transformers) (23.1)\n",
            "Requirement already satisfied: pyyaml>=5.1 in /usr/local/lib/python3.10/dist-packages (from transformers) (6.0)\n",
            "Requirement already satisfied: regex!=2019.12.17 in /usr/local/lib/python3.10/dist-packages (from transformers) (2022.10.31)\n",
            "Requirement already satisfied: requests in /usr/local/lib/python3.10/dist-packages (from transformers) (2.27.1)\n",
            "Collecting tokenizers!=0.11.3,<0.14,>=0.11.1 (from transformers)\n",
            "  Downloading tokenizers-0.13.3-cp310-cp310-manylinux_2_17_x86_64.manylinux2014_x86_64.whl (7.8 MB)\n",
            "\u001b[2K     \u001b[90m━━━━━━━━━━━━━━━━━━━━━━━━━━━━━━━━━━━━━━━━\u001b[0m \u001b[32m7.8/7.8 MB\u001b[0m \u001b[31m74.3 MB/s\u001b[0m eta \u001b[36m0:00:00\u001b[0m\n",
            "\u001b[?25hCollecting safetensors>=0.3.1 (from transformers)\n",
            "  Downloading safetensors-0.3.1-cp310-cp310-manylinux_2_17_x86_64.manylinux2014_x86_64.whl (1.3 MB)\n",
            "\u001b[2K     \u001b[90m━━━━━━━━━━━━━━━━━━━━━━━━━━━━━━━━━━━━━━━━\u001b[0m \u001b[32m1.3/1.3 MB\u001b[0m \u001b[31m65.9 MB/s\u001b[0m eta \u001b[36m0:00:00\u001b[0m\n",
            "\u001b[?25hRequirement already satisfied: tqdm>=4.27 in /usr/local/lib/python3.10/dist-packages (from transformers) (4.65.0)\n",
            "Requirement already satisfied: typing-extensions in /usr/local/lib/python3.10/dist-packages (from torch) (4.7.1)\n",
            "Requirement already satisfied: sympy in /usr/local/lib/python3.10/dist-packages (from torch) (1.11.1)\n",
            "Requirement already satisfied: networkx in /usr/local/lib/python3.10/dist-packages (from torch) (3.1)\n",
            "Requirement already satisfied: jinja2 in /usr/local/lib/python3.10/dist-packages (from torch) (3.1.2)\n",
            "Requirement already satisfied: triton==2.0.0 in /usr/local/lib/python3.10/dist-packages (from torch) (2.0.0)\n",
            "Requirement already satisfied: cmake in /usr/local/lib/python3.10/dist-packages (from triton==2.0.0->torch) (3.25.2)\n",
            "Requirement already satisfied: lit in /usr/local/lib/python3.10/dist-packages (from triton==2.0.0->torch) (16.0.6)\n",
            "Requirement already satisfied: fsspec in /usr/local/lib/python3.10/dist-packages (from huggingface-hub<1.0,>=0.14.1->transformers) (2023.6.0)\n",
            "Requirement already satisfied: MarkupSafe>=2.0 in /usr/local/lib/python3.10/dist-packages (from jinja2->torch) (2.1.3)\n",
            "Requirement already satisfied: urllib3<1.27,>=1.21.1 in /usr/local/lib/python3.10/dist-packages (from requests->transformers) (1.26.16)\n",
            "Requirement already satisfied: certifi>=2017.4.17 in /usr/local/lib/python3.10/dist-packages (from requests->transformers) (2023.5.7)\n",
            "Requirement already satisfied: charset-normalizer~=2.0.0 in /usr/local/lib/python3.10/dist-packages (from requests->transformers) (2.0.12)\n",
            "Requirement already satisfied: idna<4,>=2.5 in /usr/local/lib/python3.10/dist-packages (from requests->transformers) (3.4)\n",
            "Requirement already satisfied: mpmath>=0.19 in /usr/local/lib/python3.10/dist-packages (from sympy->torch) (1.3.0)\n",
            "Installing collected packages: tokenizers, sentencepiece, safetensors, huggingface-hub, transformers\n",
            "Successfully installed huggingface-hub-0.16.4 safetensors-0.3.1 sentencepiece-0.1.99 tokenizers-0.13.3 transformers-4.30.2\n"
          ]
        }
      ],
      "source": [
        "pip install transformers torch sentencepiece"
      ]
    },
    {
      "cell_type": "code",
      "source": [
        "from transformers import pipeline\n",
        "\n",
        "# using pipeline API for summarization task\n",
        "summarization = pipeline(\"summarization\")\n",
        "original_text = \"\"\"\n",
        "The Orbiter Discovery, OV-103, is considered eligible for listing in the National Register of Historic Places (NRHP)\n",
        "in the context of the U.S. Space Shuttle Program (1969-2011) under Criterion A in the areas of Space Exploration and\n",
        "Transportation and under Criterion C in the area of Engineering. Because it has achieved significance within the past fifty years,\n",
        "Criteria Consideration G applies. Under Criterion A, Discovery is significant as the oldest of the three extant orbiter vehicles constructed\n",
        "for the Space Shuttle Program (SSP), the longest running American space program to date; she was the third of five orbiters built by NASA.\n",
        "Unlike the Mercury, Gemini, and Apollo programs, the SSP’s emphasis was on cost effectiveness and reusability, and eventually the construction\n",
        "of a space station. Including her maiden voyage (launched August 30, 1984), Discovery flew to space thirty-nine times, more than any of the other\n",
        "four orbiters; she was also the first orbiter to fly twenty missions. She had the honor of being chosen as the Return to Flight vehicle after both\n",
        "the Challenger and Columbia accidents. Discovery was the first shuttle to fly with the redesigned SRBs, a result of the Challenger accident, and\n",
        "the first shuttle to fly with the Phase II and Block I SSME. Discovery also carried the Hubble Space Telescope to orbit and performed two of the five\n",
        "servicing missions to the observatory. She flew the first and last dedicated Department of Defense (DoD) missions, as well as the first unclassified\n",
        "defense-related mission. In addition, Discovery was vital to the construction of the International Space Station (ISS); she flew thirteen of\n",
        "the thirty-seven total missions flown to the station by a U.S. Space Shuttle. She was the first orbiter to dock to the ISS, and the first to\n",
        "perform an exchange of a resident crew. Under Criterion C, Discovery is significant as a feat of engineering. According to Wayne Hale, a flight\n",
        "director from Johnson Space Center, the Space Shuttle orbiter represents a “huge technological leap from expendable rockets and capsules\n",
        "to a reusable, winged, hypersonic, cargo-carrying spacecraft.” Although her base structure followed a conventional aircraft design, she\n",
        "used advanced materials that both minimized her weight for cargo-carrying purposes and featured low thermal expansion ratios, which provided\n",
        "a stable base for her Thermal Protection System (TPS) materials. The Space Shuttle orbiter also featured the first reusable TPS; all previous\n",
        "spaceflight vehicles had a single-use, ablative heat shield. Other notable engineering achievements of the orbiter included the first reusable\n",
        "orbital propulsion system, and the first two-fault-tolerant Integrated Avionics System. As Hale stated, the Space Shuttle remains “the largest,\n",
        "fastest, winged hypersonic aircraft in history,” having regularly flown at twenty-five times the speed of sound.\n",
        "\"\"\"\n",
        "summary_text = summarization(original_text)[0]['summary_text']\n",
        "\n",
        "print(\"Summary:\\n\", summary_text)"
      ],
      "metadata": {
        "colab": {
          "base_uri": "https://localhost:8080/"
        },
        "id": "uM6GzFginHGo",
        "outputId": "6a7097f5-fe6d-4ab6-ea07-b9016eba48a8"
      },
      "execution_count": null,
      "outputs": [
        {
          "output_type": "stream",
          "name": "stderr",
          "text": [
            "No model was supplied, defaulted to sshleifer/distilbart-cnn-12-6 and revision a4f8f3e (https://huggingface.co/sshleifer/distilbart-cnn-12-6).\n",
            "Using a pipeline without specifying a model name and revision in production is not recommended.\n"
          ]
        },
        {
          "output_type": "stream",
          "name": "stdout",
          "text": [
            "Summary:\n",
            "  The Orbiter Discovery, OV-103, is considered eligible for listing in the National Register of Historic Places (NRHP) under Criterion A in the areas of Space Exploration and Transportation . Because it has achieved significance within the past fifty years, Criteria Consideration G applies . Discovery flew to space thirty-nine times, more than any of the other four orbiters .\n"
          ]
        }
      ]
    },
    {
      "cell_type": "markdown",
      "source": [
        "## 2nd Option:\n",
        "> NLP-based technique"
      ],
      "metadata": {
        "id": "QTN-Ee1RoTJk"
      }
    },
    {
      "cell_type": "code",
      "source": [
        "import re\n",
        "import nltk\n",
        "from nltk.tokenize import sent_tokenize, word_tokenize\n",
        "from nltk.corpus import stopwords\n",
        "import heapq"
      ],
      "metadata": {
        "id": "hPZpA5txoVQ4"
      },
      "execution_count": 8,
      "outputs": []
    },
    {
      "cell_type": "code",
      "source": [
        "original_text = \"\"\"\n",
        "The Orbiter Discovery, OV-103, is considered eligible for listing in the National Register of Historic Places (NRHP)\n",
        "in the context of the U.S. Space Shuttle Program (1969-2011) under Criterion A in the areas of Space Exploration and\n",
        "Transportation and under Criterion C in the area of Engineering. Because it has achieved significance within the past fifty years,\n",
        "Criteria Consideration G applies. Under Criterion A, Discovery is significant as the oldest of the three extant orbiter vehicles constructed\n",
        "for the Space Shuttle Program (SSP), the longest running American space program to date; she was the third of five orbiters built by NASA.\n",
        "Unlike the Mercury, Gemini, and Apollo programs, the SSP’s emphasis was on cost effectiveness and reusability, and eventually the construction\n",
        "of a space station. Including her maiden voyage (launched August 30, 1984), Discovery flew to space thirty-nine times, more than any of the other\n",
        "four orbiters; she was also the first orbiter to fly twenty missions. She had the honor of being chosen as the Return to Flight vehicle after both\n",
        "the Challenger and Columbia accidents. Discovery was the first shuttle to fly with the redesigned SRBs, a result of the Challenger accident, and\n",
        "the first shuttle to fly with the Phase II and Block I SSME. Discovery also carried the Hubble Space Telescope to orbit and performed two of the five\n",
        "servicing missions to the observatory. She flew the first and last dedicated Department of Defense (DoD) missions, as well as the first unclassified\n",
        "defense-related mission. In addition, Discovery was vital to the construction of the International Space Station (ISS); she flew thirteen of\n",
        "the thirty-seven total missions flown to the station by a U.S. Space Shuttle. She was the first orbiter to dock to the ISS, and the first to\n",
        "perform an exchange of a resident crew. Under Criterion C, Discovery is significant as a feat of engineering. According to Wayne Hale, a flight\n",
        "director from Johnson Space Center, the Space Shuttle orbiter represents a “huge technological leap from expendable rockets and capsules\n",
        "to a reusable, winged, hypersonic, cargo-carrying spacecraft.” Although her base structure followed a conventional aircraft design, she\n",
        "used advanced materials that both minimized her weight for cargo-carrying purposes and featured low thermal expansion ratios, which provided\n",
        "a stable base for her Thermal Protection System (TPS) materials. The Space Shuttle orbiter also featured the first reusable TPS; all previous\n",
        "spaceflight vehicles had a single-use, ablative heat shield. Other notable engineering achievements of the orbiter included the first reusable\n",
        "orbital propulsion system, and the first two-fault-tolerant Integrated Avionics System. As Hale stated, the Space Shuttle remains “the largest,\n",
        "fastest, winged hypersonic aircraft in history,” having regularly flown at twenty-five times the speed of sound.\n",
        "\"\"\""
      ],
      "metadata": {
        "id": "ZSi_1wnU0FNB"
      },
      "execution_count": 2,
      "outputs": []
    },
    {
      "cell_type": "code",
      "source": [
        "# preprocessing\n",
        "\n",
        "original_text = re.sub(r'\\[[0-9]*\\]', ' ', original_text)\n",
        "original_text = re.sub(r'\\s+', ' ', original_text)"
      ],
      "metadata": {
        "id": "Q0ebPJ-E0PU2"
      },
      "execution_count": 3,
      "outputs": []
    },
    {
      "cell_type": "code",
      "source": [
        "formatted_article_text = re.sub('[^a-zA-Z]', ' ', original_text )\n",
        "formatted_article_text = re.sub(r'\\s+', ' ', formatted_article_text)"
      ],
      "metadata": {
        "id": "x5R5W8j30xDq"
      },
      "execution_count": 4,
      "outputs": []
    },
    {
      "cell_type": "code",
      "source": [
        "# converting text to sentences\n",
        "# tokenizing the sentences\n",
        "\n",
        "sentence_list = nltk.sent_tokenize(original_text)\n",
        "sentence_list"
      ],
      "metadata": {
        "id": "i9T1gptr2r5z",
        "colab": {
          "base_uri": "https://localhost:8080/"
        },
        "outputId": "cc8aa6a7-1aea-4dc8-a395-70689b14e9c4"
      },
      "execution_count": 5,
      "outputs": [
        {
          "output_type": "execute_result",
          "data": {
            "text/plain": [
              "[' The Orbiter Discovery, OV-103, is considered eligible for listing in the National Register of Historic Places (NRHP) in the context of the U.S. Space Shuttle Program (1969-2011) under Criterion A in the areas of Space Exploration and Transportation and under Criterion C in the area of Engineering.',\n",
              " 'Because it has achieved significance within the past fifty years, Criteria Consideration G applies.',\n",
              " 'Under Criterion A, Discovery is significant as the oldest of the three extant orbiter vehicles constructed for the Space Shuttle Program (SSP), the longest running American space program to date; she was the third of five orbiters built by NASA.',\n",
              " 'Unlike the Mercury, Gemini, and Apollo programs, the SSP’s emphasis was on cost effectiveness and reusability, and eventually the construction of a space station.',\n",
              " 'Including her maiden voyage (launched August 30, 1984), Discovery flew to space thirty-nine times, more than any of the other four orbiters; she was also the first orbiter to fly twenty missions.',\n",
              " 'She had the honor of being chosen as the Return to Flight vehicle after both the Challenger and Columbia accidents.',\n",
              " 'Discovery was the first shuttle to fly with the redesigned SRBs, a result of the Challenger accident, and the first shuttle to fly with the Phase II and Block I SSME.',\n",
              " 'Discovery also carried the Hubble Space Telescope to orbit and performed two of the five servicing missions to the observatory.',\n",
              " 'She flew the first and last dedicated Department of Defense (DoD) missions, as well as the first unclassified defense-related mission.',\n",
              " 'In addition, Discovery was vital to the construction of the International Space Station (ISS); she flew thirteen of the thirty-seven total missions flown to the station by a U.S. Space Shuttle.',\n",
              " 'She was the first orbiter to dock to the ISS, and the first to perform an exchange of a resident crew.',\n",
              " 'Under Criterion C, Discovery is significant as a feat of engineering.',\n",
              " 'According to Wayne Hale, a flight director from Johnson Space Center, the Space Shuttle orbiter represents a “huge technological leap from expendable rockets and capsules to a reusable, winged, hypersonic, cargo-carrying spacecraft.” Although her base structure followed a conventional aircraft design, she used advanced materials that both minimized her weight for cargo-carrying purposes and featured low thermal expansion ratios, which provided a stable base for her Thermal Protection System (TPS) materials.',\n",
              " 'The Space Shuttle orbiter also featured the first reusable TPS; all previous spaceflight vehicles had a single-use, ablative heat shield.',\n",
              " 'Other notable engineering achievements of the orbiter included the first reusable orbital propulsion system, and the first two-fault-tolerant Integrated Avionics System.',\n",
              " 'As Hale stated, the Space Shuttle remains “the largest, fastest, winged hypersonic aircraft in history,” having regularly flown at twenty-five times the speed of sound.']"
            ]
          },
          "metadata": {},
          "execution_count": 5
        }
      ]
    },
    {
      "cell_type": "code",
      "source": [
        "import nltk\n",
        "nltk.download('stopwords')"
      ],
      "metadata": {
        "colab": {
          "base_uri": "https://localhost:8080/"
        },
        "id": "a4LoRKFD06mF",
        "outputId": "99c5700a-5a8c-4973-c184-83f452e8284e"
      },
      "execution_count": 11,
      "outputs": [
        {
          "output_type": "stream",
          "name": "stderr",
          "text": [
            "[nltk_data] Downloading package stopwords to /root/nltk_data...\n",
            "[nltk_data]   Unzipping corpora/stopwords.zip.\n"
          ]
        },
        {
          "output_type": "execute_result",
          "data": {
            "text/plain": [
              "True"
            ]
          },
          "metadata": {},
          "execution_count": 11
        }
      ]
    },
    {
      "cell_type": "code",
      "source": [
        "# find each word occurrence, through the formated text\n",
        "\n",
        "stopwords = nltk.corpus.stopwords.words('english')\n",
        "\n",
        "word_frequencies = {}\n",
        "\n",
        "for word in nltk.word_tokenize(formatted_article_text):\n",
        "    if word not in stopwords:\n",
        "        if word not in word_frequencies.keys():\n",
        "            word_frequencies[word] = 1\n",
        "        else:\n",
        "            word_frequencies[word] += 1"
      ],
      "metadata": {
        "id": "i5eEUutYAn6S"
      },
      "execution_count": 12,
      "outputs": []
    },
    {
      "cell_type": "code",
      "source": [
        "print(word_frequencies)"
      ],
      "metadata": {
        "colab": {
          "base_uri": "https://localhost:8080/"
        },
        "id": "0TR_sRhEqV2z",
        "outputId": "2949dd8c-a923-4aad-8147-a5851a5765a1"
      },
      "execution_count": 13,
      "outputs": [
        {
          "output_type": "stream",
          "name": "stdout",
          "text": [
            "{'The': 2, 'Orbiter': 1, 'Discovery': 7, 'OV': 1, 'considered': 1, 'eligible': 1, 'listing': 1, 'National': 1, 'Register': 1, 'Historic': 1, 'Places': 1, 'NRHP': 1, 'context': 1, 'U': 2, 'S': 2, 'Space': 10, 'Shuttle': 6, 'Program': 2, 'Criterion': 4, 'A': 2, 'areas': 1, 'Exploration': 1, 'Transportation': 1, 'C': 2, 'area': 1, 'Engineering': 1, 'Because': 1, 'achieved': 1, 'significance': 1, 'within': 1, 'past': 1, 'fifty': 1, 'years': 1, 'Criteria': 1, 'Consideration': 1, 'G': 1, 'applies': 1, 'Under': 2, 'significant': 2, 'oldest': 1, 'three': 1, 'extant': 1, 'orbiter': 6, 'vehicles': 2, 'constructed': 1, 'SSP': 2, 'longest': 1, 'running': 1, 'American': 1, 'space': 3, 'program': 1, 'date': 1, 'third': 1, 'five': 3, 'orbiters': 2, 'built': 1, 'NASA': 1, 'Unlike': 1, 'Mercury': 1, 'Gemini': 1, 'Apollo': 1, 'programs': 1, 'emphasis': 1, 'cost': 1, 'effectiveness': 1, 'reusability': 1, 'eventually': 1, 'construction': 2, 'station': 2, 'Including': 1, 'maiden': 1, 'voyage': 1, 'launched': 1, 'August': 1, 'flew': 3, 'thirty': 2, 'nine': 1, 'times': 2, 'four': 1, 'also': 3, 'first': 10, 'fly': 3, 'twenty': 2, 'missions': 4, 'She': 3, 'honor': 1, 'chosen': 1, 'Return': 1, 'Flight': 1, 'vehicle': 1, 'Challenger': 2, 'Columbia': 1, 'accidents': 1, 'shuttle': 2, 'redesigned': 1, 'SRBs': 1, 'result': 1, 'accident': 1, 'Phase': 1, 'II': 1, 'Block': 1, 'I': 1, 'SSME': 1, 'carried': 1, 'Hubble': 1, 'Telescope': 1, 'orbit': 1, 'performed': 1, 'two': 2, 'servicing': 1, 'observatory': 1, 'last': 1, 'dedicated': 1, 'Department': 1, 'Defense': 1, 'DoD': 1, 'well': 1, 'unclassified': 1, 'defense': 1, 'related': 1, 'mission': 1, 'In': 1, 'addition': 1, 'vital': 1, 'International': 1, 'Station': 1, 'ISS': 2, 'thirteen': 1, 'seven': 1, 'total': 1, 'flown': 2, 'dock': 1, 'perform': 1, 'exchange': 1, 'resident': 1, 'crew': 1, 'feat': 1, 'engineering': 2, 'According': 1, 'Wayne': 1, 'Hale': 2, 'flight': 1, 'director': 1, 'Johnson': 1, 'Center': 1, 'represents': 1, 'huge': 1, 'technological': 1, 'leap': 1, 'expendable': 1, 'rockets': 1, 'capsules': 1, 'reusable': 3, 'winged': 2, 'hypersonic': 2, 'cargo': 2, 'carrying': 2, 'spacecraft': 1, 'Although': 1, 'base': 2, 'structure': 1, 'followed': 1, 'conventional': 1, 'aircraft': 2, 'design': 1, 'used': 1, 'advanced': 1, 'materials': 2, 'minimized': 1, 'weight': 1, 'purposes': 1, 'featured': 2, 'low': 1, 'thermal': 1, 'expansion': 1, 'ratios': 1, 'provided': 1, 'stable': 1, 'Thermal': 1, 'Protection': 1, 'System': 2, 'TPS': 2, 'previous': 1, 'spaceflight': 1, 'single': 1, 'use': 1, 'ablative': 1, 'heat': 1, 'shield': 1, 'Other': 1, 'notable': 1, 'achievements': 1, 'included': 1, 'orbital': 1, 'propulsion': 1, 'system': 1, 'fault': 1, 'tolerant': 1, 'Integrated': 1, 'Avionics': 1, 'As': 1, 'stated': 1, 'remains': 1, 'largest': 1, 'fastest': 1, 'history': 1, 'regularly': 1, 'speed': 1, 'sound': 1}\n"
          ]
        }
      ]
    },
    {
      "cell_type": "code",
      "source": [
        "maximum_frequncy = max(word_frequencies.values())\n",
        "print(\"max count:\", maximum_frequncy)"
      ],
      "metadata": {
        "colab": {
          "base_uri": "https://localhost:8080/"
        },
        "id": "bwsrnE1srMAc",
        "outputId": "382a52ad-971c-4da5-ac30-5f08bb3522eb"
      },
      "execution_count": 15,
      "outputs": [
        {
          "output_type": "stream",
          "name": "stdout",
          "text": [
            "max count: 10\n"
          ]
        }
      ]
    },
    {
      "cell_type": "code",
      "source": [
        "# weighted frequency of each word\n",
        "\n",
        "for word in word_frequencies.keys():\n",
        "  word_frequencies[word] = (word_frequencies[word]/maximum_frequncy)"
      ],
      "metadata": {
        "id": "qmsx5fuxTgMQ"
      },
      "execution_count": 17,
      "outputs": []
    },
    {
      "cell_type": "code",
      "source": [
        "# to calculate weighted frequency of each sentence\n",
        "# replace words by weighted frequency in original sentences\n",
        "\n",
        "sentence_scores = {}\n",
        "\n",
        "for sent in sentence_list:\n",
        "    for word in nltk.word_tokenize(sent.lower()):\n",
        "        if word in word_frequencies.keys():\n",
        "            if len(sent.split(' ')) < 30:\n",
        "                if sent not in sentence_scores.keys():\n",
        "                    sentence_scores[sent] = word_frequencies[word]\n",
        "                else:\n",
        "                    sentence_scores[sent] += word_frequencies[word]\n",
        "\n",
        "print(sentence_scores)"
      ],
      "metadata": {
        "id": "aT24ZcPVTyRz",
        "colab": {
          "base_uri": "https://localhost:8080/"
        },
        "outputId": "afb1d728-c296-4180-ad9f-5bf117a1d1cb"
      },
      "execution_count": 19,
      "outputs": [
        {
          "output_type": "stream",
          "name": "stdout",
          "text": [
            "{'Because it has achieved significance within the past fifty years, Criteria Consideration G applies.': 0.07, 'Unlike the Mercury, Gemini, and Apollo programs, the SSP’s emphasis was on cost effectiveness and reusability, and eventually the construction of a space station.': 0.13, 'She had the honor of being chosen as the Return to Flight vehicle after both the Challenger and Columbia accidents.': 0.05, 'Discovery also carried the Hubble Space Telescope to orbit and performed two of the five servicing missions to the observatory.': 0.20000000000000004, 'She flew the first and last dedicated Department of Defense (DoD) missions, as well as the first unclassified defense-related mission.': 0.33000000000000007, 'She was the first orbiter to dock to the ISS, and the first to perform an exchange of a resident crew.': 0.31000000000000005, 'Under Criterion C, Discovery is significant as a feat of engineering.': 0.05, 'The Space Shuttle orbiter also featured the first reusable TPS; all previous spaceflight vehicles had a single-use, ablative heat shield.': 0.3600000000000001, 'Other notable engineering achievements of the orbiter included the first reusable orbital propulsion system, and the first two-fault-tolerant Integrated Avionics System.': 0.38, 'As Hale stated, the Space Shuttle remains “the largest, fastest, winged hypersonic aircraft in history,” having regularly flown at twenty-five times the speed of sound.': 0.22999999999999998}\n"
          ]
        }
      ]
    },
    {
      "cell_type": "code",
      "source": [
        "# sort sentences in descending order of sum\n",
        "\n",
        "summary_sentences = heapq.nlargest(7, sentence_scores, key=sentence_scores.get)\n",
        "\n",
        "summary = ' '.join(summary_sentences)\n",
        "print(summary)"
      ],
      "metadata": {
        "colab": {
          "base_uri": "https://localhost:8080/"
        },
        "id": "6wARp4N7UE5Q",
        "outputId": "d68d5e06-c4bd-42ba-8c1f-5135aa7ce6d6"
      },
      "execution_count": 20,
      "outputs": [
        {
          "output_type": "stream",
          "name": "stdout",
          "text": [
            "Other notable engineering achievements of the orbiter included the first reusable orbital propulsion system, and the first two-fault-tolerant Integrated Avionics System. The Space Shuttle orbiter also featured the first reusable TPS; all previous spaceflight vehicles had a single-use, ablative heat shield. She flew the first and last dedicated Department of Defense (DoD) missions, as well as the first unclassified defense-related mission. She was the first orbiter to dock to the ISS, and the first to perform an exchange of a resident crew. As Hale stated, the Space Shuttle remains “the largest, fastest, winged hypersonic aircraft in history,” having regularly flown at twenty-five times the speed of sound. Discovery also carried the Hubble Space Telescope to orbit and performed two of the five servicing missions to the observatory. Unlike the Mercury, Gemini, and Apollo programs, the SSP’s emphasis was on cost effectiveness and reusability, and eventually the construction of a space station.\n"
          ]
        }
      ]
    },
    {
      "cell_type": "code",
      "source": [
        "print('lenght of text:', len(summary))"
      ],
      "metadata": {
        "colab": {
          "base_uri": "https://localhost:8080/"
        },
        "id": "_xbWA771sYiI",
        "outputId": "0e3ca1ab-baa9-4adf-a712-773d6cabccea"
      },
      "execution_count": 21,
      "outputs": [
        {
          "output_type": "stream",
          "name": "stdout",
          "text": [
            "lenght of text: 1005\n"
          ]
        }
      ]
    },
    {
      "cell_type": "markdown",
      "source": [
        "## 3rd Option:\n",
        "\n",
        "\n",
        "> using Spacy in NLP\n",
        "\n"
      ],
      "metadata": {
        "id": "756Z4JiJ6gQM"
      }
    },
    {
      "cell_type": "code",
      "source": [
        "pip install -U spacy"
      ],
      "metadata": {
        "id": "9Gjrtgo17oIX"
      },
      "execution_count": null,
      "outputs": []
    },
    {
      "cell_type": "code",
      "source": [
        "import spacy\n",
        "from spacy.lang.en.stop_words import STOP_WORDS\n",
        "from string import punctuation\n",
        "from heapq import nlargest\n",
        "from collections import Counter"
      ],
      "metadata": {
        "id": "5XtBFDey7t6k"
      },
      "execution_count": 1,
      "outputs": []
    },
    {
      "cell_type": "code",
      "source": [
        "original_text = \"\"\"\n",
        "The Orbiter Discovery, OV-103, is considered eligible for listing in the National Register of Historic Places (NRHP)\n",
        "in the context of the U.S. Space Shuttle Program (1969-2011) under Criterion A in the areas of Space Exploration and\n",
        "Transportation and under Criterion C in the area of Engineering. Because it has achieved significance within the past fifty years,\n",
        "Criteria Consideration G applies. Under Criterion A, Discovery is significant as the oldest of the three extant orbiter vehicles constructed\n",
        "for the Space Shuttle Program (SSP), the longest running American space program to date; she was the third of five orbiters built by NASA.\n",
        "Unlike the Mercury, Gemini, and Apollo programs, the SSP’s emphasis was on cost effectiveness and reusability, and eventually the construction\n",
        "of a space station. Including her maiden voyage (launched August 30, 1984), Discovery flew to space thirty-nine times, more than any of the other\n",
        "four orbiters; she was also the first orbiter to fly twenty missions. She had the honor of being chosen as the Return to Flight vehicle after both\n",
        "the Challenger and Columbia accidents. Discovery was the first shuttle to fly with the redesigned SRBs, a result of the Challenger accident, and\n",
        "the first shuttle to fly with the Phase II and Block I SSME. Discovery also carried the Hubble Space Telescope to orbit and performed two of the five\n",
        "servicing missions to the observatory. She flew the first and last dedicated Department of Defense (DoD) missions, as well as the first unclassified\n",
        "defense-related mission. In addition, Discovery was vital to the construction of the International Space Station (ISS); she flew thirteen of\n",
        "the thirty-seven total missions flown to the station by a U.S. Space Shuttle. She was the first orbiter to dock to the ISS, and the first to\n",
        "perform an exchange of a resident crew. Under Criterion C, Discovery is significant as a feat of engineering. According to Wayne Hale, a flight\n",
        "director from Johnson Space Center, the Space Shuttle orbiter represents a “huge technological leap from expendable rockets and capsules\n",
        "to a reusable, winged, hypersonic, cargo-carrying spacecraft.” Although her base structure followed a conventional aircraft design, she\n",
        "used advanced materials that both minimized her weight for cargo-carrying purposes and featured low thermal expansion ratios, which provided\n",
        "a stable base for her Thermal Protection System (TPS) materials. The Space Shuttle orbiter also featured the first reusable TPS; all previous\n",
        "spaceflight vehicles had a single-use, ablative heat shield. Other notable engineering achievements of the orbiter included the first reusable\n",
        "orbital propulsion system, and the first two-fault-tolerant Integrated Avionics System. As Hale stated, the Space Shuttle remains “the largest,\n",
        "fastest, winged hypersonic aircraft in history,” having regularly flown at twenty-five times the speed of sound.\n",
        "\"\"\""
      ],
      "metadata": {
        "id": "vNBhAlaP6mcI"
      },
      "execution_count": 2,
      "outputs": []
    },
    {
      "cell_type": "code",
      "source": [
        "print('Lenght of text:', len(original_text))"
      ],
      "metadata": {
        "colab": {
          "base_uri": "https://localhost:8080/"
        },
        "id": "vZ5DHrA1hHIy",
        "outputId": "e0b8f3ca-4f88-420a-9a35-473081241643"
      },
      "execution_count": 4,
      "outputs": [
        {
          "output_type": "stream",
          "name": "stdout",
          "text": [
            "Lenght of text: 2908\n"
          ]
        }
      ]
    },
    {
      "cell_type": "code",
      "source": [
        "nlp = spacy.load(\"en_core_web_sm\")"
      ],
      "metadata": {
        "id": "klc9hK3Q_Gst"
      },
      "execution_count": 5,
      "outputs": []
    },
    {
      "cell_type": "code",
      "source": [
        "doc = nlp(original_text)"
      ],
      "metadata": {
        "id": "QSQszNJ3_ZCx"
      },
      "execution_count": 6,
      "outputs": []
    },
    {
      "cell_type": "code",
      "source": [
        "len(list(doc.sents))"
      ],
      "metadata": {
        "colab": {
          "base_uri": "https://localhost:8080/"
        },
        "id": "K942PP2R_hnC",
        "outputId": "d24e590a-56c4-4fc4-b344-5210e4391d45"
      },
      "execution_count": 7,
      "outputs": [
        {
          "output_type": "execute_result",
          "data": {
            "text/plain": [
              "17"
            ]
          },
          "metadata": {},
          "execution_count": 7
        }
      ]
    },
    {
      "cell_type": "code",
      "source": [
        "punctuation = punctuation +'\\n'"
      ],
      "metadata": {
        "id": "vNX6CaSnFGFy"
      },
      "execution_count": 9,
      "outputs": []
    },
    {
      "cell_type": "code",
      "source": [
        "# word tokenization\n",
        "\n",
        "tokens = [token.text for token in doc]\n",
        "tokens"
      ],
      "metadata": {
        "colab": {
          "base_uri": "https://localhost:8080/"
        },
        "id": "FtnHbe3LiCuE",
        "outputId": "380d8d48-ba37-4844-8704-fc2ffc26dbde"
      },
      "execution_count": 11,
      "outputs": [
        {
          "output_type": "execute_result",
          "data": {
            "text/plain": [
              "['\\n',\n",
              " 'The',\n",
              " 'Orbiter',\n",
              " 'Discovery',\n",
              " ',',\n",
              " 'OV-103',\n",
              " ',',\n",
              " 'is',\n",
              " 'considered',\n",
              " 'eligible',\n",
              " 'for',\n",
              " 'listing',\n",
              " 'in',\n",
              " 'the',\n",
              " 'National',\n",
              " 'Register',\n",
              " 'of',\n",
              " 'Historic',\n",
              " 'Places',\n",
              " '(',\n",
              " 'NRHP',\n",
              " ')',\n",
              " '\\n',\n",
              " 'in',\n",
              " 'the',\n",
              " 'context',\n",
              " 'of',\n",
              " 'the',\n",
              " 'U.S.',\n",
              " 'Space',\n",
              " 'Shuttle',\n",
              " 'Program',\n",
              " '(',\n",
              " '1969',\n",
              " '-',\n",
              " '2011',\n",
              " ')',\n",
              " 'under',\n",
              " 'Criterion',\n",
              " 'A',\n",
              " 'in',\n",
              " 'the',\n",
              " 'areas',\n",
              " 'of',\n",
              " 'Space',\n",
              " 'Exploration',\n",
              " 'and',\n",
              " '\\n',\n",
              " 'Transportation',\n",
              " 'and',\n",
              " 'under',\n",
              " 'Criterion',\n",
              " 'C',\n",
              " 'in',\n",
              " 'the',\n",
              " 'area',\n",
              " 'of',\n",
              " 'Engineering',\n",
              " '.',\n",
              " 'Because',\n",
              " 'it',\n",
              " 'has',\n",
              " 'achieved',\n",
              " 'significance',\n",
              " 'within',\n",
              " 'the',\n",
              " 'past',\n",
              " 'fifty',\n",
              " 'years',\n",
              " ',',\n",
              " '\\n',\n",
              " 'Criteria',\n",
              " 'Consideration',\n",
              " 'G',\n",
              " 'applies',\n",
              " '.',\n",
              " 'Under',\n",
              " 'Criterion',\n",
              " 'A',\n",
              " ',',\n",
              " 'Discovery',\n",
              " 'is',\n",
              " 'significant',\n",
              " 'as',\n",
              " 'the',\n",
              " 'oldest',\n",
              " 'of',\n",
              " 'the',\n",
              " 'three',\n",
              " 'extant',\n",
              " 'orbiter',\n",
              " 'vehicles',\n",
              " 'constructed',\n",
              " '\\n',\n",
              " 'for',\n",
              " 'the',\n",
              " 'Space',\n",
              " 'Shuttle',\n",
              " 'Program',\n",
              " '(',\n",
              " 'SSP',\n",
              " ')',\n",
              " ',',\n",
              " 'the',\n",
              " 'longest',\n",
              " 'running',\n",
              " 'American',\n",
              " 'space',\n",
              " 'program',\n",
              " 'to',\n",
              " 'date',\n",
              " ';',\n",
              " 'she',\n",
              " 'was',\n",
              " 'the',\n",
              " 'third',\n",
              " 'of',\n",
              " 'five',\n",
              " 'orbiters',\n",
              " 'built',\n",
              " 'by',\n",
              " 'NASA',\n",
              " '.',\n",
              " '\\n',\n",
              " 'Unlike',\n",
              " 'the',\n",
              " 'Mercury',\n",
              " ',',\n",
              " 'Gemini',\n",
              " ',',\n",
              " 'and',\n",
              " 'Apollo',\n",
              " 'programs',\n",
              " ',',\n",
              " 'the',\n",
              " 'SSP',\n",
              " '’s',\n",
              " 'emphasis',\n",
              " 'was',\n",
              " 'on',\n",
              " 'cost',\n",
              " 'effectiveness',\n",
              " 'and',\n",
              " 'reusability',\n",
              " ',',\n",
              " 'and',\n",
              " 'eventually',\n",
              " 'the',\n",
              " 'construction',\n",
              " '\\n',\n",
              " 'of',\n",
              " 'a',\n",
              " 'space',\n",
              " 'station',\n",
              " '.',\n",
              " 'Including',\n",
              " 'her',\n",
              " 'maiden',\n",
              " 'voyage',\n",
              " '(',\n",
              " 'launched',\n",
              " 'August',\n",
              " '30',\n",
              " ',',\n",
              " '1984',\n",
              " ')',\n",
              " ',',\n",
              " 'Discovery',\n",
              " 'flew',\n",
              " 'to',\n",
              " 'space',\n",
              " 'thirty',\n",
              " '-',\n",
              " 'nine',\n",
              " 'times',\n",
              " ',',\n",
              " 'more',\n",
              " 'than',\n",
              " 'any',\n",
              " 'of',\n",
              " 'the',\n",
              " 'other',\n",
              " '\\n',\n",
              " 'four',\n",
              " 'orbiters',\n",
              " ';',\n",
              " 'she',\n",
              " 'was',\n",
              " 'also',\n",
              " 'the',\n",
              " 'first',\n",
              " 'orbiter',\n",
              " 'to',\n",
              " 'fly',\n",
              " 'twenty',\n",
              " 'missions',\n",
              " '.',\n",
              " 'She',\n",
              " 'had',\n",
              " 'the',\n",
              " 'honor',\n",
              " 'of',\n",
              " 'being',\n",
              " 'chosen',\n",
              " 'as',\n",
              " 'the',\n",
              " 'Return',\n",
              " 'to',\n",
              " 'Flight',\n",
              " 'vehicle',\n",
              " 'after',\n",
              " 'both',\n",
              " '\\n',\n",
              " 'the',\n",
              " 'Challenger',\n",
              " 'and',\n",
              " 'Columbia',\n",
              " 'accidents',\n",
              " '.',\n",
              " 'Discovery',\n",
              " 'was',\n",
              " 'the',\n",
              " 'first',\n",
              " 'shuttle',\n",
              " 'to',\n",
              " 'fly',\n",
              " 'with',\n",
              " 'the',\n",
              " 'redesigned',\n",
              " 'SRBs',\n",
              " ',',\n",
              " 'a',\n",
              " 'result',\n",
              " 'of',\n",
              " 'the',\n",
              " 'Challenger',\n",
              " 'accident',\n",
              " ',',\n",
              " 'and',\n",
              " '\\n',\n",
              " 'the',\n",
              " 'first',\n",
              " 'shuttle',\n",
              " 'to',\n",
              " 'fly',\n",
              " 'with',\n",
              " 'the',\n",
              " 'Phase',\n",
              " 'II',\n",
              " 'and',\n",
              " 'Block',\n",
              " 'I',\n",
              " 'SSME',\n",
              " '.',\n",
              " 'Discovery',\n",
              " 'also',\n",
              " 'carried',\n",
              " 'the',\n",
              " 'Hubble',\n",
              " 'Space',\n",
              " 'Telescope',\n",
              " 'to',\n",
              " 'orbit',\n",
              " 'and',\n",
              " 'performed',\n",
              " 'two',\n",
              " 'of',\n",
              " 'the',\n",
              " 'five',\n",
              " '\\n',\n",
              " 'servicing',\n",
              " 'missions',\n",
              " 'to',\n",
              " 'the',\n",
              " 'observatory',\n",
              " '.',\n",
              " 'She',\n",
              " 'flew',\n",
              " 'the',\n",
              " 'first',\n",
              " 'and',\n",
              " 'last',\n",
              " 'dedicated',\n",
              " 'Department',\n",
              " 'of',\n",
              " 'Defense',\n",
              " '(',\n",
              " 'DoD',\n",
              " ')',\n",
              " 'missions',\n",
              " ',',\n",
              " 'as',\n",
              " 'well',\n",
              " 'as',\n",
              " 'the',\n",
              " 'first',\n",
              " 'unclassified',\n",
              " '\\n',\n",
              " 'defense',\n",
              " '-',\n",
              " 'related',\n",
              " 'mission',\n",
              " '.',\n",
              " 'In',\n",
              " 'addition',\n",
              " ',',\n",
              " 'Discovery',\n",
              " 'was',\n",
              " 'vital',\n",
              " 'to',\n",
              " 'the',\n",
              " 'construction',\n",
              " 'of',\n",
              " 'the',\n",
              " 'International',\n",
              " 'Space',\n",
              " 'Station',\n",
              " '(',\n",
              " 'ISS',\n",
              " ')',\n",
              " ';',\n",
              " 'she',\n",
              " 'flew',\n",
              " 'thirteen',\n",
              " 'of',\n",
              " '\\n',\n",
              " 'the',\n",
              " 'thirty',\n",
              " '-',\n",
              " 'seven',\n",
              " 'total',\n",
              " 'missions',\n",
              " 'flown',\n",
              " 'to',\n",
              " 'the',\n",
              " 'station',\n",
              " 'by',\n",
              " 'a',\n",
              " 'U.S.',\n",
              " 'Space',\n",
              " 'Shuttle',\n",
              " '.',\n",
              " 'She',\n",
              " 'was',\n",
              " 'the',\n",
              " 'first',\n",
              " 'orbiter',\n",
              " 'to',\n",
              " 'dock',\n",
              " 'to',\n",
              " 'the',\n",
              " 'ISS',\n",
              " ',',\n",
              " 'and',\n",
              " 'the',\n",
              " 'first',\n",
              " 'to',\n",
              " '\\n',\n",
              " 'perform',\n",
              " 'an',\n",
              " 'exchange',\n",
              " 'of',\n",
              " 'a',\n",
              " 'resident',\n",
              " 'crew',\n",
              " '.',\n",
              " 'Under',\n",
              " 'Criterion',\n",
              " 'C',\n",
              " ',',\n",
              " 'Discovery',\n",
              " 'is',\n",
              " 'significant',\n",
              " 'as',\n",
              " 'a',\n",
              " 'feat',\n",
              " 'of',\n",
              " 'engineering',\n",
              " '.',\n",
              " 'According',\n",
              " 'to',\n",
              " 'Wayne',\n",
              " 'Hale',\n",
              " ',',\n",
              " 'a',\n",
              " 'flight',\n",
              " '\\n',\n",
              " 'director',\n",
              " 'from',\n",
              " 'Johnson',\n",
              " 'Space',\n",
              " 'Center',\n",
              " ',',\n",
              " 'the',\n",
              " 'Space',\n",
              " 'Shuttle',\n",
              " 'orbiter',\n",
              " 'represents',\n",
              " 'a',\n",
              " '“',\n",
              " 'huge',\n",
              " 'technological',\n",
              " 'leap',\n",
              " 'from',\n",
              " 'expendable',\n",
              " 'rockets',\n",
              " 'and',\n",
              " 'capsules',\n",
              " '\\n',\n",
              " 'to',\n",
              " 'a',\n",
              " 'reusable',\n",
              " ',',\n",
              " 'winged',\n",
              " ',',\n",
              " 'hypersonic',\n",
              " ',',\n",
              " 'cargo',\n",
              " '-',\n",
              " 'carrying',\n",
              " 'spacecraft',\n",
              " '.',\n",
              " '”',\n",
              " 'Although',\n",
              " 'her',\n",
              " 'base',\n",
              " 'structure',\n",
              " 'followed',\n",
              " 'a',\n",
              " 'conventional',\n",
              " 'aircraft',\n",
              " 'design',\n",
              " ',',\n",
              " 'she',\n",
              " '\\n',\n",
              " 'used',\n",
              " 'advanced',\n",
              " 'materials',\n",
              " 'that',\n",
              " 'both',\n",
              " 'minimized',\n",
              " 'her',\n",
              " 'weight',\n",
              " 'for',\n",
              " 'cargo',\n",
              " '-',\n",
              " 'carrying',\n",
              " 'purposes',\n",
              " 'and',\n",
              " 'featured',\n",
              " 'low',\n",
              " 'thermal',\n",
              " 'expansion',\n",
              " 'ratios',\n",
              " ',',\n",
              " 'which',\n",
              " 'provided',\n",
              " '\\n',\n",
              " 'a',\n",
              " 'stable',\n",
              " 'base',\n",
              " 'for',\n",
              " 'her',\n",
              " 'Thermal',\n",
              " 'Protection',\n",
              " 'System',\n",
              " '(',\n",
              " 'TPS',\n",
              " ')',\n",
              " 'materials',\n",
              " '.',\n",
              " 'The',\n",
              " 'Space',\n",
              " 'Shuttle',\n",
              " 'orbiter',\n",
              " 'also',\n",
              " 'featured',\n",
              " 'the',\n",
              " 'first',\n",
              " 'reusable',\n",
              " 'TPS',\n",
              " ';',\n",
              " 'all',\n",
              " 'previous',\n",
              " '\\n',\n",
              " 'spaceflight',\n",
              " 'vehicles',\n",
              " 'had',\n",
              " 'a',\n",
              " 'single',\n",
              " '-',\n",
              " 'use',\n",
              " ',',\n",
              " 'ablative',\n",
              " 'heat',\n",
              " 'shield',\n",
              " '.',\n",
              " 'Other',\n",
              " 'notable',\n",
              " 'engineering',\n",
              " 'achievements',\n",
              " 'of',\n",
              " 'the',\n",
              " 'orbiter',\n",
              " 'included',\n",
              " 'the',\n",
              " 'first',\n",
              " 'reusable',\n",
              " '\\n',\n",
              " 'orbital',\n",
              " 'propulsion',\n",
              " 'system',\n",
              " ',',\n",
              " 'and',\n",
              " 'the',\n",
              " 'first',\n",
              " 'two',\n",
              " '-',\n",
              " 'fault',\n",
              " '-',\n",
              " 'tolerant',\n",
              " 'Integrated',\n",
              " 'Avionics',\n",
              " 'System',\n",
              " '.',\n",
              " 'As',\n",
              " 'Hale',\n",
              " 'stated',\n",
              " ',',\n",
              " 'the',\n",
              " 'Space',\n",
              " 'Shuttle',\n",
              " 'remains',\n",
              " '“',\n",
              " 'the',\n",
              " 'largest',\n",
              " ',',\n",
              " '\\n',\n",
              " 'fastest',\n",
              " ',',\n",
              " 'winged',\n",
              " 'hypersonic',\n",
              " 'aircraft',\n",
              " 'in',\n",
              " 'history',\n",
              " ',',\n",
              " '”',\n",
              " 'having',\n",
              " 'regularly',\n",
              " 'flown',\n",
              " 'at',\n",
              " 'twenty',\n",
              " '-',\n",
              " 'five',\n",
              " 'times',\n",
              " 'the',\n",
              " 'speed',\n",
              " 'of',\n",
              " 'sound',\n",
              " '.',\n",
              " '\\n']"
            ]
          },
          "metadata": {},
          "execution_count": 11
        }
      ]
    },
    {
      "cell_type": "code",
      "source": [
        "# text preprocessing and cleaning\n",
        "\n",
        "word_frequencies={}\n",
        "stopwords = list(STOP_WORDS)\n",
        "\n",
        "for word in doc:\n",
        "    if word.text.lower() not in stopwords:\n",
        "        if word.text.lower() not in punctuation:\n",
        "            if word.text not in word_frequencies.keys():\n",
        "                word_frequencies[word.text] = 1\n",
        "            else:\n",
        "                word_frequencies[word.text] += 1\n",
        "print(word_frequencies)"
      ],
      "metadata": {
        "colab": {
          "base_uri": "https://localhost:8080/"
        },
        "id": "BoRpBdAODwDp",
        "outputId": "a828a248-2faf-4971-99c4-d775294e1ce6"
      },
      "execution_count": 12,
      "outputs": [
        {
          "output_type": "stream",
          "name": "stdout",
          "text": [
            "{'Orbiter': 1, 'Discovery': 7, 'OV-103': 1, 'considered': 1, 'eligible': 1, 'listing': 1, 'National': 1, 'Register': 1, 'Historic': 1, 'Places': 1, 'NRHP': 1, 'context': 1, 'U.S.': 2, 'Space': 10, 'Shuttle': 6, 'Program': 2, '1969': 1, '2011': 1, 'Criterion': 4, 'areas': 1, 'Exploration': 1, 'Transportation': 1, 'C': 2, 'area': 1, 'Engineering': 1, 'achieved': 1, 'significance': 1, 'past': 1, 'years': 1, 'Criteria': 1, 'Consideration': 1, 'G': 1, 'applies': 1, 'significant': 2, 'oldest': 1, 'extant': 1, 'orbiter': 6, 'vehicles': 2, 'constructed': 1, 'SSP': 2, 'longest': 1, 'running': 1, 'American': 1, 'space': 3, 'program': 1, 'date': 1, 'orbiters': 2, 'built': 1, 'NASA': 1, 'Unlike': 1, 'Mercury': 1, 'Gemini': 1, 'Apollo': 1, 'programs': 1, 'emphasis': 1, 'cost': 1, 'effectiveness': 1, 'reusability': 1, 'eventually': 1, 'construction': 2, 'station': 2, 'Including': 1, 'maiden': 1, 'voyage': 1, 'launched': 1, 'August': 1, '30': 1, '1984': 1, 'flew': 3, 'thirty': 2, 'times': 2, 'fly': 3, 'missions': 4, 'honor': 1, 'chosen': 1, 'Return': 1, 'Flight': 1, 'vehicle': 1, 'Challenger': 2, 'Columbia': 1, 'accidents': 1, 'shuttle': 2, 'redesigned': 1, 'SRBs': 1, 'result': 1, 'accident': 1, 'Phase': 1, 'II': 1, 'Block': 1, 'SSME': 1, 'carried': 1, 'Hubble': 1, 'Telescope': 1, 'orbit': 1, 'performed': 1, 'servicing': 1, 'observatory': 1, 'dedicated': 1, 'Department': 1, 'Defense': 1, 'DoD': 1, 'unclassified': 1, 'defense': 1, 'related': 1, 'mission': 1, 'addition': 1, 'vital': 1, 'International': 1, 'Station': 1, 'ISS': 2, 'thirteen': 1, 'seven': 1, 'total': 1, 'flown': 2, 'dock': 1, 'perform': 1, 'exchange': 1, 'resident': 1, 'crew': 1, 'feat': 1, 'engineering': 2, 'According': 1, 'Wayne': 1, 'Hale': 2, 'flight': 1, 'director': 1, 'Johnson': 1, 'Center': 1, 'represents': 1, '“': 2, 'huge': 1, 'technological': 1, 'leap': 1, 'expendable': 1, 'rockets': 1, 'capsules': 1, 'reusable': 3, 'winged': 2, 'hypersonic': 2, 'cargo': 2, 'carrying': 2, 'spacecraft': 1, '”': 2, 'base': 2, 'structure': 1, 'followed': 1, 'conventional': 1, 'aircraft': 2, 'design': 1, 'advanced': 1, 'materials': 2, 'minimized': 1, 'weight': 1, 'purposes': 1, 'featured': 2, 'low': 1, 'thermal': 1, 'expansion': 1, 'ratios': 1, 'provided': 1, 'stable': 1, 'Thermal': 1, 'Protection': 1, 'System': 2, 'TPS': 2, 'previous': 1, 'spaceflight': 1, 'single': 1, 'use': 1, 'ablative': 1, 'heat': 1, 'shield': 1, 'notable': 1, 'achievements': 1, 'included': 1, 'orbital': 1, 'propulsion': 1, 'system': 1, 'fault': 1, 'tolerant': 1, 'Integrated': 1, 'Avionics': 1, 'stated': 1, 'remains': 1, 'largest': 1, 'fastest': 1, 'history': 1, 'having': 1, 'regularly': 1, 'speed': 1, 'sound': 1}\n"
          ]
        }
      ]
    },
    {
      "cell_type": "code",
      "source": [
        "max_frequency = max(word_frequencies.values())\n",
        "print('max count:', max_frequency)"
      ],
      "metadata": {
        "colab": {
          "base_uri": "https://localhost:8080/"
        },
        "id": "URxxCizFiVID",
        "outputId": "c4bf7fd9-8f17-4e5c-e326-855763535bfa"
      },
      "execution_count": 14,
      "outputs": [
        {
          "output_type": "stream",
          "name": "stdout",
          "text": [
            "max count: 10\n"
          ]
        }
      ]
    },
    {
      "cell_type": "code",
      "source": [
        "for word in word_frequencies.keys():\n",
        "  word_frequencies[word] = word_frequencies[word]/max_frequency\n",
        "\n",
        "print(word_frequencies)"
      ],
      "metadata": {
        "colab": {
          "base_uri": "https://localhost:8080/"
        },
        "id": "lXdeOiHUGto4",
        "outputId": "f6ef3f09-eba0-4264-bd0f-8c3d96e15d45"
      },
      "execution_count": 16,
      "outputs": [
        {
          "output_type": "stream",
          "name": "stdout",
          "text": [
            "{'Orbiter': 0.01, 'Discovery': 0.06999999999999999, 'OV-103': 0.01, 'considered': 0.01, 'eligible': 0.01, 'listing': 0.01, 'National': 0.01, 'Register': 0.01, 'Historic': 0.01, 'Places': 0.01, 'NRHP': 0.01, 'context': 0.01, 'U.S.': 0.02, 'Space': 0.1, 'Shuttle': 0.06, 'Program': 0.02, '1969': 0.01, '2011': 0.01, 'Criterion': 0.04, 'areas': 0.01, 'Exploration': 0.01, 'Transportation': 0.01, 'C': 0.02, 'area': 0.01, 'Engineering': 0.01, 'achieved': 0.01, 'significance': 0.01, 'past': 0.01, 'years': 0.01, 'Criteria': 0.01, 'Consideration': 0.01, 'G': 0.01, 'applies': 0.01, 'significant': 0.02, 'oldest': 0.01, 'extant': 0.01, 'orbiter': 0.06, 'vehicles': 0.02, 'constructed': 0.01, 'SSP': 0.02, 'longest': 0.01, 'running': 0.01, 'American': 0.01, 'space': 0.03, 'program': 0.01, 'date': 0.01, 'orbiters': 0.02, 'built': 0.01, 'NASA': 0.01, 'Unlike': 0.01, 'Mercury': 0.01, 'Gemini': 0.01, 'Apollo': 0.01, 'programs': 0.01, 'emphasis': 0.01, 'cost': 0.01, 'effectiveness': 0.01, 'reusability': 0.01, 'eventually': 0.01, 'construction': 0.02, 'station': 0.02, 'Including': 0.01, 'maiden': 0.01, 'voyage': 0.01, 'launched': 0.01, 'August': 0.01, '30': 0.01, '1984': 0.01, 'flew': 0.03, 'thirty': 0.02, 'times': 0.02, 'fly': 0.03, 'missions': 0.04, 'honor': 0.01, 'chosen': 0.01, 'Return': 0.01, 'Flight': 0.01, 'vehicle': 0.01, 'Challenger': 0.02, 'Columbia': 0.01, 'accidents': 0.01, 'shuttle': 0.02, 'redesigned': 0.01, 'SRBs': 0.01, 'result': 0.01, 'accident': 0.01, 'Phase': 0.01, 'II': 0.01, 'Block': 0.01, 'SSME': 0.01, 'carried': 0.01, 'Hubble': 0.01, 'Telescope': 0.01, 'orbit': 0.01, 'performed': 0.01, 'servicing': 0.01, 'observatory': 0.01, 'dedicated': 0.01, 'Department': 0.01, 'Defense': 0.01, 'DoD': 0.01, 'unclassified': 0.01, 'defense': 0.01, 'related': 0.01, 'mission': 0.01, 'addition': 0.01, 'vital': 0.01, 'International': 0.01, 'Station': 0.01, 'ISS': 0.02, 'thirteen': 0.01, 'seven': 0.01, 'total': 0.01, 'flown': 0.02, 'dock': 0.01, 'perform': 0.01, 'exchange': 0.01, 'resident': 0.01, 'crew': 0.01, 'feat': 0.01, 'engineering': 0.02, 'According': 0.01, 'Wayne': 0.01, 'Hale': 0.02, 'flight': 0.01, 'director': 0.01, 'Johnson': 0.01, 'Center': 0.01, 'represents': 0.01, '“': 0.02, 'huge': 0.01, 'technological': 0.01, 'leap': 0.01, 'expendable': 0.01, 'rockets': 0.01, 'capsules': 0.01, 'reusable': 0.03, 'winged': 0.02, 'hypersonic': 0.02, 'cargo': 0.02, 'carrying': 0.02, 'spacecraft': 0.01, '”': 0.02, 'base': 0.02, 'structure': 0.01, 'followed': 0.01, 'conventional': 0.01, 'aircraft': 0.02, 'design': 0.01, 'advanced': 0.01, 'materials': 0.02, 'minimized': 0.01, 'weight': 0.01, 'purposes': 0.01, 'featured': 0.02, 'low': 0.01, 'thermal': 0.01, 'expansion': 0.01, 'ratios': 0.01, 'provided': 0.01, 'stable': 0.01, 'Thermal': 0.01, 'Protection': 0.01, 'System': 0.02, 'TPS': 0.02, 'previous': 0.01, 'spaceflight': 0.01, 'single': 0.01, 'use': 0.01, 'ablative': 0.01, 'heat': 0.01, 'shield': 0.01, 'notable': 0.01, 'achievements': 0.01, 'included': 0.01, 'orbital': 0.01, 'propulsion': 0.01, 'system': 0.01, 'fault': 0.01, 'tolerant': 0.01, 'Integrated': 0.01, 'Avionics': 0.01, 'stated': 0.01, 'remains': 0.01, 'largest': 0.01, 'fastest': 0.01, 'history': 0.01, 'having': 0.01, 'regularly': 0.01, 'speed': 0.01, 'sound': 0.01}\n"
          ]
        }
      ]
    },
    {
      "cell_type": "code",
      "source": [
        "# setence tokenization\n",
        "\n",
        "sent_tokens = [sent for sent in doc.sents]\n",
        "sent_tokens"
      ],
      "metadata": {
        "colab": {
          "base_uri": "https://localhost:8080/"
        },
        "id": "mCkiHGbXHhPI",
        "outputId": "c8ccc377-7d11-4fe0-d0b1-fb24aa26e470"
      },
      "execution_count": 17,
      "outputs": [
        {
          "output_type": "execute_result",
          "data": {
            "text/plain": [
              "[\n",
              " The Orbiter Discovery, OV-103, is considered eligible for listing in the National Register of Historic Places (NRHP)\n",
              " in the context of the U.S. Space Shuttle Program (1969-2011) under Criterion A in the areas of Space Exploration and\n",
              " Transportation and under Criterion C in the area of Engineering.,\n",
              " Because it has achieved significance within the past fifty years,\n",
              " Criteria Consideration G applies.,\n",
              " Under Criterion A, Discovery is significant as the oldest of the three extant orbiter vehicles constructed\n",
              " for the Space Shuttle Program (SSP), the longest running American space program to date; she was the third of five orbiters built by NASA.,\n",
              " Unlike the Mercury, Gemini, and Apollo programs, the SSP’s emphasis was on cost effectiveness and reusability, and eventually the construction\n",
              " of a space station.,\n",
              " Including her maiden voyage (launched August 30, 1984), Discovery flew to space thirty-nine times, more than any of the other\n",
              " four orbiters; she was also the first orbiter to fly twenty missions.,\n",
              " She had the honor of being chosen as the Return to Flight vehicle after both\n",
              " the Challenger and Columbia accidents.,\n",
              " Discovery was the first shuttle to fly with the redesigned SRBs, a result of the Challenger accident, and\n",
              " the first shuttle to fly with the Phase II and Block I SSME.,\n",
              " Discovery also carried the Hubble Space Telescope to orbit and performed two of the five\n",
              " servicing missions to the observatory.,\n",
              " She flew the first and last dedicated Department of Defense (DoD) missions, as well as the first unclassified\n",
              " defense-related mission.,\n",
              " In addition, Discovery was vital to the construction of the International Space Station (ISS); she flew thirteen of\n",
              " the thirty-seven total missions flown to the station by a U.S. Space Shuttle.,\n",
              " She was the first orbiter to dock to the ISS, and the first to\n",
              " perform an exchange of a resident crew.,\n",
              " Under Criterion C, Discovery is significant as a feat of engineering.,\n",
              " According to Wayne Hale, a flight\n",
              " director from Johnson Space Center, the Space Shuttle orbiter represents a “huge technological leap from expendable rockets and capsules\n",
              " to a reusable, winged, hypersonic, cargo-carrying spacecraft.”,\n",
              " Although her base structure followed a conventional aircraft design, she\n",
              " used advanced materials that both minimized her weight for cargo-carrying purposes and featured low thermal expansion ratios, which provided\n",
              " a stable base for her Thermal Protection System (TPS) materials.,\n",
              " The Space Shuttle orbiter also featured the first reusable TPS; all previous\n",
              " spaceflight vehicles had a single-use, ablative heat shield.,\n",
              " Other notable engineering achievements of the orbiter included the first reusable\n",
              " orbital propulsion system, and the first two-fault-tolerant Integrated Avionics System.,\n",
              " As Hale stated, the Space Shuttle remains “the largest,\n",
              " fastest, winged hypersonic aircraft in history,” having regularly flown at twenty-five times the speed of sound.]"
            ]
          },
          "metadata": {},
          "execution_count": 17
        }
      ]
    },
    {
      "cell_type": "code",
      "source": [
        "# finding sentences scores (for loop through sentence tokeniz.)\n",
        "\n",
        "sentence_scores = {}\n",
        "\n",
        "for sent in sent_tokens:\n",
        "    for word in sent:\n",
        "        if word.text.lower() in word_frequencies.keys():\n",
        "            if sent not in sentence_scores.keys():\n",
        "             sentence_scores[sent]=word_frequencies[word.text.lower()]\n",
        "            else:\n",
        "             sentence_scores[sent]+=word_frequencies[word.text.lower()]"
      ],
      "metadata": {
        "id": "_YufwDD1Hp92"
      },
      "execution_count": 18,
      "outputs": []
    },
    {
      "cell_type": "code",
      "source": [
        "print(sentence_scores)"
      ],
      "metadata": {
        "colab": {
          "base_uri": "https://localhost:8080/"
        },
        "id": "7FqcRbxQIipP",
        "outputId": "f474ebf0-381a-48c7-a22c-c2c276e1d227"
      },
      "execution_count": 19,
      "outputs": [
        {
          "output_type": "stream",
          "name": "stdout",
          "text": [
            "{\n",
            "The Orbiter Discovery, OV-103, is considered eligible for listing in the National Register of Historic Places (NRHP)\n",
            "in the context of the U.S. Space Shuttle Program (1969-2011) under Criterion A in the areas of Space Exploration and\n",
            "Transportation and under Criterion C in the area of Engineering.: 0.25, Because it has achieved significance within the past fifty years,\n",
            "Criteria Consideration G applies.: 0.05, Under Criterion A, Discovery is significant as the oldest of the three extant orbiter vehicles constructed\n",
            "for the Space Shuttle Program (SSP), the longest running American space program to date; she was the third of five orbiters built by NASA.\n",
            ": 0.29000000000000004, Unlike the Mercury, Gemini, and Apollo programs, the SSP’s emphasis was on cost effectiveness and reusability, and eventually the construction\n",
            "of a space station.: 0.13, Including her maiden voyage (launched August 30, 1984), Discovery flew to space thirty-nine times, more than any of the other\n",
            "four orbiters; she was also the first orbiter to fly twenty missions.: 0.3, She had the honor of being chosen as the Return to Flight vehicle after both\n",
            "the Challenger and Columbia accidents.: 0.05, Discovery was the first shuttle to fly with the redesigned SRBs, a result of the Challenger accident, and\n",
            "the first shuttle to fly with the Phase II and Block I SSME.: 0.13, Discovery also carried the Hubble Space Telescope to orbit and performed two of the five\n",
            "servicing missions to the observatory.: 0.12000000000000001, She flew the first and last dedicated Department of Defense (DoD) missions, as well as the first unclassified\n",
            "defense-related mission.: 0.12999999999999998, In addition, Discovery was vital to the construction of the International Space Station (ISS); she flew thirteen of\n",
            "the thirty-seven total missions flown to the station by a U.S. Space Shuttle.: 0.30000000000000004, She was the first orbiter to dock to the ISS, and the first to\n",
            "perform an exchange of a resident crew.: 0.10999999999999997, Under Criterion C, Discovery is significant as a feat of engineering.: 0.05, According to Wayne Hale, a flight\n",
            "director from Johnson Space Center, the Space Shuttle orbiter represents a “huge technological leap from expendable rockets and capsules\n",
            "to a reusable, winged, hypersonic, cargo-carrying spacecraft.”: 0.3900000000000001, Although her base structure followed a conventional aircraft design, she\n",
            "used advanced materials that both minimized her weight for cargo-carrying purposes and featured low thermal expansion ratios, which provided\n",
            "a stable base for her Thermal Protection System (TPS) materials.: 0.32000000000000006, The Space Shuttle orbiter also featured the first reusable TPS; all previous\n",
            "spaceflight vehicles had a single-use, ablative heat shield.: 0.25000000000000006, Other notable engineering achievements of the orbiter included the first reusable\n",
            "orbital propulsion system, and the first two-fault-tolerant Integrated Avionics System.: 0.20000000000000007, As Hale stated, the Space Shuttle remains “the largest,\n",
            "fastest, winged hypersonic aircraft in history,” having regularly flown at twenty-five times the speed of sound.\n",
            ": 0.27999999999999997}\n"
          ]
        }
      ]
    },
    {
      "cell_type": "code",
      "source": [
        "summary = nlargest(n=3, iterable=sentence_scores, key=sentence_scores.get)\n",
        "\n",
        "print(summary)"
      ],
      "metadata": {
        "colab": {
          "base_uri": "https://localhost:8080/"
        },
        "id": "oy3cqTSrJA6h",
        "outputId": "a68282fe-4d6e-4b64-f7e4-caea51eb3750"
      },
      "execution_count": 20,
      "outputs": [
        {
          "output_type": "stream",
          "name": "stdout",
          "text": [
            "[According to Wayne Hale, a flight\n",
            "director from Johnson Space Center, the Space Shuttle orbiter represents a “huge technological leap from expendable rockets and capsules\n",
            "to a reusable, winged, hypersonic, cargo-carrying spacecraft.”, Although her base structure followed a conventional aircraft design, she\n",
            "used advanced materials that both minimized her weight for cargo-carrying purposes and featured low thermal expansion ratios, which provided\n",
            "a stable base for her Thermal Protection System (TPS) materials., In addition, Discovery was vital to the construction of the International Space Station (ISS); she flew thirteen of\n",
            "the thirty-seven total missions flown to the station by a U.S. Space Shuttle.]\n"
          ]
        }
      ]
    },
    {
      "cell_type": "code",
      "source": [
        "print('length of output:', len(summary))"
      ],
      "metadata": {
        "colab": {
          "base_uri": "https://localhost:8080/"
        },
        "id": "Ok6wwbzpjpVz",
        "outputId": "edc2e897-f973-495a-dfe1-6a371dc0e219"
      },
      "execution_count": 25,
      "outputs": [
        {
          "output_type": "stream",
          "name": "stdout",
          "text": [
            "length of output: 3\n"
          ]
        }
      ]
    }
  ]
}