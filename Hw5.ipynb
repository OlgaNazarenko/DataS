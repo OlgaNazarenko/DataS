{
  "nbformat": 4,
  "nbformat_minor": 0,
  "metadata": {
    "colab": {
      "provenance": []
    },
    "kernelspec": {
      "name": "python3",
      "display_name": "Python 3"
    },
    "language_info": {
      "name": "python"
    }
  },
  "cells": [
    {
      "cell_type": "code",
      "execution_count": 104,
      "metadata": {
        "id": "WS8MWIrGmePH"
      },
      "outputs": [],
      "source": [
        "import numpy as np\n",
        "import pandas as pd\n",
        "import matplotlib.pyplot as plt\n",
        "import os\n",
        "from os import listdir\n",
        "import glob\n",
        "import math\n",
        "import scipy.stats\n",
        "from functools import reduce"
      ]
    },
    {
      "cell_type": "code",
      "source": [
        "from google.colab import drive\n",
        "\n",
        "drive.mount('/content/gdrive')"
      ],
      "metadata": {
        "colab": {
          "base_uri": "https://localhost:8080/"
        },
        "id": "XLZMmFsIoDv3",
        "outputId": "dca22454-bf9c-47f8-9bd8-eb76b829c171"
      },
      "execution_count": 105,
      "outputs": [
        {
          "output_type": "stream",
          "name": "stdout",
          "text": [
            "Drive already mounted at /content/gdrive; to attempt to forcibly remount, call drive.mount(\"/content/gdrive\", force_remount=True).\n"
          ]
        }
      ]
    },
    {
      "cell_type": "code",
      "source": [
        "path = '/content/gdrive/MyDrive/DataScience/Homeworks/4th/data'"
      ],
      "metadata": {
        "id": "Y3hppRrloPu7"
      },
      "execution_count": 106,
      "outputs": []
    },
    {
      "cell_type": "code",
      "source": [
        "activities = listdir(path)\n",
        "activities"
      ],
      "metadata": {
        "colab": {
          "base_uri": "https://localhost:8080/"
        },
        "id": "eHYHU1HKoZRz",
        "outputId": "eacdbbed-7824-4958-8178-919e0b4af144"
      },
      "execution_count": 107,
      "outputs": [
        {
          "output_type": "execute_result",
          "data": {
            "text/plain": [
              "['walking', 'stairs', 'running', 'idle']"
            ]
          },
          "metadata": {},
          "execution_count": 107
        }
      ]
    },
    {
      "cell_type": "code",
      "source": [
        "for act in activities:\n",
        "  file_path = os.path.join(path, act)\n",
        "  frames = listdir(file_path)\n",
        "  print(act, len(frames))\n"
      ],
      "metadata": {
        "colab": {
          "base_uri": "https://localhost:8080/"
        },
        "id": "B0nS0DyErQKT",
        "outputId": "53fa40bc-4450-4c6e-d32d-00b1c30caf24"
      },
      "execution_count": 108,
      "outputs": [
        {
          "output_type": "stream",
          "name": "stdout",
          "text": [
            "walking 1850\n",
            "stairs 165\n",
            "running 3408\n",
            "idle 1039\n"
          ]
        }
      ]
    },
    {
      "cell_type": "markdown",
      "source": [
        "## Data for \"walking\" + time domain features"
      ],
      "metadata": {
        "id": "Ok3R3IayL8vN"
      }
    },
    {
      "cell_type": "code",
      "source": [
        "frames = listdir(os.path.join(path, 'walking'))\n",
        "frame = pd.read_csv(os.path.join(os.path.join(path, 'walking'), frames[10]))\n",
        "frame"
      ],
      "metadata": {
        "colab": {
          "base_uri": "https://localhost:8080/",
          "height": 979
        },
        "id": "TUB0XURj2mxZ",
        "outputId": "03056cbe-023c-4858-c75b-35c9e2ff2fc9"
      },
      "execution_count": 109,
      "outputs": [
        {
          "output_type": "execute_result",
          "data": {
            "text/plain": [
              "    accelerometer_X  accelerometer_Y  accelerometer_Z\n",
              "0         -0.478840       -12.162544        -1.484405\n",
              "1         -0.215478        -1.326388         0.617704\n",
              "2         -1.537077        -8.461109         0.100556\n",
              "3          2.121263        -8.489840         1.283292\n",
              "4         -4.122815        -7.728483         1.546654\n",
              "5        -11.439496       -15.030798         6.354212\n",
              "6         -9.208099       -20.561403         3.979163\n",
              "7         -4.347870       -12.320562        -3.481169\n",
              "8          1.977611        -1.580173        15.801731\n",
              "9         -4.520252       -12.330139        -3.778050\n",
              "10        -4.692635       -10.630256       -15.691598\n",
              "11        -3.864241        -7.690176        -1.948880\n",
              "12        -0.598550        -0.632069         3.864242\n",
              "13        -3.552995        -7.062895        -0.287304\n",
              "14        -2.446874       -11.166556        -2.351106\n",
              "15        -4.783615       -17.492037        -5.228936\n",
              "16        -7.991845       -12.157756        -1.091756\n",
              "17       -10.333375       -13.263878        -2.877830\n",
              "18        -5.635950       -13.302185         8.532935\n",
              "19       -11.889606       -23.300371        -8.264784\n",
              "20        -3.462016       -12.962208        -1.278504\n",
              "21        -3.251326       -14.082694       -14.063540\n",
              "22        -2.676717        -5.717354        -0.411803\n",
              "23        -1.920150        -0.876278         4.893749\n",
              "24        -7.422025        -5.171476        -2.375048\n",
              "25        -6.957550        -9.883265         0.148441\n",
              "26        -0.469264       -19.048270        -4.089296\n",
              "27        -8.437167       -11.109096         0.593762\n",
              "28         7.580043        -4.630386        31.986534\n",
              "29        -4.228160       -16.965311        -1.297657"
            ],
            "text/html": [
              "\n",
              "  <div id=\"df-695b5ac5-1daa-4306-850b-24e3a59dbab0\">\n",
              "    <div class=\"colab-df-container\">\n",
              "      <div>\n",
              "<style scoped>\n",
              "    .dataframe tbody tr th:only-of-type {\n",
              "        vertical-align: middle;\n",
              "    }\n",
              "\n",
              "    .dataframe tbody tr th {\n",
              "        vertical-align: top;\n",
              "    }\n",
              "\n",
              "    .dataframe thead th {\n",
              "        text-align: right;\n",
              "    }\n",
              "</style>\n",
              "<table border=\"1\" class=\"dataframe\">\n",
              "  <thead>\n",
              "    <tr style=\"text-align: right;\">\n",
              "      <th></th>\n",
              "      <th>accelerometer_X</th>\n",
              "      <th>accelerometer_Y</th>\n",
              "      <th>accelerometer_Z</th>\n",
              "    </tr>\n",
              "  </thead>\n",
              "  <tbody>\n",
              "    <tr>\n",
              "      <th>0</th>\n",
              "      <td>-0.478840</td>\n",
              "      <td>-12.162544</td>\n",
              "      <td>-1.484405</td>\n",
              "    </tr>\n",
              "    <tr>\n",
              "      <th>1</th>\n",
              "      <td>-0.215478</td>\n",
              "      <td>-1.326388</td>\n",
              "      <td>0.617704</td>\n",
              "    </tr>\n",
              "    <tr>\n",
              "      <th>2</th>\n",
              "      <td>-1.537077</td>\n",
              "      <td>-8.461109</td>\n",
              "      <td>0.100556</td>\n",
              "    </tr>\n",
              "    <tr>\n",
              "      <th>3</th>\n",
              "      <td>2.121263</td>\n",
              "      <td>-8.489840</td>\n",
              "      <td>1.283292</td>\n",
              "    </tr>\n",
              "    <tr>\n",
              "      <th>4</th>\n",
              "      <td>-4.122815</td>\n",
              "      <td>-7.728483</td>\n",
              "      <td>1.546654</td>\n",
              "    </tr>\n",
              "    <tr>\n",
              "      <th>5</th>\n",
              "      <td>-11.439496</td>\n",
              "      <td>-15.030798</td>\n",
              "      <td>6.354212</td>\n",
              "    </tr>\n",
              "    <tr>\n",
              "      <th>6</th>\n",
              "      <td>-9.208099</td>\n",
              "      <td>-20.561403</td>\n",
              "      <td>3.979163</td>\n",
              "    </tr>\n",
              "    <tr>\n",
              "      <th>7</th>\n",
              "      <td>-4.347870</td>\n",
              "      <td>-12.320562</td>\n",
              "      <td>-3.481169</td>\n",
              "    </tr>\n",
              "    <tr>\n",
              "      <th>8</th>\n",
              "      <td>1.977611</td>\n",
              "      <td>-1.580173</td>\n",
              "      <td>15.801731</td>\n",
              "    </tr>\n",
              "    <tr>\n",
              "      <th>9</th>\n",
              "      <td>-4.520252</td>\n",
              "      <td>-12.330139</td>\n",
              "      <td>-3.778050</td>\n",
              "    </tr>\n",
              "    <tr>\n",
              "      <th>10</th>\n",
              "      <td>-4.692635</td>\n",
              "      <td>-10.630256</td>\n",
              "      <td>-15.691598</td>\n",
              "    </tr>\n",
              "    <tr>\n",
              "      <th>11</th>\n",
              "      <td>-3.864241</td>\n",
              "      <td>-7.690176</td>\n",
              "      <td>-1.948880</td>\n",
              "    </tr>\n",
              "    <tr>\n",
              "      <th>12</th>\n",
              "      <td>-0.598550</td>\n",
              "      <td>-0.632069</td>\n",
              "      <td>3.864242</td>\n",
              "    </tr>\n",
              "    <tr>\n",
              "      <th>13</th>\n",
              "      <td>-3.552995</td>\n",
              "      <td>-7.062895</td>\n",
              "      <td>-0.287304</td>\n",
              "    </tr>\n",
              "    <tr>\n",
              "      <th>14</th>\n",
              "      <td>-2.446874</td>\n",
              "      <td>-11.166556</td>\n",
              "      <td>-2.351106</td>\n",
              "    </tr>\n",
              "    <tr>\n",
              "      <th>15</th>\n",
              "      <td>-4.783615</td>\n",
              "      <td>-17.492037</td>\n",
              "      <td>-5.228936</td>\n",
              "    </tr>\n",
              "    <tr>\n",
              "      <th>16</th>\n",
              "      <td>-7.991845</td>\n",
              "      <td>-12.157756</td>\n",
              "      <td>-1.091756</td>\n",
              "    </tr>\n",
              "    <tr>\n",
              "      <th>17</th>\n",
              "      <td>-10.333375</td>\n",
              "      <td>-13.263878</td>\n",
              "      <td>-2.877830</td>\n",
              "    </tr>\n",
              "    <tr>\n",
              "      <th>18</th>\n",
              "      <td>-5.635950</td>\n",
              "      <td>-13.302185</td>\n",
              "      <td>8.532935</td>\n",
              "    </tr>\n",
              "    <tr>\n",
              "      <th>19</th>\n",
              "      <td>-11.889606</td>\n",
              "      <td>-23.300371</td>\n",
              "      <td>-8.264784</td>\n",
              "    </tr>\n",
              "    <tr>\n",
              "      <th>20</th>\n",
              "      <td>-3.462016</td>\n",
              "      <td>-12.962208</td>\n",
              "      <td>-1.278504</td>\n",
              "    </tr>\n",
              "    <tr>\n",
              "      <th>21</th>\n",
              "      <td>-3.251326</td>\n",
              "      <td>-14.082694</td>\n",
              "      <td>-14.063540</td>\n",
              "    </tr>\n",
              "    <tr>\n",
              "      <th>22</th>\n",
              "      <td>-2.676717</td>\n",
              "      <td>-5.717354</td>\n",
              "      <td>-0.411803</td>\n",
              "    </tr>\n",
              "    <tr>\n",
              "      <th>23</th>\n",
              "      <td>-1.920150</td>\n",
              "      <td>-0.876278</td>\n",
              "      <td>4.893749</td>\n",
              "    </tr>\n",
              "    <tr>\n",
              "      <th>24</th>\n",
              "      <td>-7.422025</td>\n",
              "      <td>-5.171476</td>\n",
              "      <td>-2.375048</td>\n",
              "    </tr>\n",
              "    <tr>\n",
              "      <th>25</th>\n",
              "      <td>-6.957550</td>\n",
              "      <td>-9.883265</td>\n",
              "      <td>0.148441</td>\n",
              "    </tr>\n",
              "    <tr>\n",
              "      <th>26</th>\n",
              "      <td>-0.469264</td>\n",
              "      <td>-19.048270</td>\n",
              "      <td>-4.089296</td>\n",
              "    </tr>\n",
              "    <tr>\n",
              "      <th>27</th>\n",
              "      <td>-8.437167</td>\n",
              "      <td>-11.109096</td>\n",
              "      <td>0.593762</td>\n",
              "    </tr>\n",
              "    <tr>\n",
              "      <th>28</th>\n",
              "      <td>7.580043</td>\n",
              "      <td>-4.630386</td>\n",
              "      <td>31.986534</td>\n",
              "    </tr>\n",
              "    <tr>\n",
              "      <th>29</th>\n",
              "      <td>-4.228160</td>\n",
              "      <td>-16.965311</td>\n",
              "      <td>-1.297657</td>\n",
              "    </tr>\n",
              "  </tbody>\n",
              "</table>\n",
              "</div>\n",
              "      <button class=\"colab-df-convert\" onclick=\"convertToInteractive('df-695b5ac5-1daa-4306-850b-24e3a59dbab0')\"\n",
              "              title=\"Convert this dataframe to an interactive table.\"\n",
              "              style=\"display:none;\">\n",
              "        \n",
              "  <svg xmlns=\"http://www.w3.org/2000/svg\" height=\"24px\"viewBox=\"0 0 24 24\"\n",
              "       width=\"24px\">\n",
              "    <path d=\"M0 0h24v24H0V0z\" fill=\"none\"/>\n",
              "    <path d=\"M18.56 5.44l.94 2.06.94-2.06 2.06-.94-2.06-.94-.94-2.06-.94 2.06-2.06.94zm-11 1L8.5 8.5l.94-2.06 2.06-.94-2.06-.94L8.5 2.5l-.94 2.06-2.06.94zm10 10l.94 2.06.94-2.06 2.06-.94-2.06-.94-.94-2.06-.94 2.06-2.06.94z\"/><path d=\"M17.41 7.96l-1.37-1.37c-.4-.4-.92-.59-1.43-.59-.52 0-1.04.2-1.43.59L10.3 9.45l-7.72 7.72c-.78.78-.78 2.05 0 2.83L4 21.41c.39.39.9.59 1.41.59.51 0 1.02-.2 1.41-.59l7.78-7.78 2.81-2.81c.8-.78.8-2.07 0-2.86zM5.41 20L4 18.59l7.72-7.72 1.47 1.35L5.41 20z\"/>\n",
              "  </svg>\n",
              "      </button>\n",
              "      \n",
              "  <style>\n",
              "    .colab-df-container {\n",
              "      display:flex;\n",
              "      flex-wrap:wrap;\n",
              "      gap: 12px;\n",
              "    }\n",
              "\n",
              "    .colab-df-convert {\n",
              "      background-color: #E8F0FE;\n",
              "      border: none;\n",
              "      border-radius: 50%;\n",
              "      cursor: pointer;\n",
              "      display: none;\n",
              "      fill: #1967D2;\n",
              "      height: 32px;\n",
              "      padding: 0 0 0 0;\n",
              "      width: 32px;\n",
              "    }\n",
              "\n",
              "    .colab-df-convert:hover {\n",
              "      background-color: #E2EBFA;\n",
              "      box-shadow: 0px 1px 2px rgba(60, 64, 67, 0.3), 0px 1px 3px 1px rgba(60, 64, 67, 0.15);\n",
              "      fill: #174EA6;\n",
              "    }\n",
              "\n",
              "    [theme=dark] .colab-df-convert {\n",
              "      background-color: #3B4455;\n",
              "      fill: #D2E3FC;\n",
              "    }\n",
              "\n",
              "    [theme=dark] .colab-df-convert:hover {\n",
              "      background-color: #434B5C;\n",
              "      box-shadow: 0px 1px 3px 1px rgba(0, 0, 0, 0.15);\n",
              "      filter: drop-shadow(0px 1px 2px rgba(0, 0, 0, 0.3));\n",
              "      fill: #FFFFFF;\n",
              "    }\n",
              "  </style>\n",
              "\n",
              "      <script>\n",
              "        const buttonEl =\n",
              "          document.querySelector('#df-695b5ac5-1daa-4306-850b-24e3a59dbab0 button.colab-df-convert');\n",
              "        buttonEl.style.display =\n",
              "          google.colab.kernel.accessAllowed ? 'block' : 'none';\n",
              "\n",
              "        async function convertToInteractive(key) {\n",
              "          const element = document.querySelector('#df-695b5ac5-1daa-4306-850b-24e3a59dbab0');\n",
              "          const dataTable =\n",
              "            await google.colab.kernel.invokeFunction('convertToInteractive',\n",
              "                                                     [key], {});\n",
              "          if (!dataTable) return;\n",
              "\n",
              "          const docLinkHtml = 'Like what you see? Visit the ' +\n",
              "            '<a target=\"_blank\" href=https://colab.research.google.com/notebooks/data_table.ipynb>data table notebook</a>'\n",
              "            + ' to learn more about interactive tables.';\n",
              "          element.innerHTML = '';\n",
              "          dataTable['output_type'] = 'display_data';\n",
              "          await google.colab.output.renderOutput(dataTable, element);\n",
              "          const docLink = document.createElement('div');\n",
              "          docLink.innerHTML = docLinkHtml;\n",
              "          element.appendChild(docLink);\n",
              "        }\n",
              "      </script>\n",
              "    </div>\n",
              "  </div>\n",
              "  "
            ]
          },
          "metadata": {},
          "execution_count": 109
        }
      ]
    },
    {
      "cell_type": "code",
      "source": [
        "frame.shape"
      ],
      "metadata": {
        "colab": {
          "base_uri": "https://localhost:8080/"
        },
        "id": "4hc25N38uK6q",
        "outputId": "92d97254-e667-4211-d096-19de97f7c7ec"
      },
      "execution_count": 110,
      "outputs": [
        {
          "output_type": "execute_result",
          "data": {
            "text/plain": [
              "(30, 3)"
            ]
          },
          "metadata": {},
          "execution_count": 110
        }
      ]
    },
    {
      "cell_type": "markdown",
      "source": [
        "- MCE: $$H(X) = -Σ P(x) log2(P(x))$$"
      ],
      "metadata": {
        "id": "nJaslab1bWS1"
      }
    },
    {
      "cell_type": "code",
      "source": [
        "path = '/content/gdrive/MyDrive/DataScience/Homeworks/4th/data/'\n",
        "\n",
        "file_pattern = f'{path}walking/walking-*.csv'\n",
        "csv_files = glob.glob(file_pattern)\n",
        "\n",
        "df_walking = pd.DataFrame()\n",
        "\n",
        "for file in csv_files:\n",
        "  if file.endswith('.csv'):\n",
        "    data = pd.read_csv(file)\n",
        "\n",
        "    feature_dict = {\n",
        "        'x-max': data.iloc[:, 0].max(),\n",
        "        'x-min': data.iloc[:, 0].min(),\n",
        "        'x-var': data.iloc[:, 0].var(),\n",
        "        'x-std': data.iloc[:, 0].std(),\n",
        "        'x-mdn': data.iloc[:, 0].median(),\n",
        "        'x-rms': np.sqrt(np.mean(data.iloc[:, 0]**2)),\n",
        "        'x-MCE': -(data.iloc[:, 0].value_counts(normalize=True)*data.iloc[:, 0].value_counts(normalize=True).apply(lambda x:math.log2(x))).sum(),\n",
        "        'x-skew': scipy.stats.skew(data.iloc[:,0]),\n",
        "        'x-iqr': scipy.stats.iqr(data.iloc[:,0]),\n",
        "        'y-max': data.iloc[:, 1].max(),\n",
        "        'y-min': data.iloc[:, 1].min(),\n",
        "        'y-var': data.iloc[:, 1].var(),\n",
        "        'y-std': data.iloc[:, 1].std(),\n",
        "        'y-mdn': data.iloc[:, 1].median(),\n",
        "        'y-rms': np.sqrt(np.mean(data.iloc[:, 1]**2)),\n",
        "        'y-MCE': -(data.iloc[:, 1].value_counts(normalize=True)*data.iloc[:, 1].value_counts(normalize=True).apply(lambda x:math.log2(x))).sum(),\n",
        "        'y-skew': scipy.stats.skew(data.iloc[:,1]),\n",
        "        'y-iqr': scipy.stats.iqr(data.iloc[:,1]),\n",
        "        'z-skew': data.iloc[:, 2].skew(),\n",
        "        'Field': 1\n",
        "\n",
        "    }\n",
        "\n",
        "    df_features = pd.DataFrame(feature_dict, index=[0])\n",
        "    df_walking = pd.concat([df_walking, df_features], ignore_index=True)\n",
        "\n",
        "df_walking.head()"
      ],
      "metadata": {
        "colab": {
          "base_uri": "https://localhost:8080/",
          "height": 268
        },
        "id": "GPe2s2tvQK5s",
        "outputId": "3773b030-f1e4-4c25-ae00-0c85aca9dfd2"
      },
      "execution_count": 111,
      "outputs": [
        {
          "output_type": "execute_result",
          "data": {
            "text/plain": [
              "       x-max      x-min      x-var     x-std     x-mdn     x-rms     x-MCE  \\\n",
              "0   7.972692 -11.319786  16.207765  4.025887 -0.316034  3.981301  4.906891   \n",
              "1   6.588843 -17.266985  29.958438  5.473430 -2.928109  6.879914  4.906891   \n",
              "2   8.566454 -21.485565  25.774353  5.076845  0.603339  5.002133  4.906891   \n",
              "3  12.952631 -21.485565  33.955637  5.827147 -1.084574  5.739636  4.906891   \n",
              "4   1.106121  -9.002198   8.234284  2.869544 -2.602497  4.178676  4.840224   \n",
              "\n",
              "     x-skew     x-iqr     y-max      y-min      y-var     y-std      y-mdn  \\\n",
              "0 -0.163666  4.214992  7.809886 -25.823860  53.977018  7.346905  -9.868899   \n",
              "1 -0.747639  6.075286  4.620809 -21.327547  36.319012  6.026526 -11.805808   \n",
              "2 -2.250199  4.909311  6.239290 -24.267628  44.159423  6.645256  -9.270349   \n",
              "3 -1.091620  6.329071  6.239290 -25.014620  41.864963  6.470314 -10.366894   \n",
              "4 -0.388452  4.718972 -2.154781 -21.356280  20.861634  4.567454  -9.507375   \n",
              "\n",
              "       y-rms     y-MCE    y-skew     y-iqr    z-skew  Field  \n",
              "0  12.207731  4.840224  0.024940  9.440338  0.405362      1  \n",
              "1  12.158922  4.906891  0.683353  7.830237  1.572404      1  \n",
              "2  12.043921  4.906891  0.024413  8.505402  0.572727      1  \n",
              "3  12.209017  4.906891  0.139729  7.480683 -1.257780      1  \n",
              "4  10.971740  4.906891 -0.245861  5.284004 -0.668355      1  "
            ],
            "text/html": [
              "\n",
              "  <div id=\"df-98d35069-9734-4969-a3d4-bf601587c331\">\n",
              "    <div class=\"colab-df-container\">\n",
              "      <div>\n",
              "<style scoped>\n",
              "    .dataframe tbody tr th:only-of-type {\n",
              "        vertical-align: middle;\n",
              "    }\n",
              "\n",
              "    .dataframe tbody tr th {\n",
              "        vertical-align: top;\n",
              "    }\n",
              "\n",
              "    .dataframe thead th {\n",
              "        text-align: right;\n",
              "    }\n",
              "</style>\n",
              "<table border=\"1\" class=\"dataframe\">\n",
              "  <thead>\n",
              "    <tr style=\"text-align: right;\">\n",
              "      <th></th>\n",
              "      <th>x-max</th>\n",
              "      <th>x-min</th>\n",
              "      <th>x-var</th>\n",
              "      <th>x-std</th>\n",
              "      <th>x-mdn</th>\n",
              "      <th>x-rms</th>\n",
              "      <th>x-MCE</th>\n",
              "      <th>x-skew</th>\n",
              "      <th>x-iqr</th>\n",
              "      <th>y-max</th>\n",
              "      <th>y-min</th>\n",
              "      <th>y-var</th>\n",
              "      <th>y-std</th>\n",
              "      <th>y-mdn</th>\n",
              "      <th>y-rms</th>\n",
              "      <th>y-MCE</th>\n",
              "      <th>y-skew</th>\n",
              "      <th>y-iqr</th>\n",
              "      <th>z-skew</th>\n",
              "      <th>Field</th>\n",
              "    </tr>\n",
              "  </thead>\n",
              "  <tbody>\n",
              "    <tr>\n",
              "      <th>0</th>\n",
              "      <td>7.972692</td>\n",
              "      <td>-11.319786</td>\n",
              "      <td>16.207765</td>\n",
              "      <td>4.025887</td>\n",
              "      <td>-0.316034</td>\n",
              "      <td>3.981301</td>\n",
              "      <td>4.906891</td>\n",
              "      <td>-0.163666</td>\n",
              "      <td>4.214992</td>\n",
              "      <td>7.809886</td>\n",
              "      <td>-25.823860</td>\n",
              "      <td>53.977018</td>\n",
              "      <td>7.346905</td>\n",
              "      <td>-9.868899</td>\n",
              "      <td>12.207731</td>\n",
              "      <td>4.840224</td>\n",
              "      <td>0.024940</td>\n",
              "      <td>9.440338</td>\n",
              "      <td>0.405362</td>\n",
              "      <td>1</td>\n",
              "    </tr>\n",
              "    <tr>\n",
              "      <th>1</th>\n",
              "      <td>6.588843</td>\n",
              "      <td>-17.266985</td>\n",
              "      <td>29.958438</td>\n",
              "      <td>5.473430</td>\n",
              "      <td>-2.928109</td>\n",
              "      <td>6.879914</td>\n",
              "      <td>4.906891</td>\n",
              "      <td>-0.747639</td>\n",
              "      <td>6.075286</td>\n",
              "      <td>4.620809</td>\n",
              "      <td>-21.327547</td>\n",
              "      <td>36.319012</td>\n",
              "      <td>6.026526</td>\n",
              "      <td>-11.805808</td>\n",
              "      <td>12.158922</td>\n",
              "      <td>4.906891</td>\n",
              "      <td>0.683353</td>\n",
              "      <td>7.830237</td>\n",
              "      <td>1.572404</td>\n",
              "      <td>1</td>\n",
              "    </tr>\n",
              "    <tr>\n",
              "      <th>2</th>\n",
              "      <td>8.566454</td>\n",
              "      <td>-21.485565</td>\n",
              "      <td>25.774353</td>\n",
              "      <td>5.076845</td>\n",
              "      <td>0.603339</td>\n",
              "      <td>5.002133</td>\n",
              "      <td>4.906891</td>\n",
              "      <td>-2.250199</td>\n",
              "      <td>4.909311</td>\n",
              "      <td>6.239290</td>\n",
              "      <td>-24.267628</td>\n",
              "      <td>44.159423</td>\n",
              "      <td>6.645256</td>\n",
              "      <td>-9.270349</td>\n",
              "      <td>12.043921</td>\n",
              "      <td>4.906891</td>\n",
              "      <td>0.024413</td>\n",
              "      <td>8.505402</td>\n",
              "      <td>0.572727</td>\n",
              "      <td>1</td>\n",
              "    </tr>\n",
              "    <tr>\n",
              "      <th>3</th>\n",
              "      <td>12.952631</td>\n",
              "      <td>-21.485565</td>\n",
              "      <td>33.955637</td>\n",
              "      <td>5.827147</td>\n",
              "      <td>-1.084574</td>\n",
              "      <td>5.739636</td>\n",
              "      <td>4.906891</td>\n",
              "      <td>-1.091620</td>\n",
              "      <td>6.329071</td>\n",
              "      <td>6.239290</td>\n",
              "      <td>-25.014620</td>\n",
              "      <td>41.864963</td>\n",
              "      <td>6.470314</td>\n",
              "      <td>-10.366894</td>\n",
              "      <td>12.209017</td>\n",
              "      <td>4.906891</td>\n",
              "      <td>0.139729</td>\n",
              "      <td>7.480683</td>\n",
              "      <td>-1.257780</td>\n",
              "      <td>1</td>\n",
              "    </tr>\n",
              "    <tr>\n",
              "      <th>4</th>\n",
              "      <td>1.106121</td>\n",
              "      <td>-9.002198</td>\n",
              "      <td>8.234284</td>\n",
              "      <td>2.869544</td>\n",
              "      <td>-2.602497</td>\n",
              "      <td>4.178676</td>\n",
              "      <td>4.840224</td>\n",
              "      <td>-0.388452</td>\n",
              "      <td>4.718972</td>\n",
              "      <td>-2.154781</td>\n",
              "      <td>-21.356280</td>\n",
              "      <td>20.861634</td>\n",
              "      <td>4.567454</td>\n",
              "      <td>-9.507375</td>\n",
              "      <td>10.971740</td>\n",
              "      <td>4.906891</td>\n",
              "      <td>-0.245861</td>\n",
              "      <td>5.284004</td>\n",
              "      <td>-0.668355</td>\n",
              "      <td>1</td>\n",
              "    </tr>\n",
              "  </tbody>\n",
              "</table>\n",
              "</div>\n",
              "      <button class=\"colab-df-convert\" onclick=\"convertToInteractive('df-98d35069-9734-4969-a3d4-bf601587c331')\"\n",
              "              title=\"Convert this dataframe to an interactive table.\"\n",
              "              style=\"display:none;\">\n",
              "        \n",
              "  <svg xmlns=\"http://www.w3.org/2000/svg\" height=\"24px\"viewBox=\"0 0 24 24\"\n",
              "       width=\"24px\">\n",
              "    <path d=\"M0 0h24v24H0V0z\" fill=\"none\"/>\n",
              "    <path d=\"M18.56 5.44l.94 2.06.94-2.06 2.06-.94-2.06-.94-.94-2.06-.94 2.06-2.06.94zm-11 1L8.5 8.5l.94-2.06 2.06-.94-2.06-.94L8.5 2.5l-.94 2.06-2.06.94zm10 10l.94 2.06.94-2.06 2.06-.94-2.06-.94-.94-2.06-.94 2.06-2.06.94z\"/><path d=\"M17.41 7.96l-1.37-1.37c-.4-.4-.92-.59-1.43-.59-.52 0-1.04.2-1.43.59L10.3 9.45l-7.72 7.72c-.78.78-.78 2.05 0 2.83L4 21.41c.39.39.9.59 1.41.59.51 0 1.02-.2 1.41-.59l7.78-7.78 2.81-2.81c.8-.78.8-2.07 0-2.86zM5.41 20L4 18.59l7.72-7.72 1.47 1.35L5.41 20z\"/>\n",
              "  </svg>\n",
              "      </button>\n",
              "      \n",
              "  <style>\n",
              "    .colab-df-container {\n",
              "      display:flex;\n",
              "      flex-wrap:wrap;\n",
              "      gap: 12px;\n",
              "    }\n",
              "\n",
              "    .colab-df-convert {\n",
              "      background-color: #E8F0FE;\n",
              "      border: none;\n",
              "      border-radius: 50%;\n",
              "      cursor: pointer;\n",
              "      display: none;\n",
              "      fill: #1967D2;\n",
              "      height: 32px;\n",
              "      padding: 0 0 0 0;\n",
              "      width: 32px;\n",
              "    }\n",
              "\n",
              "    .colab-df-convert:hover {\n",
              "      background-color: #E2EBFA;\n",
              "      box-shadow: 0px 1px 2px rgba(60, 64, 67, 0.3), 0px 1px 3px 1px rgba(60, 64, 67, 0.15);\n",
              "      fill: #174EA6;\n",
              "    }\n",
              "\n",
              "    [theme=dark] .colab-df-convert {\n",
              "      background-color: #3B4455;\n",
              "      fill: #D2E3FC;\n",
              "    }\n",
              "\n",
              "    [theme=dark] .colab-df-convert:hover {\n",
              "      background-color: #434B5C;\n",
              "      box-shadow: 0px 1px 3px 1px rgba(0, 0, 0, 0.15);\n",
              "      filter: drop-shadow(0px 1px 2px rgba(0, 0, 0, 0.3));\n",
              "      fill: #FFFFFF;\n",
              "    }\n",
              "  </style>\n",
              "\n",
              "      <script>\n",
              "        const buttonEl =\n",
              "          document.querySelector('#df-98d35069-9734-4969-a3d4-bf601587c331 button.colab-df-convert');\n",
              "        buttonEl.style.display =\n",
              "          google.colab.kernel.accessAllowed ? 'block' : 'none';\n",
              "\n",
              "        async function convertToInteractive(key) {\n",
              "          const element = document.querySelector('#df-98d35069-9734-4969-a3d4-bf601587c331');\n",
              "          const dataTable =\n",
              "            await google.colab.kernel.invokeFunction('convertToInteractive',\n",
              "                                                     [key], {});\n",
              "          if (!dataTable) return;\n",
              "\n",
              "          const docLinkHtml = 'Like what you see? Visit the ' +\n",
              "            '<a target=\"_blank\" href=https://colab.research.google.com/notebooks/data_table.ipynb>data table notebook</a>'\n",
              "            + ' to learn more about interactive tables.';\n",
              "          element.innerHTML = '';\n",
              "          dataTable['output_type'] = 'display_data';\n",
              "          await google.colab.output.renderOutput(dataTable, element);\n",
              "          const docLink = document.createElement('div');\n",
              "          docLink.innerHTML = docLinkHtml;\n",
              "          element.appendChild(docLink);\n",
              "        }\n",
              "      </script>\n",
              "    </div>\n",
              "  </div>\n",
              "  "
            ]
          },
          "metadata": {},
          "execution_count": 111
        }
      ]
    },
    {
      "cell_type": "code",
      "source": [
        "df_walking.shape"
      ],
      "metadata": {
        "colab": {
          "base_uri": "https://localhost:8080/"
        },
        "id": "-zM1fo76mP4N",
        "outputId": "3ed98269-36a0-4030-ef95-736ea60ecb5c"
      },
      "execution_count": 112,
      "outputs": [
        {
          "output_type": "execute_result",
          "data": {
            "text/plain": [
              "(1850, 20)"
            ]
          },
          "metadata": {},
          "execution_count": 112
        }
      ]
    },
    {
      "cell_type": "markdown",
      "source": [
        "##Data for \"running\" + time domain features"
      ],
      "metadata": {
        "id": "ictuRaHhfq9k"
      }
    },
    {
      "cell_type": "code",
      "source": [
        "path = '/content/gdrive/MyDrive/DataScience/Homeworks/4th/data/'\n",
        "\n",
        "file_pattern = f'{path}running/running-*.csv'\n",
        "csv_files = glob.glob(file_pattern) # list of paths for patterns -1.scv\n",
        "\n",
        "df_running = pd.DataFrame()\n",
        "\n",
        "for file in csv_files:\n",
        "  if file.endswith('.csv'):\n",
        "    data = pd.read_csv(file)\n",
        "\n",
        "\n",
        "    feature_dict ={\n",
        "        'x-max': data.iloc[:, 0].max(),\n",
        "        'x-min': data.iloc[:, 0].min(),\n",
        "        'x-var': data.iloc[:, 0].var(),\n",
        "        'x-std': data.iloc[:, 0].std(),\n",
        "        'x-mdn': data.iloc[:, 0].median(),\n",
        "        'x-rms': np.sqrt(np.mean(data.iloc[:, 0]**2)),\n",
        "        'x-MCE': -(data.iloc[:, 0].value_counts(normalize=True)*data.iloc[:, 0].value_counts(normalize=True).apply(lambda x:math.log2(x))).sum(),\n",
        "        'x-skew': scipy.stats.skew(data.iloc[:,0]),\n",
        "        'x-iqr': scipy.stats.iqr(data.iloc[:,0]),\n",
        "        'y-max': data.iloc[:, 1].max(),\n",
        "        'y-min': data.iloc[:, 1].min(),\n",
        "        'y-var': data.iloc[:, 1].var(),\n",
        "        'y-std': data.iloc[:, 1].std(),\n",
        "        'y-mdn': data.iloc[:, 1].median(),\n",
        "        'y-rms': np.sqrt(np.mean(data.iloc[:, 1]**2)),\n",
        "        'y-MCE': -(data.iloc[:, 1].value_counts(normalize=True)*data.iloc[:, 1].value_counts(normalize=True).apply(lambda x:math.log2(x))).sum(),\n",
        "        'y-skew': scipy.stats.skew(data.iloc[:,1]),\n",
        "        'y-iqr': scipy.stats.iqr(data.iloc[:,1]),\n",
        "        'z-skew': data.iloc[:, 2].skew(),\n",
        "        'Field': 2\n",
        "    }\n",
        "\n",
        "    df_features = pd.DataFrame(feature_dict, index=[0])\n",
        "    df_running = pd.concat([df_running, df_features], ignore_index=True)\n",
        "\n",
        "df_running.head()"
      ],
      "metadata": {
        "colab": {
          "base_uri": "https://localhost:8080/",
          "height": 268
        },
        "id": "nlBX7N3rfueV",
        "outputId": "ef42722d-4bd0-4fbb-933b-dc1be0d0c7e7"
      },
      "execution_count": 113,
      "outputs": [
        {
          "output_type": "execute_result",
          "data": {
            "text/plain": [
              "       x-max     x-min       x-var      x-std     x-mdn      x-rms     x-MCE  \\\n",
              "0  15.567100 -8.130708   35.674329   5.972799  2.937685   6.667067  4.906891   \n",
              "1  28.562826 -6.019023   93.214922   9.654788  1.570596  10.875677  4.906891   \n",
              "2  37.703888 -6.110002  111.944568  10.580386  2.430115  11.925570  4.906891   \n",
              "3  30.521284 -9.370906   76.012152   8.718495  3.141192   9.644280  4.906891   \n",
              "4  36.181175 -7.599196  111.541313  10.561312  8.446744  14.364762  4.906891   \n",
              "\n",
              "     x-skew      x-iqr      y-max      y-min       y-var      y-std     y-mdn  \\\n",
              "0 -0.144999   9.382877  31.335312 -14.245501  178.751233  13.369788  8.058883   \n",
              "1  1.235417   9.333795  31.991323 -13.273455  168.817375  12.992974  6.873753   \n",
              "2  1.644394   7.159861  24.195803 -12.660539   82.810669   9.100037  7.216124   \n",
              "3  1.202614  11.112687  34.093433 -18.296490  230.906635  15.195612  3.375825   \n",
              "4  0.487009  16.853983  31.469387 -20.025103  147.384702  12.140210  9.323021   \n",
              "\n",
              "       y-rms     y-MCE    y-skew      y-iqr    z-skew  Field  \n",
              "0  15.463741  4.906891  0.104703  21.894973  0.572817      2  \n",
              "1  14.682597  4.906891  0.049224  17.859547  0.776921      2  \n",
              "2  10.304556  4.906891 -0.046184  10.356120  1.562348      2  \n",
              "3  15.956768  4.906891  0.443102  21.796812  0.254628      2  \n",
              "4  14.225219  4.906891 -0.396275  14.672865  1.517986      2  "
            ],
            "text/html": [
              "\n",
              "  <div id=\"df-8de28682-f174-4358-b174-4ea05ea35a7c\">\n",
              "    <div class=\"colab-df-container\">\n",
              "      <div>\n",
              "<style scoped>\n",
              "    .dataframe tbody tr th:only-of-type {\n",
              "        vertical-align: middle;\n",
              "    }\n",
              "\n",
              "    .dataframe tbody tr th {\n",
              "        vertical-align: top;\n",
              "    }\n",
              "\n",
              "    .dataframe thead th {\n",
              "        text-align: right;\n",
              "    }\n",
              "</style>\n",
              "<table border=\"1\" class=\"dataframe\">\n",
              "  <thead>\n",
              "    <tr style=\"text-align: right;\">\n",
              "      <th></th>\n",
              "      <th>x-max</th>\n",
              "      <th>x-min</th>\n",
              "      <th>x-var</th>\n",
              "      <th>x-std</th>\n",
              "      <th>x-mdn</th>\n",
              "      <th>x-rms</th>\n",
              "      <th>x-MCE</th>\n",
              "      <th>x-skew</th>\n",
              "      <th>x-iqr</th>\n",
              "      <th>y-max</th>\n",
              "      <th>y-min</th>\n",
              "      <th>y-var</th>\n",
              "      <th>y-std</th>\n",
              "      <th>y-mdn</th>\n",
              "      <th>y-rms</th>\n",
              "      <th>y-MCE</th>\n",
              "      <th>y-skew</th>\n",
              "      <th>y-iqr</th>\n",
              "      <th>z-skew</th>\n",
              "      <th>Field</th>\n",
              "    </tr>\n",
              "  </thead>\n",
              "  <tbody>\n",
              "    <tr>\n",
              "      <th>0</th>\n",
              "      <td>15.567100</td>\n",
              "      <td>-8.130708</td>\n",
              "      <td>35.674329</td>\n",
              "      <td>5.972799</td>\n",
              "      <td>2.937685</td>\n",
              "      <td>6.667067</td>\n",
              "      <td>4.906891</td>\n",
              "      <td>-0.144999</td>\n",
              "      <td>9.382877</td>\n",
              "      <td>31.335312</td>\n",
              "      <td>-14.245501</td>\n",
              "      <td>178.751233</td>\n",
              "      <td>13.369788</td>\n",
              "      <td>8.058883</td>\n",
              "      <td>15.463741</td>\n",
              "      <td>4.906891</td>\n",
              "      <td>0.104703</td>\n",
              "      <td>21.894973</td>\n",
              "      <td>0.572817</td>\n",
              "      <td>2</td>\n",
              "    </tr>\n",
              "    <tr>\n",
              "      <th>1</th>\n",
              "      <td>28.562826</td>\n",
              "      <td>-6.019023</td>\n",
              "      <td>93.214922</td>\n",
              "      <td>9.654788</td>\n",
              "      <td>1.570596</td>\n",
              "      <td>10.875677</td>\n",
              "      <td>4.906891</td>\n",
              "      <td>1.235417</td>\n",
              "      <td>9.333795</td>\n",
              "      <td>31.991323</td>\n",
              "      <td>-13.273455</td>\n",
              "      <td>168.817375</td>\n",
              "      <td>12.992974</td>\n",
              "      <td>6.873753</td>\n",
              "      <td>14.682597</td>\n",
              "      <td>4.906891</td>\n",
              "      <td>0.049224</td>\n",
              "      <td>17.859547</td>\n",
              "      <td>0.776921</td>\n",
              "      <td>2</td>\n",
              "    </tr>\n",
              "    <tr>\n",
              "      <th>2</th>\n",
              "      <td>37.703888</td>\n",
              "      <td>-6.110002</td>\n",
              "      <td>111.944568</td>\n",
              "      <td>10.580386</td>\n",
              "      <td>2.430115</td>\n",
              "      <td>11.925570</td>\n",
              "      <td>4.906891</td>\n",
              "      <td>1.644394</td>\n",
              "      <td>7.159861</td>\n",
              "      <td>24.195803</td>\n",
              "      <td>-12.660539</td>\n",
              "      <td>82.810669</td>\n",
              "      <td>9.100037</td>\n",
              "      <td>7.216124</td>\n",
              "      <td>10.304556</td>\n",
              "      <td>4.906891</td>\n",
              "      <td>-0.046184</td>\n",
              "      <td>10.356120</td>\n",
              "      <td>1.562348</td>\n",
              "      <td>2</td>\n",
              "    </tr>\n",
              "    <tr>\n",
              "      <th>3</th>\n",
              "      <td>30.521284</td>\n",
              "      <td>-9.370906</td>\n",
              "      <td>76.012152</td>\n",
              "      <td>8.718495</td>\n",
              "      <td>3.141192</td>\n",
              "      <td>9.644280</td>\n",
              "      <td>4.906891</td>\n",
              "      <td>1.202614</td>\n",
              "      <td>11.112687</td>\n",
              "      <td>34.093433</td>\n",
              "      <td>-18.296490</td>\n",
              "      <td>230.906635</td>\n",
              "      <td>15.195612</td>\n",
              "      <td>3.375825</td>\n",
              "      <td>15.956768</td>\n",
              "      <td>4.906891</td>\n",
              "      <td>0.443102</td>\n",
              "      <td>21.796812</td>\n",
              "      <td>0.254628</td>\n",
              "      <td>2</td>\n",
              "    </tr>\n",
              "    <tr>\n",
              "      <th>4</th>\n",
              "      <td>36.181175</td>\n",
              "      <td>-7.599196</td>\n",
              "      <td>111.541313</td>\n",
              "      <td>10.561312</td>\n",
              "      <td>8.446744</td>\n",
              "      <td>14.364762</td>\n",
              "      <td>4.906891</td>\n",
              "      <td>0.487009</td>\n",
              "      <td>16.853983</td>\n",
              "      <td>31.469387</td>\n",
              "      <td>-20.025103</td>\n",
              "      <td>147.384702</td>\n",
              "      <td>12.140210</td>\n",
              "      <td>9.323021</td>\n",
              "      <td>14.225219</td>\n",
              "      <td>4.906891</td>\n",
              "      <td>-0.396275</td>\n",
              "      <td>14.672865</td>\n",
              "      <td>1.517986</td>\n",
              "      <td>2</td>\n",
              "    </tr>\n",
              "  </tbody>\n",
              "</table>\n",
              "</div>\n",
              "      <button class=\"colab-df-convert\" onclick=\"convertToInteractive('df-8de28682-f174-4358-b174-4ea05ea35a7c')\"\n",
              "              title=\"Convert this dataframe to an interactive table.\"\n",
              "              style=\"display:none;\">\n",
              "        \n",
              "  <svg xmlns=\"http://www.w3.org/2000/svg\" height=\"24px\"viewBox=\"0 0 24 24\"\n",
              "       width=\"24px\">\n",
              "    <path d=\"M0 0h24v24H0V0z\" fill=\"none\"/>\n",
              "    <path d=\"M18.56 5.44l.94 2.06.94-2.06 2.06-.94-2.06-.94-.94-2.06-.94 2.06-2.06.94zm-11 1L8.5 8.5l.94-2.06 2.06-.94-2.06-.94L8.5 2.5l-.94 2.06-2.06.94zm10 10l.94 2.06.94-2.06 2.06-.94-2.06-.94-.94-2.06-.94 2.06-2.06.94z\"/><path d=\"M17.41 7.96l-1.37-1.37c-.4-.4-.92-.59-1.43-.59-.52 0-1.04.2-1.43.59L10.3 9.45l-7.72 7.72c-.78.78-.78 2.05 0 2.83L4 21.41c.39.39.9.59 1.41.59.51 0 1.02-.2 1.41-.59l7.78-7.78 2.81-2.81c.8-.78.8-2.07 0-2.86zM5.41 20L4 18.59l7.72-7.72 1.47 1.35L5.41 20z\"/>\n",
              "  </svg>\n",
              "      </button>\n",
              "      \n",
              "  <style>\n",
              "    .colab-df-container {\n",
              "      display:flex;\n",
              "      flex-wrap:wrap;\n",
              "      gap: 12px;\n",
              "    }\n",
              "\n",
              "    .colab-df-convert {\n",
              "      background-color: #E8F0FE;\n",
              "      border: none;\n",
              "      border-radius: 50%;\n",
              "      cursor: pointer;\n",
              "      display: none;\n",
              "      fill: #1967D2;\n",
              "      height: 32px;\n",
              "      padding: 0 0 0 0;\n",
              "      width: 32px;\n",
              "    }\n",
              "\n",
              "    .colab-df-convert:hover {\n",
              "      background-color: #E2EBFA;\n",
              "      box-shadow: 0px 1px 2px rgba(60, 64, 67, 0.3), 0px 1px 3px 1px rgba(60, 64, 67, 0.15);\n",
              "      fill: #174EA6;\n",
              "    }\n",
              "\n",
              "    [theme=dark] .colab-df-convert {\n",
              "      background-color: #3B4455;\n",
              "      fill: #D2E3FC;\n",
              "    }\n",
              "\n",
              "    [theme=dark] .colab-df-convert:hover {\n",
              "      background-color: #434B5C;\n",
              "      box-shadow: 0px 1px 3px 1px rgba(0, 0, 0, 0.15);\n",
              "      filter: drop-shadow(0px 1px 2px rgba(0, 0, 0, 0.3));\n",
              "      fill: #FFFFFF;\n",
              "    }\n",
              "  </style>\n",
              "\n",
              "      <script>\n",
              "        const buttonEl =\n",
              "          document.querySelector('#df-8de28682-f174-4358-b174-4ea05ea35a7c button.colab-df-convert');\n",
              "        buttonEl.style.display =\n",
              "          google.colab.kernel.accessAllowed ? 'block' : 'none';\n",
              "\n",
              "        async function convertToInteractive(key) {\n",
              "          const element = document.querySelector('#df-8de28682-f174-4358-b174-4ea05ea35a7c');\n",
              "          const dataTable =\n",
              "            await google.colab.kernel.invokeFunction('convertToInteractive',\n",
              "                                                     [key], {});\n",
              "          if (!dataTable) return;\n",
              "\n",
              "          const docLinkHtml = 'Like what you see? Visit the ' +\n",
              "            '<a target=\"_blank\" href=https://colab.research.google.com/notebooks/data_table.ipynb>data table notebook</a>'\n",
              "            + ' to learn more about interactive tables.';\n",
              "          element.innerHTML = '';\n",
              "          dataTable['output_type'] = 'display_data';\n",
              "          await google.colab.output.renderOutput(dataTable, element);\n",
              "          const docLink = document.createElement('div');\n",
              "          docLink.innerHTML = docLinkHtml;\n",
              "          element.appendChild(docLink);\n",
              "        }\n",
              "      </script>\n",
              "    </div>\n",
              "  </div>\n",
              "  "
            ]
          },
          "metadata": {},
          "execution_count": 113
        }
      ]
    },
    {
      "cell_type": "code",
      "source": [
        "df_running.shape"
      ],
      "metadata": {
        "colab": {
          "base_uri": "https://localhost:8080/"
        },
        "id": "hyOfU0oWl9lE",
        "outputId": "8cb28b53-f33e-4bb0-b420-2306dcf89fee"
      },
      "execution_count": 114,
      "outputs": [
        {
          "output_type": "execute_result",
          "data": {
            "text/plain": [
              "(3408, 20)"
            ]
          },
          "metadata": {},
          "execution_count": 114
        }
      ]
    },
    {
      "cell_type": "markdown",
      "source": [
        "##Data for \"stairs\" + time domain features"
      ],
      "metadata": {
        "id": "7rYoZRobmU1F"
      }
    },
    {
      "cell_type": "code",
      "source": [
        "path = '/content/gdrive/MyDrive/DataScience/Homeworks/4th/data/'\n",
        "\n",
        "file_pattern = f'{path}stairs/stairs-*.csv'\n",
        "csv_files = glob.glob(file_pattern) # list of paths for patterns -1.scv\n",
        "\n",
        "df_stairs = pd.DataFrame()\n",
        "\n",
        "for file in csv_files:\n",
        "  if file.endswith('.csv'):\n",
        "    data = pd.read_csv(file)\n",
        "\n",
        "    features_dict = {\n",
        "        'x-max': data.iloc[:, 0].max(),\n",
        "        'x-min': data.iloc[:, 0].min(),\n",
        "        'x-var': data.iloc[:, 0].var(),\n",
        "        'x-std': data.iloc[:, 0].std(),\n",
        "        'x-mdn': data.iloc[:, 0].median(),\n",
        "        'x-rms': np.sqrt(np.mean(data.iloc[:, 0]**2)),\n",
        "        'x-MCE': -(data.iloc[:, 0].value_counts(normalize=True)*data.iloc[:, 0].value_counts(normalize=True).apply(lambda x:math.log2(x))).sum(),\n",
        "        'x-skew': scipy.stats.skew(data.iloc[:,0]),\n",
        "        'x-iqr': scipy.stats.iqr(data.iloc[:,0]),\n",
        "        'y-max': data.iloc[:, 1].max(),\n",
        "        'y-min': data.iloc[:, 1].min(),\n",
        "        'y-var': data.iloc[:, 1].var(),\n",
        "        'y-std': data.iloc[:, 1].std(),\n",
        "        'y-mdn': data.iloc[:, 1].median(),\n",
        "        'y-rms': np.sqrt(np.mean(data.iloc[:, 1]**2)),\n",
        "        'y-MCE': -(data.iloc[:, 1].value_counts(normalize=True)*data.iloc[:, 1].value_counts(normalize=True).apply(lambda x:math.log2(x))).sum(),\n",
        "        'y-skew': scipy.stats.skew(data.iloc[:,1]),\n",
        "        'y-iqr': scipy.stats.iqr(data.iloc[:,1]),\n",
        "        'z-skew': data.iloc[:, 2].skew(),\n",
        "        'Field': 3\n",
        "    }\n",
        "\n",
        "    df_features = pd.DataFrame(feature_dict, index=[0])\n",
        "    df_stairs = pd.concat([df_stairs, df_features], ignore_index=True)\n",
        "\n",
        "df_stairs.head()"
      ],
      "metadata": {
        "colab": {
          "base_uri": "https://localhost:8080/",
          "height": 268
        },
        "id": "JKYboXfEmWFg",
        "outputId": "b33e247d-fce4-470e-ab2b-9acc993495de"
      },
      "execution_count": 63,
      "outputs": [
        {
          "output_type": "execute_result",
          "data": {
            "text/plain": [
              "       x-max      x-min      x-var     x-std     x-mdn      x-rms     x-MCE  \\\n",
              "0  28.146235 -27.763163  123.11589  11.09576  3.442862  11.963818  4.840224   \n",
              "1  28.146235 -27.763163  123.11589  11.09576  3.442862  11.963818  4.840224   \n",
              "2  28.146235 -27.763163  123.11589  11.09576  3.442862  11.963818  4.840224   \n",
              "3  28.146235 -27.763163  123.11589  11.09576  3.442862  11.963818  4.840224   \n",
              "4  28.146235 -27.763163  123.11589  11.09576  3.442862  11.963818  4.840224   \n",
              "\n",
              "     x-skew      x-iqr     y-max     y-min       y-var      y-std     y-mdn  \\\n",
              "0 -0.297029  12.735956  30.89478 -5.746084  112.569927  10.609898  8.248025   \n",
              "1 -0.297029  12.735956  30.89478 -5.746084  112.569927  10.609898  8.248025   \n",
              "2 -0.297029  12.735956  30.89478 -5.746084  112.569927  10.609898  8.248025   \n",
              "3 -0.297029  12.735956  30.89478 -5.746084  112.569927  10.609898  8.248025   \n",
              "4 -0.297029  12.735956  30.89478 -5.746084  112.569927  10.609898  8.248025   \n",
              "\n",
              "       y-rms     y-MCE    y-skew      y-iqr    z-skew  Field  \n",
              "0  13.824643  4.906891  0.477301  13.735535 -0.215187      2  \n",
              "1  13.824643  4.906891  0.477301  13.735535 -0.215187      2  \n",
              "2  13.824643  4.906891  0.477301  13.735535 -0.215187      2  \n",
              "3  13.824643  4.906891  0.477301  13.735535 -0.215187      2  \n",
              "4  13.824643  4.906891  0.477301  13.735535 -0.215187      2  "
            ],
            "text/html": [
              "\n",
              "  <div id=\"df-d63a3600-2d2a-44b9-ad2f-ac264331ec27\">\n",
              "    <div class=\"colab-df-container\">\n",
              "      <div>\n",
              "<style scoped>\n",
              "    .dataframe tbody tr th:only-of-type {\n",
              "        vertical-align: middle;\n",
              "    }\n",
              "\n",
              "    .dataframe tbody tr th {\n",
              "        vertical-align: top;\n",
              "    }\n",
              "\n",
              "    .dataframe thead th {\n",
              "        text-align: right;\n",
              "    }\n",
              "</style>\n",
              "<table border=\"1\" class=\"dataframe\">\n",
              "  <thead>\n",
              "    <tr style=\"text-align: right;\">\n",
              "      <th></th>\n",
              "      <th>x-max</th>\n",
              "      <th>x-min</th>\n",
              "      <th>x-var</th>\n",
              "      <th>x-std</th>\n",
              "      <th>x-mdn</th>\n",
              "      <th>x-rms</th>\n",
              "      <th>x-MCE</th>\n",
              "      <th>x-skew</th>\n",
              "      <th>x-iqr</th>\n",
              "      <th>y-max</th>\n",
              "      <th>y-min</th>\n",
              "      <th>y-var</th>\n",
              "      <th>y-std</th>\n",
              "      <th>y-mdn</th>\n",
              "      <th>y-rms</th>\n",
              "      <th>y-MCE</th>\n",
              "      <th>y-skew</th>\n",
              "      <th>y-iqr</th>\n",
              "      <th>z-skew</th>\n",
              "      <th>Field</th>\n",
              "    </tr>\n",
              "  </thead>\n",
              "  <tbody>\n",
              "    <tr>\n",
              "      <th>0</th>\n",
              "      <td>28.146235</td>\n",
              "      <td>-27.763163</td>\n",
              "      <td>123.11589</td>\n",
              "      <td>11.09576</td>\n",
              "      <td>3.442862</td>\n",
              "      <td>11.963818</td>\n",
              "      <td>4.840224</td>\n",
              "      <td>-0.297029</td>\n",
              "      <td>12.735956</td>\n",
              "      <td>30.89478</td>\n",
              "      <td>-5.746084</td>\n",
              "      <td>112.569927</td>\n",
              "      <td>10.609898</td>\n",
              "      <td>8.248025</td>\n",
              "      <td>13.824643</td>\n",
              "      <td>4.906891</td>\n",
              "      <td>0.477301</td>\n",
              "      <td>13.735535</td>\n",
              "      <td>-0.215187</td>\n",
              "      <td>2</td>\n",
              "    </tr>\n",
              "    <tr>\n",
              "      <th>1</th>\n",
              "      <td>28.146235</td>\n",
              "      <td>-27.763163</td>\n",
              "      <td>123.11589</td>\n",
              "      <td>11.09576</td>\n",
              "      <td>3.442862</td>\n",
              "      <td>11.963818</td>\n",
              "      <td>4.840224</td>\n",
              "      <td>-0.297029</td>\n",
              "      <td>12.735956</td>\n",
              "      <td>30.89478</td>\n",
              "      <td>-5.746084</td>\n",
              "      <td>112.569927</td>\n",
              "      <td>10.609898</td>\n",
              "      <td>8.248025</td>\n",
              "      <td>13.824643</td>\n",
              "      <td>4.906891</td>\n",
              "      <td>0.477301</td>\n",
              "      <td>13.735535</td>\n",
              "      <td>-0.215187</td>\n",
              "      <td>2</td>\n",
              "    </tr>\n",
              "    <tr>\n",
              "      <th>2</th>\n",
              "      <td>28.146235</td>\n",
              "      <td>-27.763163</td>\n",
              "      <td>123.11589</td>\n",
              "      <td>11.09576</td>\n",
              "      <td>3.442862</td>\n",
              "      <td>11.963818</td>\n",
              "      <td>4.840224</td>\n",
              "      <td>-0.297029</td>\n",
              "      <td>12.735956</td>\n",
              "      <td>30.89478</td>\n",
              "      <td>-5.746084</td>\n",
              "      <td>112.569927</td>\n",
              "      <td>10.609898</td>\n",
              "      <td>8.248025</td>\n",
              "      <td>13.824643</td>\n",
              "      <td>4.906891</td>\n",
              "      <td>0.477301</td>\n",
              "      <td>13.735535</td>\n",
              "      <td>-0.215187</td>\n",
              "      <td>2</td>\n",
              "    </tr>\n",
              "    <tr>\n",
              "      <th>3</th>\n",
              "      <td>28.146235</td>\n",
              "      <td>-27.763163</td>\n",
              "      <td>123.11589</td>\n",
              "      <td>11.09576</td>\n",
              "      <td>3.442862</td>\n",
              "      <td>11.963818</td>\n",
              "      <td>4.840224</td>\n",
              "      <td>-0.297029</td>\n",
              "      <td>12.735956</td>\n",
              "      <td>30.89478</td>\n",
              "      <td>-5.746084</td>\n",
              "      <td>112.569927</td>\n",
              "      <td>10.609898</td>\n",
              "      <td>8.248025</td>\n",
              "      <td>13.824643</td>\n",
              "      <td>4.906891</td>\n",
              "      <td>0.477301</td>\n",
              "      <td>13.735535</td>\n",
              "      <td>-0.215187</td>\n",
              "      <td>2</td>\n",
              "    </tr>\n",
              "    <tr>\n",
              "      <th>4</th>\n",
              "      <td>28.146235</td>\n",
              "      <td>-27.763163</td>\n",
              "      <td>123.11589</td>\n",
              "      <td>11.09576</td>\n",
              "      <td>3.442862</td>\n",
              "      <td>11.963818</td>\n",
              "      <td>4.840224</td>\n",
              "      <td>-0.297029</td>\n",
              "      <td>12.735956</td>\n",
              "      <td>30.89478</td>\n",
              "      <td>-5.746084</td>\n",
              "      <td>112.569927</td>\n",
              "      <td>10.609898</td>\n",
              "      <td>8.248025</td>\n",
              "      <td>13.824643</td>\n",
              "      <td>4.906891</td>\n",
              "      <td>0.477301</td>\n",
              "      <td>13.735535</td>\n",
              "      <td>-0.215187</td>\n",
              "      <td>2</td>\n",
              "    </tr>\n",
              "  </tbody>\n",
              "</table>\n",
              "</div>\n",
              "      <button class=\"colab-df-convert\" onclick=\"convertToInteractive('df-d63a3600-2d2a-44b9-ad2f-ac264331ec27')\"\n",
              "              title=\"Convert this dataframe to an interactive table.\"\n",
              "              style=\"display:none;\">\n",
              "        \n",
              "  <svg xmlns=\"http://www.w3.org/2000/svg\" height=\"24px\"viewBox=\"0 0 24 24\"\n",
              "       width=\"24px\">\n",
              "    <path d=\"M0 0h24v24H0V0z\" fill=\"none\"/>\n",
              "    <path d=\"M18.56 5.44l.94 2.06.94-2.06 2.06-.94-2.06-.94-.94-2.06-.94 2.06-2.06.94zm-11 1L8.5 8.5l.94-2.06 2.06-.94-2.06-.94L8.5 2.5l-.94 2.06-2.06.94zm10 10l.94 2.06.94-2.06 2.06-.94-2.06-.94-.94-2.06-.94 2.06-2.06.94z\"/><path d=\"M17.41 7.96l-1.37-1.37c-.4-.4-.92-.59-1.43-.59-.52 0-1.04.2-1.43.59L10.3 9.45l-7.72 7.72c-.78.78-.78 2.05 0 2.83L4 21.41c.39.39.9.59 1.41.59.51 0 1.02-.2 1.41-.59l7.78-7.78 2.81-2.81c.8-.78.8-2.07 0-2.86zM5.41 20L4 18.59l7.72-7.72 1.47 1.35L5.41 20z\"/>\n",
              "  </svg>\n",
              "      </button>\n",
              "      \n",
              "  <style>\n",
              "    .colab-df-container {\n",
              "      display:flex;\n",
              "      flex-wrap:wrap;\n",
              "      gap: 12px;\n",
              "    }\n",
              "\n",
              "    .colab-df-convert {\n",
              "      background-color: #E8F0FE;\n",
              "      border: none;\n",
              "      border-radius: 50%;\n",
              "      cursor: pointer;\n",
              "      display: none;\n",
              "      fill: #1967D2;\n",
              "      height: 32px;\n",
              "      padding: 0 0 0 0;\n",
              "      width: 32px;\n",
              "    }\n",
              "\n",
              "    .colab-df-convert:hover {\n",
              "      background-color: #E2EBFA;\n",
              "      box-shadow: 0px 1px 2px rgba(60, 64, 67, 0.3), 0px 1px 3px 1px rgba(60, 64, 67, 0.15);\n",
              "      fill: #174EA6;\n",
              "    }\n",
              "\n",
              "    [theme=dark] .colab-df-convert {\n",
              "      background-color: #3B4455;\n",
              "      fill: #D2E3FC;\n",
              "    }\n",
              "\n",
              "    [theme=dark] .colab-df-convert:hover {\n",
              "      background-color: #434B5C;\n",
              "      box-shadow: 0px 1px 3px 1px rgba(0, 0, 0, 0.15);\n",
              "      filter: drop-shadow(0px 1px 2px rgba(0, 0, 0, 0.3));\n",
              "      fill: #FFFFFF;\n",
              "    }\n",
              "  </style>\n",
              "\n",
              "      <script>\n",
              "        const buttonEl =\n",
              "          document.querySelector('#df-d63a3600-2d2a-44b9-ad2f-ac264331ec27 button.colab-df-convert');\n",
              "        buttonEl.style.display =\n",
              "          google.colab.kernel.accessAllowed ? 'block' : 'none';\n",
              "\n",
              "        async function convertToInteractive(key) {\n",
              "          const element = document.querySelector('#df-d63a3600-2d2a-44b9-ad2f-ac264331ec27');\n",
              "          const dataTable =\n",
              "            await google.colab.kernel.invokeFunction('convertToInteractive',\n",
              "                                                     [key], {});\n",
              "          if (!dataTable) return;\n",
              "\n",
              "          const docLinkHtml = 'Like what you see? Visit the ' +\n",
              "            '<a target=\"_blank\" href=https://colab.research.google.com/notebooks/data_table.ipynb>data table notebook</a>'\n",
              "            + ' to learn more about interactive tables.';\n",
              "          element.innerHTML = '';\n",
              "          dataTable['output_type'] = 'display_data';\n",
              "          await google.colab.output.renderOutput(dataTable, element);\n",
              "          const docLink = document.createElement('div');\n",
              "          docLink.innerHTML = docLinkHtml;\n",
              "          element.appendChild(docLink);\n",
              "        }\n",
              "      </script>\n",
              "    </div>\n",
              "  </div>\n",
              "  "
            ]
          },
          "metadata": {},
          "execution_count": 63
        }
      ]
    },
    {
      "cell_type": "code",
      "source": [
        "df_stairs.shape"
      ],
      "metadata": {
        "colab": {
          "base_uri": "https://localhost:8080/"
        },
        "id": "OWzhGoIKpuSZ",
        "outputId": "fa30ab3c-c178-4231-d127-e4846d3179e7"
      },
      "execution_count": 115,
      "outputs": [
        {
          "output_type": "execute_result",
          "data": {
            "text/plain": [
              "(165, 20)"
            ]
          },
          "metadata": {},
          "execution_count": 115
        }
      ]
    },
    {
      "cell_type": "markdown",
      "source": [
        "##Data for \"idle\" + time domain features"
      ],
      "metadata": {
        "id": "v7jIGoa-qRzX"
      }
    },
    {
      "cell_type": "code",
      "source": [
        "path = '/content/gdrive/MyDrive/DataScience/Homeworks/4th/data/'\n",
        "\n",
        "file_pattern = f'{path}idle/idle-*.csv'\n",
        "csv_files = glob.glob(file_pattern) # list of paths for patterns -1.scv\n",
        "\n",
        "df_idle = pd.DataFrame()\n",
        "\n",
        "for file in csv_files:\n",
        "  if file.endswith('.csv'):\n",
        "    data = pd.read_csv(file)\n",
        "\n",
        "    features_dict = {\n",
        "        'x-max': data.iloc[:, 0].max(),\n",
        "        'x-min': data.iloc[:, 0].min(),\n",
        "        'x-var': data.iloc[:, 0].var(),\n",
        "        'x-std': data.iloc[:, 0].std(),\n",
        "        'x-mdn': data.iloc[:, 0].median(),\n",
        "        'x-rms': np.sqrt(np.mean(data.iloc[:, 0]**2)),\n",
        "        'x-MCE': -(data.iloc[:, 0].value_counts(normalize=True)*data.iloc[:, 0].value_counts(normalize=True).apply(lambda x:math.log2(x))).sum(),\n",
        "        'x-skew': scipy.stats.skew(data.iloc[:,0]),\n",
        "        'x-iqr': scipy.stats.iqr(data.iloc[:,0]),\n",
        "        'y-max': data.iloc[:, 1].max(),\n",
        "        'y-min': data.iloc[:, 1].min(),\n",
        "        'y-var': data.iloc[:, 1].var(),\n",
        "        'y-std': data.iloc[:, 1].std(),\n",
        "        'y-mdn': data.iloc[:, 1].median(),\n",
        "        'y-rms': np.sqrt(np.mean(data.iloc[:, 1]**2)),\n",
        "        'y-MCE': -(data.iloc[:, 1].value_counts(normalize=True)*data.iloc[:, 1].value_counts(normalize=True).apply(lambda x:math.log2(x))).sum(),\n",
        "        'y-skew': scipy.stats.skew(data.iloc[:,1]),\n",
        "        'y-iqr': scipy.stats.iqr(data.iloc[:,1]),\n",
        "        'z-skew': data.iloc[:, 2].skew(),\n",
        "        'Field': 4\n",
        "    }\n",
        "\n",
        "    df_features = pd.DataFrame(feature_dict, index=[0])\n",
        "    df_idle = pd.concat([df_idle, df_features], ignore_index=True)\n",
        "\n",
        "df_idle.head()"
      ],
      "metadata": {
        "colab": {
          "base_uri": "https://localhost:8080/",
          "height": 268
        },
        "id": "Y8HV684mqVvr",
        "outputId": "25c4f114-920b-411a-bc7e-487509edda01"
      },
      "execution_count": 65,
      "outputs": [
        {
          "output_type": "execute_result",
          "data": {
            "text/plain": [
              "       x-max      x-min      x-var     x-std     x-mdn      x-rms     x-MCE  \\\n",
              "0  28.146235 -27.763163  123.11589  11.09576  3.442862  11.963818  4.840224   \n",
              "1  28.146235 -27.763163  123.11589  11.09576  3.442862  11.963818  4.840224   \n",
              "2  28.146235 -27.763163  123.11589  11.09576  3.442862  11.963818  4.840224   \n",
              "3  28.146235 -27.763163  123.11589  11.09576  3.442862  11.963818  4.840224   \n",
              "4  28.146235 -27.763163  123.11589  11.09576  3.442862  11.963818  4.840224   \n",
              "\n",
              "     x-skew      x-iqr     y-max     y-min       y-var      y-std     y-mdn  \\\n",
              "0 -0.297029  12.735956  30.89478 -5.746084  112.569927  10.609898  8.248025   \n",
              "1 -0.297029  12.735956  30.89478 -5.746084  112.569927  10.609898  8.248025   \n",
              "2 -0.297029  12.735956  30.89478 -5.746084  112.569927  10.609898  8.248025   \n",
              "3 -0.297029  12.735956  30.89478 -5.746084  112.569927  10.609898  8.248025   \n",
              "4 -0.297029  12.735956  30.89478 -5.746084  112.569927  10.609898  8.248025   \n",
              "\n",
              "       y-rms     y-MCE    y-skew      y-iqr    z-skew  Field  \n",
              "0  13.824643  4.906891  0.477301  13.735535 -0.215187      2  \n",
              "1  13.824643  4.906891  0.477301  13.735535 -0.215187      2  \n",
              "2  13.824643  4.906891  0.477301  13.735535 -0.215187      2  \n",
              "3  13.824643  4.906891  0.477301  13.735535 -0.215187      2  \n",
              "4  13.824643  4.906891  0.477301  13.735535 -0.215187      2  "
            ],
            "text/html": [
              "\n",
              "  <div id=\"df-4ad90ce4-fc9c-4d42-890d-67be8c4fe4ce\">\n",
              "    <div class=\"colab-df-container\">\n",
              "      <div>\n",
              "<style scoped>\n",
              "    .dataframe tbody tr th:only-of-type {\n",
              "        vertical-align: middle;\n",
              "    }\n",
              "\n",
              "    .dataframe tbody tr th {\n",
              "        vertical-align: top;\n",
              "    }\n",
              "\n",
              "    .dataframe thead th {\n",
              "        text-align: right;\n",
              "    }\n",
              "</style>\n",
              "<table border=\"1\" class=\"dataframe\">\n",
              "  <thead>\n",
              "    <tr style=\"text-align: right;\">\n",
              "      <th></th>\n",
              "      <th>x-max</th>\n",
              "      <th>x-min</th>\n",
              "      <th>x-var</th>\n",
              "      <th>x-std</th>\n",
              "      <th>x-mdn</th>\n",
              "      <th>x-rms</th>\n",
              "      <th>x-MCE</th>\n",
              "      <th>x-skew</th>\n",
              "      <th>x-iqr</th>\n",
              "      <th>y-max</th>\n",
              "      <th>y-min</th>\n",
              "      <th>y-var</th>\n",
              "      <th>y-std</th>\n",
              "      <th>y-mdn</th>\n",
              "      <th>y-rms</th>\n",
              "      <th>y-MCE</th>\n",
              "      <th>y-skew</th>\n",
              "      <th>y-iqr</th>\n",
              "      <th>z-skew</th>\n",
              "      <th>Field</th>\n",
              "    </tr>\n",
              "  </thead>\n",
              "  <tbody>\n",
              "    <tr>\n",
              "      <th>0</th>\n",
              "      <td>28.146235</td>\n",
              "      <td>-27.763163</td>\n",
              "      <td>123.11589</td>\n",
              "      <td>11.09576</td>\n",
              "      <td>3.442862</td>\n",
              "      <td>11.963818</td>\n",
              "      <td>4.840224</td>\n",
              "      <td>-0.297029</td>\n",
              "      <td>12.735956</td>\n",
              "      <td>30.89478</td>\n",
              "      <td>-5.746084</td>\n",
              "      <td>112.569927</td>\n",
              "      <td>10.609898</td>\n",
              "      <td>8.248025</td>\n",
              "      <td>13.824643</td>\n",
              "      <td>4.906891</td>\n",
              "      <td>0.477301</td>\n",
              "      <td>13.735535</td>\n",
              "      <td>-0.215187</td>\n",
              "      <td>2</td>\n",
              "    </tr>\n",
              "    <tr>\n",
              "      <th>1</th>\n",
              "      <td>28.146235</td>\n",
              "      <td>-27.763163</td>\n",
              "      <td>123.11589</td>\n",
              "      <td>11.09576</td>\n",
              "      <td>3.442862</td>\n",
              "      <td>11.963818</td>\n",
              "      <td>4.840224</td>\n",
              "      <td>-0.297029</td>\n",
              "      <td>12.735956</td>\n",
              "      <td>30.89478</td>\n",
              "      <td>-5.746084</td>\n",
              "      <td>112.569927</td>\n",
              "      <td>10.609898</td>\n",
              "      <td>8.248025</td>\n",
              "      <td>13.824643</td>\n",
              "      <td>4.906891</td>\n",
              "      <td>0.477301</td>\n",
              "      <td>13.735535</td>\n",
              "      <td>-0.215187</td>\n",
              "      <td>2</td>\n",
              "    </tr>\n",
              "    <tr>\n",
              "      <th>2</th>\n",
              "      <td>28.146235</td>\n",
              "      <td>-27.763163</td>\n",
              "      <td>123.11589</td>\n",
              "      <td>11.09576</td>\n",
              "      <td>3.442862</td>\n",
              "      <td>11.963818</td>\n",
              "      <td>4.840224</td>\n",
              "      <td>-0.297029</td>\n",
              "      <td>12.735956</td>\n",
              "      <td>30.89478</td>\n",
              "      <td>-5.746084</td>\n",
              "      <td>112.569927</td>\n",
              "      <td>10.609898</td>\n",
              "      <td>8.248025</td>\n",
              "      <td>13.824643</td>\n",
              "      <td>4.906891</td>\n",
              "      <td>0.477301</td>\n",
              "      <td>13.735535</td>\n",
              "      <td>-0.215187</td>\n",
              "      <td>2</td>\n",
              "    </tr>\n",
              "    <tr>\n",
              "      <th>3</th>\n",
              "      <td>28.146235</td>\n",
              "      <td>-27.763163</td>\n",
              "      <td>123.11589</td>\n",
              "      <td>11.09576</td>\n",
              "      <td>3.442862</td>\n",
              "      <td>11.963818</td>\n",
              "      <td>4.840224</td>\n",
              "      <td>-0.297029</td>\n",
              "      <td>12.735956</td>\n",
              "      <td>30.89478</td>\n",
              "      <td>-5.746084</td>\n",
              "      <td>112.569927</td>\n",
              "      <td>10.609898</td>\n",
              "      <td>8.248025</td>\n",
              "      <td>13.824643</td>\n",
              "      <td>4.906891</td>\n",
              "      <td>0.477301</td>\n",
              "      <td>13.735535</td>\n",
              "      <td>-0.215187</td>\n",
              "      <td>2</td>\n",
              "    </tr>\n",
              "    <tr>\n",
              "      <th>4</th>\n",
              "      <td>28.146235</td>\n",
              "      <td>-27.763163</td>\n",
              "      <td>123.11589</td>\n",
              "      <td>11.09576</td>\n",
              "      <td>3.442862</td>\n",
              "      <td>11.963818</td>\n",
              "      <td>4.840224</td>\n",
              "      <td>-0.297029</td>\n",
              "      <td>12.735956</td>\n",
              "      <td>30.89478</td>\n",
              "      <td>-5.746084</td>\n",
              "      <td>112.569927</td>\n",
              "      <td>10.609898</td>\n",
              "      <td>8.248025</td>\n",
              "      <td>13.824643</td>\n",
              "      <td>4.906891</td>\n",
              "      <td>0.477301</td>\n",
              "      <td>13.735535</td>\n",
              "      <td>-0.215187</td>\n",
              "      <td>2</td>\n",
              "    </tr>\n",
              "  </tbody>\n",
              "</table>\n",
              "</div>\n",
              "      <button class=\"colab-df-convert\" onclick=\"convertToInteractive('df-4ad90ce4-fc9c-4d42-890d-67be8c4fe4ce')\"\n",
              "              title=\"Convert this dataframe to an interactive table.\"\n",
              "              style=\"display:none;\">\n",
              "        \n",
              "  <svg xmlns=\"http://www.w3.org/2000/svg\" height=\"24px\"viewBox=\"0 0 24 24\"\n",
              "       width=\"24px\">\n",
              "    <path d=\"M0 0h24v24H0V0z\" fill=\"none\"/>\n",
              "    <path d=\"M18.56 5.44l.94 2.06.94-2.06 2.06-.94-2.06-.94-.94-2.06-.94 2.06-2.06.94zm-11 1L8.5 8.5l.94-2.06 2.06-.94-2.06-.94L8.5 2.5l-.94 2.06-2.06.94zm10 10l.94 2.06.94-2.06 2.06-.94-2.06-.94-.94-2.06-.94 2.06-2.06.94z\"/><path d=\"M17.41 7.96l-1.37-1.37c-.4-.4-.92-.59-1.43-.59-.52 0-1.04.2-1.43.59L10.3 9.45l-7.72 7.72c-.78.78-.78 2.05 0 2.83L4 21.41c.39.39.9.59 1.41.59.51 0 1.02-.2 1.41-.59l7.78-7.78 2.81-2.81c.8-.78.8-2.07 0-2.86zM5.41 20L4 18.59l7.72-7.72 1.47 1.35L5.41 20z\"/>\n",
              "  </svg>\n",
              "      </button>\n",
              "      \n",
              "  <style>\n",
              "    .colab-df-container {\n",
              "      display:flex;\n",
              "      flex-wrap:wrap;\n",
              "      gap: 12px;\n",
              "    }\n",
              "\n",
              "    .colab-df-convert {\n",
              "      background-color: #E8F0FE;\n",
              "      border: none;\n",
              "      border-radius: 50%;\n",
              "      cursor: pointer;\n",
              "      display: none;\n",
              "      fill: #1967D2;\n",
              "      height: 32px;\n",
              "      padding: 0 0 0 0;\n",
              "      width: 32px;\n",
              "    }\n",
              "\n",
              "    .colab-df-convert:hover {\n",
              "      background-color: #E2EBFA;\n",
              "      box-shadow: 0px 1px 2px rgba(60, 64, 67, 0.3), 0px 1px 3px 1px rgba(60, 64, 67, 0.15);\n",
              "      fill: #174EA6;\n",
              "    }\n",
              "\n",
              "    [theme=dark] .colab-df-convert {\n",
              "      background-color: #3B4455;\n",
              "      fill: #D2E3FC;\n",
              "    }\n",
              "\n",
              "    [theme=dark] .colab-df-convert:hover {\n",
              "      background-color: #434B5C;\n",
              "      box-shadow: 0px 1px 3px 1px rgba(0, 0, 0, 0.15);\n",
              "      filter: drop-shadow(0px 1px 2px rgba(0, 0, 0, 0.3));\n",
              "      fill: #FFFFFF;\n",
              "    }\n",
              "  </style>\n",
              "\n",
              "      <script>\n",
              "        const buttonEl =\n",
              "          document.querySelector('#df-4ad90ce4-fc9c-4d42-890d-67be8c4fe4ce button.colab-df-convert');\n",
              "        buttonEl.style.display =\n",
              "          google.colab.kernel.accessAllowed ? 'block' : 'none';\n",
              "\n",
              "        async function convertToInteractive(key) {\n",
              "          const element = document.querySelector('#df-4ad90ce4-fc9c-4d42-890d-67be8c4fe4ce');\n",
              "          const dataTable =\n",
              "            await google.colab.kernel.invokeFunction('convertToInteractive',\n",
              "                                                     [key], {});\n",
              "          if (!dataTable) return;\n",
              "\n",
              "          const docLinkHtml = 'Like what you see? Visit the ' +\n",
              "            '<a target=\"_blank\" href=https://colab.research.google.com/notebooks/data_table.ipynb>data table notebook</a>'\n",
              "            + ' to learn more about interactive tables.';\n",
              "          element.innerHTML = '';\n",
              "          dataTable['output_type'] = 'display_data';\n",
              "          await google.colab.output.renderOutput(dataTable, element);\n",
              "          const docLink = document.createElement('div');\n",
              "          docLink.innerHTML = docLinkHtml;\n",
              "          element.appendChild(docLink);\n",
              "        }\n",
              "      </script>\n",
              "    </div>\n",
              "  </div>\n",
              "  "
            ]
          },
          "metadata": {},
          "execution_count": 65
        }
      ]
    },
    {
      "cell_type": "code",
      "source": [
        "df_idle.shape"
      ],
      "metadata": {
        "colab": {
          "base_uri": "https://localhost:8080/"
        },
        "id": "DcHVEOiMtDqg",
        "outputId": "0fa60545-4430-4bd5-c49d-1382a45c2c75"
      },
      "execution_count": 116,
      "outputs": [
        {
          "output_type": "execute_result",
          "data": {
            "text/plain": [
              "(1039, 20)"
            ]
          },
          "metadata": {},
          "execution_count": 116
        }
      ]
    },
    {
      "cell_type": "markdown",
      "source": [
        "##Compile all df into one:"
      ],
      "metadata": {
        "id": "H9N-5nImtVzo"
      }
    },
    {
      "cell_type": "code",
      "source": [
        "data_frames = [df_running, df_walking, df_stairs, df_idle]\n",
        "\n",
        "df_merged = reduce(lambda  left,right: pd.merge(left,right,on=['Field'],\n",
        "                                            how='outer'), data_frames)\n",
        "\n",
        "df_merged.shape"
      ],
      "metadata": {
        "id": "dg_kNkTDtZZU"
      },
      "execution_count": null,
      "outputs": []
    },
    {
      "cell_type": "code",
      "source": [
        "df_merged = pd.concat([df_idle, df_running, df_stairs, df_walking], ignore_index=True)\n",
        "df_merged.shape"
      ],
      "metadata": {
        "colab": {
          "base_uri": "https://localhost:8080/"
        },
        "id": "nPO_MGDXu_cd",
        "outputId": "48d20cde-8f3b-4c77-c01a-06d1493f536f"
      },
      "execution_count": 117,
      "outputs": [
        {
          "output_type": "execute_result",
          "data": {
            "text/plain": [
              "(6462, 20)"
            ]
          },
          "metadata": {},
          "execution_count": 117
        }
      ]
    },
    {
      "cell_type": "markdown",
      "source": [
        "##Dividing Data into Train/Test Sets"
      ],
      "metadata": {
        "id": "9y8TrCBH69yb"
      }
    },
    {
      "cell_type": "code",
      "source": [
        "X = df_merged.drop('Field', axis=1)\n",
        "y = df_merged[['Field']].to_numpy()"
      ],
      "metadata": {
        "id": "N1Iu0h-E69YF"
      },
      "execution_count": 118,
      "outputs": []
    },
    {
      "cell_type": "code",
      "source": [
        "from sklearn.model_selection import train_test_split\n",
        "\n",
        "X_train, X_test, y_train, y_test = train_test_split(X, y, test_size=0.3, shuffle=True, random_state=42)"
      ],
      "metadata": {
        "id": "cqrcC54Lx_Rv"
      },
      "execution_count": 119,
      "outputs": []
    },
    {
      "cell_type": "code",
      "source": [
        "xtrain_samples = X_train.shape[0]\n",
        "xtest_samples = X_test.shape[0]\n",
        "\n",
        "print(f'There are {xtrain_samples} samples for training and {xtest_samples} samples for testing.')"
      ],
      "metadata": {
        "colab": {
          "base_uri": "https://localhost:8080/"
        },
        "id": "PSqniO5t7TAe",
        "outputId": "5520e8e2-16fd-4bb8-869e-42d91d0934c3"
      },
      "execution_count": 120,
      "outputs": [
        {
          "output_type": "stream",
          "name": "stdout",
          "text": [
            "There are 4523 samples for training and 1939 samples for testing.\n"
          ]
        }
      ]
    },
    {
      "cell_type": "markdown",
      "source": [
        "##Training the Model"
      ],
      "metadata": {
        "id": "EUG489Da7kr7"
      }
    },
    {
      "cell_type": "markdown",
      "source": [
        "###SVM classifier:\n",
        "\n"
      ],
      "metadata": {
        "id": "_0EGYDxAv7Me"
      }
    },
    {
      "cell_type": "code",
      "source": [
        "from sklearn import svm\n",
        "\n",
        "classifier = svm.SVC(decision_function_shape='ovo', kernel='rbf', gamma='auto', probability=True)"
      ],
      "metadata": {
        "id": "PUV8gK_yzcuq"
      },
      "execution_count": 121,
      "outputs": []
    },
    {
      "cell_type": "code",
      "source": [
        "classifier.fit(X_train, y_train.ravel())"
      ],
      "metadata": {
        "colab": {
          "base_uri": "https://localhost:8080/",
          "height": 74
        },
        "id": "WgGaT8Sa0DiT",
        "outputId": "308b32fe-0026-4258-ece7-b4482b48b30c"
      },
      "execution_count": 122,
      "outputs": [
        {
          "output_type": "execute_result",
          "data": {
            "text/plain": [
              "SVC(decision_function_shape='ovo', gamma='auto', probability=True)"
            ],
            "text/html": [
              "<style>#sk-container-id-10 {color: black;background-color: white;}#sk-container-id-10 pre{padding: 0;}#sk-container-id-10 div.sk-toggleable {background-color: white;}#sk-container-id-10 label.sk-toggleable__label {cursor: pointer;display: block;width: 100%;margin-bottom: 0;padding: 0.3em;box-sizing: border-box;text-align: center;}#sk-container-id-10 label.sk-toggleable__label-arrow:before {content: \"▸\";float: left;margin-right: 0.25em;color: #696969;}#sk-container-id-10 label.sk-toggleable__label-arrow:hover:before {color: black;}#sk-container-id-10 div.sk-estimator:hover label.sk-toggleable__label-arrow:before {color: black;}#sk-container-id-10 div.sk-toggleable__content {max-height: 0;max-width: 0;overflow: hidden;text-align: left;background-color: #f0f8ff;}#sk-container-id-10 div.sk-toggleable__content pre {margin: 0.2em;color: black;border-radius: 0.25em;background-color: #f0f8ff;}#sk-container-id-10 input.sk-toggleable__control:checked~div.sk-toggleable__content {max-height: 200px;max-width: 100%;overflow: auto;}#sk-container-id-10 input.sk-toggleable__control:checked~label.sk-toggleable__label-arrow:before {content: \"▾\";}#sk-container-id-10 div.sk-estimator input.sk-toggleable__control:checked~label.sk-toggleable__label {background-color: #d4ebff;}#sk-container-id-10 div.sk-label input.sk-toggleable__control:checked~label.sk-toggleable__label {background-color: #d4ebff;}#sk-container-id-10 input.sk-hidden--visually {border: 0;clip: rect(1px 1px 1px 1px);clip: rect(1px, 1px, 1px, 1px);height: 1px;margin: -1px;overflow: hidden;padding: 0;position: absolute;width: 1px;}#sk-container-id-10 div.sk-estimator {font-family: monospace;background-color: #f0f8ff;border: 1px dotted black;border-radius: 0.25em;box-sizing: border-box;margin-bottom: 0.5em;}#sk-container-id-10 div.sk-estimator:hover {background-color: #d4ebff;}#sk-container-id-10 div.sk-parallel-item::after {content: \"\";width: 100%;border-bottom: 1px solid gray;flex-grow: 1;}#sk-container-id-10 div.sk-label:hover label.sk-toggleable__label {background-color: #d4ebff;}#sk-container-id-10 div.sk-serial::before {content: \"\";position: absolute;border-left: 1px solid gray;box-sizing: border-box;top: 0;bottom: 0;left: 50%;z-index: 0;}#sk-container-id-10 div.sk-serial {display: flex;flex-direction: column;align-items: center;background-color: white;padding-right: 0.2em;padding-left: 0.2em;position: relative;}#sk-container-id-10 div.sk-item {position: relative;z-index: 1;}#sk-container-id-10 div.sk-parallel {display: flex;align-items: stretch;justify-content: center;background-color: white;position: relative;}#sk-container-id-10 div.sk-item::before, #sk-container-id-10 div.sk-parallel-item::before {content: \"\";position: absolute;border-left: 1px solid gray;box-sizing: border-box;top: 0;bottom: 0;left: 50%;z-index: -1;}#sk-container-id-10 div.sk-parallel-item {display: flex;flex-direction: column;z-index: 1;position: relative;background-color: white;}#sk-container-id-10 div.sk-parallel-item:first-child::after {align-self: flex-end;width: 50%;}#sk-container-id-10 div.sk-parallel-item:last-child::after {align-self: flex-start;width: 50%;}#sk-container-id-10 div.sk-parallel-item:only-child::after {width: 0;}#sk-container-id-10 div.sk-dashed-wrapped {border: 1px dashed gray;margin: 0 0.4em 0.5em 0.4em;box-sizing: border-box;padding-bottom: 0.4em;background-color: white;}#sk-container-id-10 div.sk-label label {font-family: monospace;font-weight: bold;display: inline-block;line-height: 1.2em;}#sk-container-id-10 div.sk-label-container {text-align: center;}#sk-container-id-10 div.sk-container {/* jupyter's `normalize.less` sets `[hidden] { display: none; }` but bootstrap.min.css set `[hidden] { display: none !important; }` so we also need the `!important` here to be able to override the default hidden behavior on the sphinx rendered scikit-learn.org. See: https://github.com/scikit-learn/scikit-learn/issues/21755 */display: inline-block !important;position: relative;}#sk-container-id-10 div.sk-text-repr-fallback {display: none;}</style><div id=\"sk-container-id-10\" class=\"sk-top-container\"><div class=\"sk-text-repr-fallback\"><pre>SVC(decision_function_shape=&#x27;ovo&#x27;, gamma=&#x27;auto&#x27;, probability=True)</pre><b>In a Jupyter environment, please rerun this cell to show the HTML representation or trust the notebook. <br />On GitHub, the HTML representation is unable to render, please try loading this page with nbviewer.org.</b></div><div class=\"sk-container\" hidden><div class=\"sk-item\"><div class=\"sk-estimator sk-toggleable\"><input class=\"sk-toggleable__control sk-hidden--visually\" id=\"sk-estimator-id-10\" type=\"checkbox\" checked><label for=\"sk-estimator-id-10\" class=\"sk-toggleable__label sk-toggleable__label-arrow\">SVC</label><div class=\"sk-toggleable__content\"><pre>SVC(decision_function_shape=&#x27;ovo&#x27;, gamma=&#x27;auto&#x27;, probability=True)</pre></div></div></div></div></div>"
            ]
          },
          "metadata": {},
          "execution_count": 122
        }
      ]
    },
    {
      "cell_type": "code",
      "source": [
        "x_dec = classifier.decision_function(X)\n",
        "x_dec"
      ],
      "metadata": {
        "colab": {
          "base_uri": "https://localhost:8080/"
        },
        "id": "AH9doy4N0LQe",
        "outputId": "02afc7a6-2fe2-4359-ad38-7d3096d1d938"
      },
      "execution_count": 123,
      "outputs": [
        {
          "output_type": "execute_result",
          "data": {
            "text/plain": [
              "array([ 1.00015948,  1.00015948,  1.00015948, ..., -0.17221979,\n",
              "       -1.61354288, -0.96074208])"
            ]
          },
          "metadata": {},
          "execution_count": 123
        }
      ]
    },
    {
      "cell_type": "code",
      "source": [
        "x_prob = classifier.predict_proba(X)\n",
        "x_prob"
      ],
      "metadata": {
        "colab": {
          "base_uri": "https://localhost:8080/"
        },
        "id": "RdM9My0c0-O4",
        "outputId": "dc0395a3-707b-450b-eb85-eb2dfb4a092f"
      },
      "execution_count": 124,
      "outputs": [
        {
          "output_type": "execute_result",
          "data": {
            "text/plain": [
              "array([[1.27865771e-10, 1.00000000e+00],\n",
              "       [1.27865771e-10, 1.00000000e+00],\n",
              "       [1.27865771e-10, 1.00000000e+00],\n",
              "       ...,\n",
              "       [9.99999900e-01, 1.00000010e-07],\n",
              "       [9.99999900e-01, 1.00000010e-07],\n",
              "       [9.99999900e-01, 1.00000010e-07]])"
            ]
          },
          "metadata": {},
          "execution_count": 124
        }
      ]
    },
    {
      "cell_type": "code",
      "source": [
        "classifier.score(X, y, sample_weight=None)"
      ],
      "metadata": {
        "colab": {
          "base_uri": "https://localhost:8080/"
        },
        "id": "8E2Eon2q1d3a",
        "outputId": "339552c2-c3ca-4a01-dde7-ec99c7e3e823"
      },
      "execution_count": 125,
      "outputs": [
        {
          "output_type": "execute_result",
          "data": {
            "text/plain": [
              "0.9964407304240174"
            ]
          },
          "metadata": {},
          "execution_count": 125
        }
      ]
    },
    {
      "cell_type": "code",
      "source": [
        "y_pred = classifier.predict(X_test)\n",
        "y_pred"
      ],
      "metadata": {
        "colab": {
          "base_uri": "https://localhost:8080/"
        },
        "id": "U2NDVzoO9FTt",
        "outputId": "eb6d0046-558f-4519-d3c4-da481eb67fff"
      },
      "execution_count": 126,
      "outputs": [
        {
          "output_type": "execute_result",
          "data": {
            "text/plain": [
              "array([2, 2, 2, ..., 1, 2, 2])"
            ]
          },
          "metadata": {},
          "execution_count": 126
        }
      ]
    },
    {
      "cell_type": "code",
      "source": [
        "from sklearn.metrics import classification_report, confusion_matrix\n",
        "import seaborn as sns\n",
        "\n",
        "cm = confusion_matrix(y_test, y_pred)\n",
        "sns.heatmap(cm, annot=True, fmt='d').set_title('Confusion matrix of rbf SVM')\n",
        "\n",
        "print(classification_report(y_test, y_pred))"
      ],
      "metadata": {
        "colab": {
          "base_uri": "https://localhost:8080/",
          "height": 605
        },
        "id": "vUc6zEGZ9Eoo",
        "outputId": "87b53c73-6665-42fe-c046-a3227176475c"
      },
      "execution_count": 127,
      "outputs": [
        {
          "output_type": "stream",
          "name": "stdout",
          "text": [
            "              precision    recall  f1-score   support\n",
            "\n",
            "           1       1.00      0.96      0.98       537\n",
            "           2       0.98      1.00      0.99      1402\n",
            "\n",
            "    accuracy                           0.99      1939\n",
            "   macro avg       0.99      0.98      0.98      1939\n",
            "weighted avg       0.99      0.99      0.99      1939\n",
            "\n"
          ]
        },
        {
          "output_type": "display_data",
          "data": {
            "text/plain": [
              "<Figure size 640x480 with 2 Axes>"
            ],
            "image/png": "[encoded data removed]"
          },
          "metadata": {}
        }
      ]
    },
    {
      "cell_type": "markdown",
      "source": [
        "**Outcome**:\n",
        "- 514 were correctly classified, and there were 23 false positives, \n",
        "- while for 1402 class 1 samples, there were 0 false negatives and with all true positives.\n",
        "-----------\n",
        "- for class 1 - 1 recall\n",
        "- for class 0 - 0.99 recall\n",
        "----------\n",
        "- but the presision for 0 is 1 and for class 1 is .98, which is a bit questionable. \n"
      ],
      "metadata": {
        "id": "vnwesJUOABw_"
      }
    },
    {
      "cell_type": "markdown",
      "source": [
        "**To test overfitting on \"X/y_train\"**:"
      ],
      "metadata": {
        "id": "Ju9pM1l7-DoU"
      }
    },
    {
      "cell_type": "code",
      "source": [
        "y_pred_train = classifier.predict(X_train)\n",
        "\n",
        "cm_train = confusion_matrix(y_train,y_pred_train)\n",
        "sns.heatmap(cm_train, annot=True, fmt='d').set_title('Confusion matrix of rbf SVM with train data')\n",
        "\n",
        "print(classification_report(y_train, y_pred_train))"
      ],
      "metadata": {
        "colab": {
          "base_uri": "https://localhost:8080/",
          "height": 605
        },
        "id": "JmFr5sOQJ_qg",
        "outputId": "6d795713-497b-4a63-e20b-b54fccd149bc"
      },
      "execution_count": 128,
      "outputs": [
        {
          "output_type": "stream",
          "name": "stdout",
          "text": [
            "              precision    recall  f1-score   support\n",
            "\n",
            "           1       1.00      1.00      1.00      1313\n",
            "           2       1.00      1.00      1.00      3210\n",
            "\n",
            "    accuracy                           1.00      4523\n",
            "   macro avg       1.00      1.00      1.00      4523\n",
            "weighted avg       1.00      1.00      1.00      4523\n",
            "\n"
          ]
        },
        {
          "output_type": "display_data",
          "data": {
            "text/plain": [
              "<Figure size 640x480 with 2 Axes>"
            ],
            "image/png": "[encoded data removed]"
          },
          "metadata": {}
        }
      ]
    },
    {
      "cell_type": "markdown",
      "source": [
        "**Outcome**:\n",
        "\n",
        "The data is overfitted. The sample N has increased. Cross validation should be checked. "
      ],
      "metadata": {
        "id": "pgEzAO0sLA7B"
      }
    },
    {
      "cell_type": "markdown",
      "source": [
        "**Computing cross-validated metrics**:"
      ],
      "metadata": {
        "id": "f9LOsQPGLrEH"
      }
    },
    {
      "cell_type": "code",
      "source": [
        "from sklearn.model_selection import cross_val_score\n",
        "from sklearn.utils import column_or_1d\n",
        "\n",
        "y_train = column_or_1d(y_train, warn=True)\n",
        "\n",
        "scores = cross_val_score(classifier, X_train, y_train, cv=5)\n",
        "print(\"%0.2f accuracy with a standard deviation of %0.2f\" % (scores.mean(), scores.std()))"
      ],
      "metadata": {
        "colab": {
          "base_uri": "https://localhost:8080/"
        },
        "id": "WE9piFmAL9H1",
        "outputId": "7e8e3be9-432b-471a-ccf6-24cec78625df"
      },
      "execution_count": 129,
      "outputs": [
        {
          "output_type": "stream",
          "name": "stderr",
          "text": [
            "<ipython-input-129-1f2af4741464>:4: DataConversionWarning: A column-vector y was passed when a 1d array was expected. Please change the shape of y to (n_samples, ), for example using ravel().\n",
            "  y_train = column_or_1d(y_train, warn=True)\n"
          ]
        },
        {
          "output_type": "stream",
          "name": "stdout",
          "text": [
            "0.98 accuracy with a standard deviation of 0.00\n"
          ]
        }
      ]
    },
    {
      "cell_type": "markdown",
      "source": [
        "###DecisionTreeClassifier:"
      ],
      "metadata": {
        "id": "dAp2487nSkSe"
      }
    },
    {
      "cell_type": "code",
      "source": [
        "from sklearn.tree import DecisionTreeClassifier\n",
        "\n",
        "# Create Decision Tree classifer object\n",
        "clf = DecisionTreeClassifier(criterion=\"entropy\", max_depth=5)\n",
        "\n",
        "# Train Decision Tree Classifer\n",
        "clf_en = clf.fit(X_train,y_train) # from the training set\n",
        "clf_en.score(X_test, y_test)# returns the mean accuracy of test data"
      ],
      "metadata": {
        "colab": {
          "base_uri": "https://localhost:8080/"
        },
        "id": "_c2lJSjfSmK5",
        "outputId": "adb27961-8b6f-4d86-afa7-59cb0bdca3ea"
      },
      "execution_count": 156,
      "outputs": [
        {
          "output_type": "execute_result",
          "data": {
            "text/plain": [
              "1.0"
            ]
          },
          "metadata": {},
          "execution_count": 156
        }
      ]
    },
    {
      "cell_type": "code",
      "source": [
        "from sklearn import metrics \n",
        "\n",
        "#Predict the response for test dataset\n",
        "y_pred_en = clf_en.predict(X_test)\n",
        "\n",
        "# Model Accuracy:\n",
        "\n",
        "print('Model accuracy score with criterion entropy: {0:0.4f}'. format(metrics.accuracy_score(y_test, y_pred)))"
      ],
      "metadata": {
        "colab": {
          "base_uri": "https://localhost:8080/"
        },
        "id": "jx8X4w2Ha6jy",
        "outputId": "5345c7de-976b-4475-b7f5-a65712b0908b"
      },
      "execution_count": 157,
      "outputs": [
        {
          "output_type": "stream",
          "name": "stdout",
          "text": [
            "Model accuracy score with criterion entropy: 1.0000\n"
          ]
        }
      ]
    },
    {
      "cell_type": "code",
      "source": [
        "from sklearn.metrics import confusion_matrix\n",
        "from sklearn import tree\n",
        "from sklearn.metrics import accuracy_score\n",
        "\n",
        "y_pred_train_en = clf_en.predict(X_train)\n",
        "y_pred_train_en\n",
        "plt.figure(figsize=(6,4))\n",
        "\n",
        "tree.plot_tree(clf_en.fit(X_train, y_train))"
      ],
      "metadata": {
        "colab": {
          "base_uri": "https://localhost:8080/",
          "height": 396
        },
        "id": "8iYqHG3hhAXN",
        "outputId": "e4d05a4b-f15a-4f92-ae3e-e7f8991dcbef"
      },
      "execution_count": 167,
      "outputs": [
        {
          "output_type": "execute_result",
          "data": {
            "text/plain": [
              "[Text(0.5, 0.75, 'x[13] <= -1.851\\nentropy = 0.869\\nsamples = 4523\\nvalue = [1313, 3210]'),\n",
              " Text(0.25, 0.25, 'entropy = 0.0\\nsamples = 1313\\nvalue = [1313, 0]'),\n",
              " Text(0.75, 0.25, 'entropy = 0.0\\nsamples = 3210\\nvalue = [0, 3210]')]"
            ]
          },
          "metadata": {},
          "execution_count": 167
        },
        {
          "output_type": "display_data",
          "data": {
            "text/plain": [
              "<Figure size 600x400 with 1 Axes>"
            ],
            "image/png": "[encoded data removed]"
          },
          "metadata": {}
        }
      ]
    },
    {
      "cell_type": "code",
      "source": [
        "from sklearn.metrics import confusion_matrix\n",
        "\n",
        "cm = confusion_matrix(y_test, y_pred_en)\n",
        "print('Confusion matrix\\n\\n', cm)"
      ],
      "metadata": {
        "colab": {
          "base_uri": "https://localhost:8080/"
        },
        "id": "hwoqFhw5i1jG",
        "outputId": "19a380d1-38b2-4214-f3e1-95a2c478e53a"
      },
      "execution_count": 166,
      "outputs": [
        {
          "output_type": "stream",
          "name": "stdout",
          "text": [
            "Confusion matrix\n",
            "\n",
            " [[ 537    0]\n",
            " [   0 1402]]\n"
          ]
        }
      ]
    },
    {
      "cell_type": "markdown",
      "source": [
        "It looks like that DecisionTree validation is more precise, however the difference is not that significant: 0.98 vs 1.00. \n",
        "\n",
        "Before sptil, the entropy value was 0.869 which indicated that the samples at that node were somewhat mixed or impure, meaning they are not perfectly separated into distinct classes. It shoudl be 0.. but at the same time. We were able to separate the samples into two highly pure subsets, with one subset containing only class 1 samples and the other subset containing only class 2 samples. "
      ],
      "metadata": {
        "id": "6s89-tm4eH7E"
      }
    }
  ]
}