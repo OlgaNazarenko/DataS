{
  "nbformat": 4,
  "nbformat_minor": 0,
  "metadata": {
    "colab": {
      "provenance": []
    },
    "kernelspec": {
      "name": "python3",
      "display_name": "Python 3"
    },
    "language_info": {
      "name": "python"
    }
  },
  "cells": [
    {
      "cell_type": "markdown",
      "source": [
        "1. Створіть одновимірний масив (вектор) з першими 10-ма натуральними числами та виведіть його значення."
      ],
      "metadata": {
        "id": "ekK35g30rFBq"
      }
    },
    {
      "cell_type": "code",
      "execution_count": 3,
      "metadata": {
        "id": "YT5lWdNXghW5",
        "colab": {
          "base_uri": "https://localhost:8080/"
        },
        "outputId": "69788a4d-b430-418e-b831-bf638805d9da"
      },
      "outputs": [
        {
          "output_type": "stream",
          "name": "stdout",
          "text": [
            "[ 1  2  3  4  5  6  7  8  9 10]\n"
          ]
        }
      ],
      "source": [
        "import numpy as np\n",
        "a = np.array([1,2,3,4,5,6,7,8,9,10])\n",
        "print(a)"
      ]
    },
    {
      "cell_type": "markdown",
      "source": [
        "2. Створіть двовимірний масив (матрицю) розміром 3x3, заповніть його нулями та виведіть його значення."
      ],
      "metadata": {
        "id": "uNytJQxAuOW-"
      }
    },
    {
      "cell_type": "code",
      "source": [
        "import numpy as np\n",
        "a = np.zeros((3,3), dtype=int)\n",
        "print(a)"
      ],
      "metadata": {
        "colab": {
          "base_uri": "https://localhost:8080/"
        },
        "id": "ivlNEA6juTkM",
        "outputId": "d671d22e-d849-44eb-faae-ed818f7c4c0c"
      },
      "execution_count": 4,
      "outputs": [
        {
          "output_type": "stream",
          "name": "stdout",
          "text": [
            "[[0 0 0]\n",
            " [0 0 0]\n",
            " [0 0 0]]\n"
          ]
        }
      ]
    },
    {
      "cell_type": "markdown",
      "source": [
        "3. Створіть масив розміром 5x5, заповніть його випадковими цілими числами в діапазоні від 1 до 10 та виведіть його значення."
      ],
      "metadata": {
        "id": "pHjjdMKwwvuZ"
      }
    },
    {
      "cell_type": "code",
      "source": [
        "import numpy as np\n",
        "a = np.random.randint(1,11, size=(5,5))\n",
        "print(a)"
      ],
      "metadata": {
        "colab": {
          "base_uri": "https://localhost:8080/"
        },
        "id": "Vn1rSZ_JwxfU",
        "outputId": "b177e721-2fe8-43cf-f0e3-c675b7a7973c"
      },
      "execution_count": 9,
      "outputs": [
        {
          "output_type": "stream",
          "name": "stdout",
          "text": [
            "[[ 4  5 10  1 10]\n",
            " [ 2  4  7  6  9]\n",
            " [ 3  3  9  7  9]\n",
            " [ 2  7  1  5  6]\n",
            " [ 3  7  2  5  5]]\n"
          ]
        }
      ]
    },
    {
      "cell_type": "markdown",
      "source": [
        "4. Створіть масив розміром 4x4, заповніть його випадковими дійсними числами в діапазоні від 0 до 1 та виведіть його значення."
      ],
      "metadata": {
        "id": "tiUJeduW1Aei"
      }
    },
    {
      "cell_type": "code",
      "source": [
        "import numpy as np\n",
        "a = np.random.rand(4,4)\n",
        "print(a)"
      ],
      "metadata": {
        "colab": {
          "base_uri": "https://localhost:8080/"
        },
        "id": "Dsb9s-yM1EDm",
        "outputId": "9fce7aaa-c51a-423a-e4ec-46e56eb1bdd5"
      },
      "execution_count": 11,
      "outputs": [
        {
          "output_type": "stream",
          "name": "stdout",
          "text": [
            "[[0.81519527 0.24872013 0.7526704  0.76050293]\n",
            " [0.57082699 0.49723218 0.65709409 0.00312163]\n",
            " [0.11724949 0.62047434 0.38653397 0.17704545]\n",
            " [0.37496836 0.63119084 0.95947647 0.96334542]]\n"
          ]
        }
      ]
    },
    {
      "cell_type": "markdown",
      "source": [
        "5. Створіть два одновимірних масиви розміром 5, заповніть їх випадковими цілими числами в діапазоні від 1 до 10 та виконайте на них поелементні операції додавання, віднімання та множення."
      ],
      "metadata": {
        "id": "0xNPqjiB17P7"
      }
    },
    {
      "cell_type": "code",
      "source": [
        "import numpy as np\n",
        "a = np.random.randint(1,11, size=(5,))\n",
        "b = np.random.randint(1,11, size=(5,))\n",
        "print(f\"The sum of both is:\\n {np.add(a,b)}\")\n",
        "\n",
        "print(f\"The substraction is:\\n {np.subtract(a,b)}\")\n",
        "\n",
        "print(f\"The multiplication is:\\n {a * b}\")\n"
      ],
      "metadata": {
        "colab": {
          "base_uri": "https://localhost:8080/"
        },
        "id": "vQcot2V11_8s",
        "outputId": "6d357d5a-2803-47ed-c664-d85096b67f33"
      },
      "execution_count": 31,
      "outputs": [
        {
          "output_type": "stream",
          "name": "stdout",
          "text": [
            "The sum of both is:\n",
            " [ 6  7 10 15  9]\n",
            "The substraction is:\n",
            " [ 0 -5  6  5  7]\n",
            "The multiplication is:\n",
            " [ 9  6 16 50  8]\n"
          ]
        }
      ]
    },
    {
      "cell_type": "markdown",
      "source": [
        "6. Створіть два вектори розміром 7, заповніть довільними числами та знайдіть їх скалярний добуток."
      ],
      "metadata": {
        "id": "_pJ8d_FQ5eK8"
      }
    },
    {
      "cell_type": "code",
      "source": [
        "import numpy as np\n",
        "a = np.random.random(7)\n",
        "b = np.random.random(7)\n",
        "dot_ab = np.dot(a,b)\n",
        "print(f\"The scalar product of vectors, a and b, is: \\n {dot_ab}\")"
      ],
      "metadata": {
        "colab": {
          "base_uri": "https://localhost:8080/"
        },
        "id": "wwWleXt05gJO",
        "outputId": "71aaa15d-759c-4256-cf77-7b39b0daad97"
      },
      "execution_count": 30,
      "outputs": [
        {
          "output_type": "stream",
          "name": "stdout",
          "text": [
            "The scalar product of vectors, a and b, is: \n",
            " 1.230550269373032\n"
          ]
        }
      ]
    },
    {
      "cell_type": "markdown",
      "source": [
        "7. Створіть дві матриці розміром 2x2 та 2x3, заповніть їх випадковими цілими числами в діапазоні від 1 до 10 та перемножте їх між собою."
      ],
      "metadata": {
        "id": "_bV5YO6K92_l"
      }
    },
    {
      "cell_type": "code",
      "source": [
        "import numpy as np\n",
        "A = np.random.randint(1,11, size=(2,2))\n",
        "B = np.random.randint(1,11, size=(2,3))\n",
        "mult = np.dot(A, B)\n",
        "print(f\"The multiplication of matrices a and b is:\\n {mult}\")"
      ],
      "metadata": {
        "colab": {
          "base_uri": "https://localhost:8080/"
        },
        "id": "xgkh_S5094Qn",
        "outputId": "c4cefc63-2abf-4d35-ef92-4d45acfa2fd1"
      },
      "execution_count": 20,
      "outputs": [
        {
          "output_type": "stream",
          "name": "stdout",
          "text": [
            "The multiplication of matrices a and b is:\n",
            " [[68 93 42]\n",
            " [60 80 36]]\n"
          ]
        }
      ]
    },
    {
      "cell_type": "markdown",
      "source": [
        "8. Створіть матрицю розміром 3x3, заповніть її випадковими цілими числами в діапазоні від 1 до 10 та знайдіть її обернену матрицю."
      ],
      "metadata": {
        "id": "2hRcyN1TAm6r"
      }
    },
    {
      "cell_type": "code",
      "source": [
        "import numpy as np\n",
        "A = np.random.randint(1,11, size=(3,3))\n",
        "print(A)\n",
        "\n",
        "a_inv = np.linalg.inv(A)\n",
        "print(a_inv)"
      ],
      "metadata": {
        "colab": {
          "base_uri": "https://localhost:8080/"
        },
        "id": "EcW_X_73AqCJ",
        "outputId": "61465a24-a679-4fba-cc59-068a38ab9af0"
      },
      "execution_count": 22,
      "outputs": [
        {
          "output_type": "stream",
          "name": "stdout",
          "text": [
            "[[10  2 10]\n",
            " [ 1  5  6]\n",
            " [ 9  8 10]]\n",
            "[[-0.00763359 -0.22900763  0.14503817]\n",
            " [-0.16793893 -0.03816794  0.19083969]\n",
            " [ 0.14122137  0.23664122 -0.18320611]]\n"
          ]
        }
      ]
    },
    {
      "cell_type": "markdown",
      "source": [
        "9. Створіть матрицю розміром 4x4, заповніть її випадковими дійсними числами в діапазоні від 0 до 1 та транспонуйте її.\n"
      ],
      "metadata": {
        "id": "nUh2vEhXKx5N"
      }
    },
    {
      "cell_type": "code",
      "source": [
        "import numpy as np\n",
        "A = np.random.rand(4,4)\n",
        "print(f\"The orginal matrix is: \\n {A}\")\n",
        "B = A.T\n",
        "print(f\"The transpose matrix is:\\n {B}\")"
      ],
      "metadata": {
        "colab": {
          "base_uri": "https://localhost:8080/"
        },
        "id": "tXfktMn5K06a",
        "outputId": "645434c6-e5f8-4448-ac08-6c7e37c5ec2c"
      },
      "execution_count": 18,
      "outputs": [
        {
          "output_type": "stream",
          "name": "stdout",
          "text": [
            "The orginal matrix is: \n",
            " [[0.357521   0.45664836 0.82682214 0.66561716]\n",
            " [0.88627589 0.76627067 0.93327487 0.66187528]\n",
            " [0.75226687 0.54656867 0.67560127 0.5573801 ]\n",
            " [0.32383952 0.10476822 0.44720542 0.71926432]]\n",
            "The transpose matrix is:\n",
            " [[0.357521   0.88627589 0.75226687 0.32383952]\n",
            " [0.45664836 0.76627067 0.54656867 0.10476822]\n",
            " [0.82682214 0.93327487 0.67560127 0.44720542]\n",
            " [0.66561716 0.66187528 0.5573801  0.71926432]]\n"
          ]
        }
      ]
    },
    {
      "cell_type": "markdown",
      "source": [
        "10. Створіть матрицю розміром 3x4 та вектор розміром 4, заповніть їх випадковими цілими числами в діапазоні від 1 до 10 та перемножте матрицю на вектор."
      ],
      "metadata": {
        "id": "iGA9wEW1L48J"
      }
    },
    {
      "cell_type": "code",
      "source": [
        "import numpy as np\n",
        "matrix = np.random.randint(1, 11, size=(3,4))\n",
        "vector = np.random.randint(1, 11, size=4)\n",
        "result = np.dot(matrix, vector)\n",
        "print(result)\n"
      ],
      "metadata": {
        "colab": {
          "base_uri": "https://localhost:8080/"
        },
        "id": "rgLFcMM6L8Q6",
        "outputId": "c7d9fc45-a161-4dac-c229-1468cffd6ff5"
      },
      "execution_count": 29,
      "outputs": [
        {
          "output_type": "stream",
          "name": "stdout",
          "text": [
            "[102  50 105]\n"
          ]
        }
      ]
    },
    {
      "cell_type": "markdown",
      "source": [
        "11. Створіть матрицю розміром 2x3 та вектор розміром 3, заповніть їх випадковими дійсними числами в діапазоні від 0 до 1 та перемножте матрицю на вектор."
      ],
      "metadata": {
        "id": "urhlepVWNY6m"
      }
    },
    {
      "cell_type": "code",
      "source": [
        "import numpy as np\n",
        "matrix = np.random.random((2,3))\n",
        "vector = np.random.random(3)\n",
        "result = np.dot(matrix, vector)\n",
        "print(result)"
      ],
      "metadata": {
        "colab": {
          "base_uri": "https://localhost:8080/"
        },
        "id": "rS59ori0Nbn1",
        "outputId": "f68a0b42-5a2f-46bc-e4aa-1d20ce8aa76b"
      },
      "execution_count": 28,
      "outputs": [
        {
          "output_type": "stream",
          "name": "stdout",
          "text": [
            "[1.27202986 0.50588908]\n"
          ]
        }
      ]
    },
    {
      "cell_type": "markdown",
      "source": [
        "12. Створіть дві матриці розміром 2x2, заповніть їх випадковими цілими числами в діапазоні від 1 до 10 та виконайте їхнє поелементне множення."
      ],
      "metadata": {
        "id": "JLwHRLGuRBR9"
      }
    },
    {
      "cell_type": "code",
      "source": [
        "import numpy as np\n",
        "A = np.random.randint(1,11, size=(2,2))\n",
        "B = np.random.randint(1,11, size=(2,2))\n",
        "print(f\"Result: \\n {A*B}\")\n"
      ],
      "metadata": {
        "colab": {
          "base_uri": "https://localhost:8080/"
        },
        "id": "1MZIgN2XRD-J",
        "outputId": "e3b48893-6ccf-4a48-e71e-c916ce0fcd3c"
      },
      "execution_count": 27,
      "outputs": [
        {
          "output_type": "stream",
          "name": "stdout",
          "text": [
            "Result: \n",
            " [[12 63]\n",
            " [21 81]]\n"
          ]
        }
      ]
    },
    {
      "cell_type": "markdown",
      "source": [
        "13. Створіть дві матриці розміром 2x2, заповніть їх випадковими цілими числами в діапазоні від 1 до 10 та знайдіть їх добуток."
      ],
      "metadata": {
        "id": "7L_amiEWRuCL"
      }
    },
    {
      "cell_type": "code",
      "source": [
        "import numpy as np\n",
        "a = np.random.randint(1,11, size=(2,2))\n",
        "b = np.random.randint(1, 11, size=(2,2))\n",
        "result = np.dot(a,b)\n",
        "print(f\"The product is: \\n {result}\")"
      ],
      "metadata": {
        "colab": {
          "base_uri": "https://localhost:8080/"
        },
        "id": "d7TR1XEVRwWL",
        "outputId": "9b46e66f-41bb-4201-d248-7be1f6ce58b1"
      },
      "execution_count": 26,
      "outputs": [
        {
          "output_type": "stream",
          "name": "stdout",
          "text": [
            "The product is: \n",
            " [[ 32  48]\n",
            " [ 58 110]]\n"
          ]
        }
      ]
    },
    {
      "cell_type": "markdown",
      "source": [
        "14. Створіть матрицю розміром 5x5, заповніть її випадковими цілими числами в діапазоні від 1 до 100 та знайдіть суму елементів матриці."
      ],
      "metadata": {
        "id": "zd5YXkQFSybh"
      }
    },
    {
      "cell_type": "code",
      "source": [
        "import numpy as np\n",
        "a = np.random.randint(1, 101, size=(5,5))\n",
        "print(f\"The sum of the elements in the matrix is: {np.sum(a)}\")"
      ],
      "metadata": {
        "colab": {
          "base_uri": "https://localhost:8080/"
        },
        "id": "CiezPB-3S1HL",
        "outputId": "9f0ccc3a-4421-4a3c-dd0f-cb7557e56f08"
      },
      "execution_count": 25,
      "outputs": [
        {
          "output_type": "stream",
          "name": "stdout",
          "text": [
            "The sum of the elements in the matrix is: 1224\n"
          ]
        }
      ]
    },
    {
      "cell_type": "markdown",
      "source": [
        "15. Створіть дві матриці розміром 4x4, заповніть їх випадковими цілими числами в діапазоні від 1 до 10 та знайдіть їхню різницю."
      ],
      "metadata": {
        "id": "hElFydINT2XS"
      }
    },
    {
      "cell_type": "code",
      "source": [
        "import numpy as np\n",
        "a = np.random.randint(1, 11, size=(4,4))\n",
        "b = np.random.randint(1, 11, size=(4,4))\n",
        "print(f\"The difference between a and b: \\n {np.subtract(a,b)}\")"
      ],
      "metadata": {
        "colab": {
          "base_uri": "https://localhost:8080/"
        },
        "id": "K-2c_vZTT4z2",
        "outputId": "722ab969-923e-4be2-fb50-62183ac415c4"
      },
      "execution_count": 24,
      "outputs": [
        {
          "output_type": "stream",
          "name": "stdout",
          "text": [
            "The difference between a and b: \n",
            " [[ 1 -2  6  2]\n",
            " [ 9  1  3  0]\n",
            " [ 0 -9 -3 -7]\n",
            " [ 3 -1 -5 -3]]\n"
          ]
        }
      ]
    },
    {
      "cell_type": "markdown",
      "source": [
        "16. Створіть матрицю розміром 3x3, заповніть її випадковими дійсними числами в діапазоні від 0 до 1 та знайдіть вектор-стовпчик, що містить суму елементів кожного рядка матриці."
      ],
      "metadata": {
        "id": "-XhucqnhVEO7"
      }
    },
    {
      "cell_type": "code",
      "source": [
        "import numpy as np\n",
        "A = np.random.rand(3,3)\n",
        "print(f\"Matrix:\\n {A}\")\n",
        "row_sum = np.sum(A, axis=1)\n",
        "vector = np.reshape(row_sum, (3,1))\n",
        "print(f\"Vector row:\\n {vector}\")"
      ],
      "metadata": {
        "colab": {
          "base_uri": "https://localhost:8080/"
        },
        "id": "FaKruXmlVGfe",
        "outputId": "b566c92f-6e0c-4e2e-e0f1-339667c2d13e"
      },
      "execution_count": 23,
      "outputs": [
        {
          "output_type": "stream",
          "name": "stdout",
          "text": [
            "Matrix: \n",
            " [[0.07177338 0.57643249 0.93834611]\n",
            " [0.60743185 0.29510259 0.75157226]\n",
            " [0.72554024 0.240027   0.27838492]]\n",
            "Vector row: \n",
            " [[1.58655198]\n",
            " [1.65410671]\n",
            " [1.24395216]]\n"
          ]
        }
      ]
    },
    {
      "cell_type": "markdown",
      "source": [
        "17. Створіть матрицю розміром 3x4 з довільними цілими числами і створінь матрицю з квадратами цих чисел."
      ],
      "metadata": {
        "id": "SliwfpputApt"
      }
    },
    {
      "cell_type": "code",
      "source": [
        "import numpy as np\n",
        "A = np.random.randint(1,10, size=(3,4))\n",
        "B = A ** 2\n",
        "print(f\"The squares of the elements in A:\\n{B}\")"
      ],
      "metadata": {
        "colab": {
          "base_uri": "https://localhost:8080/"
        },
        "id": "8PxQn9RptDsh",
        "outputId": "252f4166-0bfb-4961-d256-fd6ff67ae2ab"
      },
      "execution_count": 22,
      "outputs": [
        {
          "output_type": "stream",
          "name": "stdout",
          "text": [
            "The squares of the elements in A:\n",
            "[[36 25 25 36]\n",
            " [81  1 25  4]\n",
            " [81  1 81 81]]\n"
          ]
        }
      ]
    },
    {
      "cell_type": "markdown",
      "source": [
        "18. Створіть вектор розміром 4, заповніть його випадковими цілими числами в діапазоні від 1 до 50 та знайдіть вектор з квадратними коренями цих чисел."
      ],
      "metadata": {
        "id": "lgKtoJnTvYff"
      }
    },
    {
      "cell_type": "code",
      "source": [
        "import numpy as np\n",
        "a = np.random.randint(1,50, size=4)\n",
        "print(f\"The original vector is:\\n{a}\")\n",
        "\n",
        "sqrt_vector = np.sqrt(a)\n",
        "print(f\"The vector of square roots is:\\n{sqrt_vector}\")"
      ],
      "metadata": {
        "colab": {
          "base_uri": "https://localhost:8080/"
        },
        "id": "qbe-9Tljva-j",
        "outputId": "aa70d21e-0342-47d2-ed57-fbb97f7cee64"
      },
      "execution_count": 21,
      "outputs": [
        {
          "output_type": "stream",
          "name": "stdout",
          "text": [
            "The original vector is:\n",
            "[ 8 29 26  7]\n",
            "The vector of square roots is:\n",
            "[2.82842712 5.38516481 5.09901951 2.64575131]\n"
          ]
        }
      ]
    }
  ]
}