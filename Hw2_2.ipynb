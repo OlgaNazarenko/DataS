{
  "nbformat": 4,
  "nbformat_minor": 0,
  "metadata": {
    "colab": {
      "provenance": []
    },
    "kernelspec": {
      "name": "python3",
      "display_name": "Python 3"
    },
    "language_info": {
      "name": "python"
    }
  },
  "cells": [
    {
      "cell_type": "markdown",
      "source": [
        "##Частина друга: Аналіз файлів\n",
        "\n",
        "Проведіть аналіз файлу 2017_jun_final.csv. Файл містить результати опитування розробників у червні 2017 року."
      ],
      "metadata": {
        "id": "zCeT-UQJa3oA"
      }
    },
    {
      "cell_type": "code",
      "source": [
        "import pandas as pd\n",
        "import numpy as np\n",
        "import matplotlib.pyplot as plt"
      ],
      "metadata": {
        "id": "XJVM8Ehsa6e5"
      },
      "execution_count": 4,
      "outputs": []
    },
    {
      "cell_type": "markdown",
      "source": [
        "Прочитайте файл 2017_jun_final.csv за допомогою методу read_csv"
      ],
      "metadata": {
        "id": "2IeQkOB7bfl_"
      }
    },
    {
      "cell_type": "code",
      "source": [
        "from google.colab import drive\n",
        "drive.mount('/content/gdrive')"
      ],
      "metadata": {
        "colab": {
          "base_uri": "https://localhost:8080/"
        },
        "id": "uD_lR15ccsJm",
        "outputId": "6f14eeba-53da-4611-e1fa-b57b20ef03ee"
      },
      "execution_count": null,
      "outputs": [
        {
          "output_type": "stream",
          "name": "stdout",
          "text": [
            "Drive already mounted at /content/gdrive; to attempt to forcibly remount, call drive.mount(\"/content/gdrive\", force_remount=True).\n"
          ]
        }
      ]
    },
    {
      "cell_type": "code",
      "source": [
        "data = pd.read_csv(\"/content/2017_jun_final.csv\")"
      ],
      "metadata": {
        "id": "iI_mvG6xdanz"
      },
      "execution_count": 19,
      "outputs": []
    },
    {
      "cell_type": "markdown",
      "source": [
        "Прочитайте отриману таблицю, використовуючи метод head:"
      ],
      "metadata": {
        "id": "1NxrvT_ceGM8"
      }
    },
    {
      "cell_type": "code",
      "source": [
        "data.head(5)"
      ],
      "metadata": {
        "colab": {
          "base_uri": "https://localhost:8080/",
          "height": 586
        },
        "id": "4hX-cUyLeHSr",
        "outputId": "cdacdb6b-87ed-4d07-ff5f-5dc16e4115fc"
      },
      "execution_count": 7,
      "outputs": [
        {
          "output_type": "execute_result",
          "data": {
            "text/plain": [
              "   N                 Должность Язык.программирования Специализация  \\\n",
              "0  1        Junior QA engineer                   NaN     Manual QA   \n",
              "1  2        Junior QA engineer                   NaN     Manual QA   \n",
              "2  3         Software Engineer               C#/.NET           NaN   \n",
              "3  4         Software Engineer            JavaScript           NaN   \n",
              "4  5  Senior Software Engineer            JavaScript           NaN   \n",
              "\n",
              "  Общий.опыт.работы Опыт.работы.на.текущем.месте  Зарплата.в.месяц  \\\n",
              "0               0.5                          0.5               400   \n",
              "1  меньше 3 месяцев             меньше 3 месяцев               430   \n",
              "2                 4                            1              2500   \n",
              "3                 5                            4              2000   \n",
              "4    10 и более лет                          0.5              4500   \n",
              "\n",
              "   Изменение.зарплаты.за.12.месяцев    Город     Размер.компании  ...  \\\n",
              "0                                 0  Харьков       до 10 человек  ...   \n",
              "1                               130  Харьков  свыше 1000 человек  ...   \n",
              "2                               800     Киев     до 1000 человек  ...   \n",
              "3                               400   Одесса      до 200 человек  ...   \n",
              "4                               500   Другой       до 10 человек  ...   \n",
              "\n",
              "  Еще.студент Уровень.английского                    Предметная.область  \\\n",
              "0        True       ниже среднего                         iOS,eCommerce   \n",
              "1        True       выше среднего                        Веб-разработка   \n",
              "2       False             средний  Веб-разработка,Корпоративные системы   \n",
              "3       False       ниже среднего   Desktop Applications,Веб-разработка   \n",
              "4       False             средний   Desktop Applications,Веб-разработка   \n",
              "\n",
              "       Дата.заполнения                                         User.Agent  \\\n",
              "0  12/06/2017 12:38:08  Mozilla/5.0 (Windows NT 10.0; Win64; x64) Appl...   \n",
              "1  12/06/2017 12:42:51  Mozilla/5.0 (iPad; CPU OS 10_2_1 like Mac OS X...   \n",
              "2  12/06/2017 13:02:47  Mozilla/5.0 (Windows NT 10.0; Win64; x64) Appl...   \n",
              "3  12/06/2017 13:03:01  Mozilla/5.0 (Windows NT 6.1; Win64; x64) Apple...   \n",
              "4  12/06/2017 13:03:47  Mozilla/5.0 (iPhone; CPU iPhone OS 10_3_2 like...   \n",
              "\n",
              "    exp current_job_exp salary Валюта  cls  \n",
              "0   0.5             0.5    400    NaN   QA  \n",
              "1   0.0             0.0    430    NaN   QA  \n",
              "2   4.0             1.0   2500    NaN  DEV  \n",
              "3   5.0             4.0   2000    NaN  DEV  \n",
              "4  10.0             0.5   4500    NaN  DEV  \n",
              "\n",
              "[5 rows x 25 columns]"
            ],
            "text/html": [
              "\n",
              "  <div id=\"df-eb2a5662-5ce7-44f1-ade5-a6f82c6b39b7\">\n",
              "    <div class=\"colab-df-container\">\n",
              "      <div>\n",
              "<style scoped>\n",
              "    .dataframe tbody tr th:only-of-type {\n",
              "        vertical-align: middle;\n",
              "    }\n",
              "\n",
              "    .dataframe tbody tr th {\n",
              "        vertical-align: top;\n",
              "    }\n",
              "\n",
              "    .dataframe thead th {\n",
              "        text-align: right;\n",
              "    }\n",
              "</style>\n",
              "<table border=\"1\" class=\"dataframe\">\n",
              "  <thead>\n",
              "    <tr style=\"text-align: right;\">\n",
              "      <th></th>\n",
              "      <th>N</th>\n",
              "      <th>Должность</th>\n",
              "      <th>Язык.программирования</th>\n",
              "      <th>Специализация</th>\n",
              "      <th>Общий.опыт.работы</th>\n",
              "      <th>Опыт.работы.на.текущем.месте</th>\n",
              "      <th>Зарплата.в.месяц</th>\n",
              "      <th>Изменение.зарплаты.за.12.месяцев</th>\n",
              "      <th>Город</th>\n",
              "      <th>Размер.компании</th>\n",
              "      <th>...</th>\n",
              "      <th>Еще.студент</th>\n",
              "      <th>Уровень.английского</th>\n",
              "      <th>Предметная.область</th>\n",
              "      <th>Дата.заполнения</th>\n",
              "      <th>User.Agent</th>\n",
              "      <th>exp</th>\n",
              "      <th>current_job_exp</th>\n",
              "      <th>salary</th>\n",
              "      <th>Валюта</th>\n",
              "      <th>cls</th>\n",
              "    </tr>\n",
              "  </thead>\n",
              "  <tbody>\n",
              "    <tr>\n",
              "      <th>0</th>\n",
              "      <td>1</td>\n",
              "      <td>Junior QA engineer</td>\n",
              "      <td>NaN</td>\n",
              "      <td>Manual QA</td>\n",
              "      <td>0.5</td>\n",
              "      <td>0.5</td>\n",
              "      <td>400</td>\n",
              "      <td>0</td>\n",
              "      <td>Харьков</td>\n",
              "      <td>до 10 человек</td>\n",
              "      <td>...</td>\n",
              "      <td>True</td>\n",
              "      <td>ниже среднего</td>\n",
              "      <td>iOS,eCommerce</td>\n",
              "      <td>12/06/2017 12:38:08</td>\n",
              "      <td>Mozilla/5.0 (Windows NT 10.0; Win64; x64) Appl...</td>\n",
              "      <td>0.5</td>\n",
              "      <td>0.5</td>\n",
              "      <td>400</td>\n",
              "      <td>NaN</td>\n",
              "      <td>QA</td>\n",
              "    </tr>\n",
              "    <tr>\n",
              "      <th>1</th>\n",
              "      <td>2</td>\n",
              "      <td>Junior QA engineer</td>\n",
              "      <td>NaN</td>\n",
              "      <td>Manual QA</td>\n",
              "      <td>меньше 3 месяцев</td>\n",
              "      <td>меньше 3 месяцев</td>\n",
              "      <td>430</td>\n",
              "      <td>130</td>\n",
              "      <td>Харьков</td>\n",
              "      <td>свыше 1000 человек</td>\n",
              "      <td>...</td>\n",
              "      <td>True</td>\n",
              "      <td>выше среднего</td>\n",
              "      <td>Веб-разработка</td>\n",
              "      <td>12/06/2017 12:42:51</td>\n",
              "      <td>Mozilla/5.0 (iPad; CPU OS 10_2_1 like Mac OS X...</td>\n",
              "      <td>0.0</td>\n",
              "      <td>0.0</td>\n",
              "      <td>430</td>\n",
              "      <td>NaN</td>\n",
              "      <td>QA</td>\n",
              "    </tr>\n",
              "    <tr>\n",
              "      <th>2</th>\n",
              "      <td>3</td>\n",
              "      <td>Software Engineer</td>\n",
              "      <td>C#/.NET</td>\n",
              "      <td>NaN</td>\n",
              "      <td>4</td>\n",
              "      <td>1</td>\n",
              "      <td>2500</td>\n",
              "      <td>800</td>\n",
              "      <td>Киев</td>\n",
              "      <td>до 1000 человек</td>\n",
              "      <td>...</td>\n",
              "      <td>False</td>\n",
              "      <td>средний</td>\n",
              "      <td>Веб-разработка,Корпоративные системы</td>\n",
              "      <td>12/06/2017 13:02:47</td>\n",
              "      <td>Mozilla/5.0 (Windows NT 10.0; Win64; x64) Appl...</td>\n",
              "      <td>4.0</td>\n",
              "      <td>1.0</td>\n",
              "      <td>2500</td>\n",
              "      <td>NaN</td>\n",
              "      <td>DEV</td>\n",
              "    </tr>\n",
              "    <tr>\n",
              "      <th>3</th>\n",
              "      <td>4</td>\n",
              "      <td>Software Engineer</td>\n",
              "      <td>JavaScript</td>\n",
              "      <td>NaN</td>\n",
              "      <td>5</td>\n",
              "      <td>4</td>\n",
              "      <td>2000</td>\n",
              "      <td>400</td>\n",
              "      <td>Одесса</td>\n",
              "      <td>до 200 человек</td>\n",
              "      <td>...</td>\n",
              "      <td>False</td>\n",
              "      <td>ниже среднего</td>\n",
              "      <td>Desktop Applications,Веб-разработка</td>\n",
              "      <td>12/06/2017 13:03:01</td>\n",
              "      <td>Mozilla/5.0 (Windows NT 6.1; Win64; x64) Apple...</td>\n",
              "      <td>5.0</td>\n",
              "      <td>4.0</td>\n",
              "      <td>2000</td>\n",
              "      <td>NaN</td>\n",
              "      <td>DEV</td>\n",
              "    </tr>\n",
              "    <tr>\n",
              "      <th>4</th>\n",
              "      <td>5</td>\n",
              "      <td>Senior Software Engineer</td>\n",
              "      <td>JavaScript</td>\n",
              "      <td>NaN</td>\n",
              "      <td>10 и более лет</td>\n",
              "      <td>0.5</td>\n",
              "      <td>4500</td>\n",
              "      <td>500</td>\n",
              "      <td>Другой</td>\n",
              "      <td>до 10 человек</td>\n",
              "      <td>...</td>\n",
              "      <td>False</td>\n",
              "      <td>средний</td>\n",
              "      <td>Desktop Applications,Веб-разработка</td>\n",
              "      <td>12/06/2017 13:03:47</td>\n",
              "      <td>Mozilla/5.0 (iPhone; CPU iPhone OS 10_3_2 like...</td>\n",
              "      <td>10.0</td>\n",
              "      <td>0.5</td>\n",
              "      <td>4500</td>\n",
              "      <td>NaN</td>\n",
              "      <td>DEV</td>\n",
              "    </tr>\n",
              "  </tbody>\n",
              "</table>\n",
              "<p>5 rows × 25 columns</p>\n",
              "</div>\n",
              "      <button class=\"colab-df-convert\" onclick=\"convertToInteractive('df-eb2a5662-5ce7-44f1-ade5-a6f82c6b39b7')\"\n",
              "              title=\"Convert this dataframe to an interactive table.\"\n",
              "              style=\"display:none;\">\n",
              "        \n",
              "  <svg xmlns=\"http://www.w3.org/2000/svg\" height=\"24px\"viewBox=\"0 0 24 24\"\n",
              "       width=\"24px\">\n",
              "    <path d=\"M0 0h24v24H0V0z\" fill=\"none\"/>\n",
              "    <path d=\"M18.56 5.44l.94 2.06.94-2.06 2.06-.94-2.06-.94-.94-2.06-.94 2.06-2.06.94zm-11 1L8.5 8.5l.94-2.06 2.06-.94-2.06-.94L8.5 2.5l-.94 2.06-2.06.94zm10 10l.94 2.06.94-2.06 2.06-.94-2.06-.94-.94-2.06-.94 2.06-2.06.94z\"/><path d=\"M17.41 7.96l-1.37-1.37c-.4-.4-.92-.59-1.43-.59-.52 0-1.04.2-1.43.59L10.3 9.45l-7.72 7.72c-.78.78-.78 2.05 0 2.83L4 21.41c.39.39.9.59 1.41.59.51 0 1.02-.2 1.41-.59l7.78-7.78 2.81-2.81c.8-.78.8-2.07 0-2.86zM5.41 20L4 18.59l7.72-7.72 1.47 1.35L5.41 20z\"/>\n",
              "  </svg>\n",
              "      </button>\n",
              "      \n",
              "  <style>\n",
              "    .colab-df-container {\n",
              "      display:flex;\n",
              "      flex-wrap:wrap;\n",
              "      gap: 12px;\n",
              "    }\n",
              "\n",
              "    .colab-df-convert {\n",
              "      background-color: #E8F0FE;\n",
              "      border: none;\n",
              "      border-radius: 50%;\n",
              "      cursor: pointer;\n",
              "      display: none;\n",
              "      fill: #1967D2;\n",
              "      height: 32px;\n",
              "      padding: 0 0 0 0;\n",
              "      width: 32px;\n",
              "    }\n",
              "\n",
              "    .colab-df-convert:hover {\n",
              "      background-color: #E2EBFA;\n",
              "      box-shadow: 0px 1px 2px rgba(60, 64, 67, 0.3), 0px 1px 3px 1px rgba(60, 64, 67, 0.15);\n",
              "      fill: #174EA6;\n",
              "    }\n",
              "\n",
              "    [theme=dark] .colab-df-convert {\n",
              "      background-color: #3B4455;\n",
              "      fill: #D2E3FC;\n",
              "    }\n",
              "\n",
              "    [theme=dark] .colab-df-convert:hover {\n",
              "      background-color: #434B5C;\n",
              "      box-shadow: 0px 1px 3px 1px rgba(0, 0, 0, 0.15);\n",
              "      filter: drop-shadow(0px 1px 2px rgba(0, 0, 0, 0.3));\n",
              "      fill: #FFFFFF;\n",
              "    }\n",
              "  </style>\n",
              "\n",
              "      <script>\n",
              "        const buttonEl =\n",
              "          document.querySelector('#df-eb2a5662-5ce7-44f1-ade5-a6f82c6b39b7 button.colab-df-convert');\n",
              "        buttonEl.style.display =\n",
              "          google.colab.kernel.accessAllowed ? 'block' : 'none';\n",
              "\n",
              "        async function convertToInteractive(key) {\n",
              "          const element = document.querySelector('#df-eb2a5662-5ce7-44f1-ade5-a6f82c6b39b7');\n",
              "          const dataTable =\n",
              "            await google.colab.kernel.invokeFunction('convertToInteractive',\n",
              "                                                     [key], {});\n",
              "          if (!dataTable) return;\n",
              "\n",
              "          const docLinkHtml = 'Like what you see? Visit the ' +\n",
              "            '<a target=\"_blank\" href=https://colab.research.google.com/notebooks/data_table.ipynb>data table notebook</a>'\n",
              "            + ' to learn more about interactive tables.';\n",
              "          element.innerHTML = '';\n",
              "          dataTable['output_type'] = 'display_data';\n",
              "          await google.colab.output.renderOutput(dataTable, element);\n",
              "          const docLink = document.createElement('div');\n",
              "          docLink.innerHTML = docLinkHtml;\n",
              "          element.appendChild(docLink);\n",
              "        }\n",
              "      </script>\n",
              "    </div>\n",
              "  </div>\n",
              "  "
            ]
          },
          "metadata": {},
          "execution_count": 7
        }
      ]
    },
    {
      "cell_type": "markdown",
      "source": [
        "Визначте розмір таблиці за допомогою методу shape:"
      ],
      "metadata": {
        "id": "Ls-0uLBneQEv"
      }
    },
    {
      "cell_type": "code",
      "source": [
        "data.shape"
      ],
      "metadata": {
        "colab": {
          "base_uri": "https://localhost:8080/"
        },
        "id": "jf7Y4cSeeQ11",
        "outputId": "08e0331f-221c-4abb-f243-38620fdff5f7"
      },
      "execution_count": 8,
      "outputs": [
        {
          "output_type": "execute_result",
          "data": {
            "text/plain": [
              "(8704, 25)"
            ]
          },
          "metadata": {},
          "execution_count": 8
        }
      ]
    },
    {
      "cell_type": "markdown",
      "source": [
        "Визначте типи всіх стовпців за допомогою dataframe.dtypes:"
      ],
      "metadata": {
        "id": "QK2w8f6HeWh6"
      }
    },
    {
      "cell_type": "code",
      "source": [
        "data.dtypes"
      ],
      "metadata": {
        "colab": {
          "base_uri": "https://localhost:8080/"
        },
        "id": "rgQ7Ytb4eXXg",
        "outputId": "d1832b9c-823a-4aaa-8a7a-2a863d122cdc"
      },
      "execution_count": 9,
      "outputs": [
        {
          "output_type": "execute_result",
          "data": {
            "text/plain": [
              "N                                     int64\n",
              "Должность                            object\n",
              "Язык.программирования                object\n",
              "Специализация                        object\n",
              "Общий.опыт.работы                    object\n",
              "Опыт.работы.на.текущем.месте         object\n",
              "Зарплата.в.месяц                      int64\n",
              "Изменение.зарплаты.за.12.месяцев      int64\n",
              "Город                                object\n",
              "Размер.компании                      object\n",
              "Тип.компании                         object\n",
              "Пол                                  object\n",
              "Возраст                               int64\n",
              "Образование                          object\n",
              "Университет                          object\n",
              "Еще.студент                            bool\n",
              "Уровень.английского                  object\n",
              "Предметная.область                   object\n",
              "Дата.заполнения                      object\n",
              "User.Agent                           object\n",
              "exp                                 float64\n",
              "current_job_exp                     float64\n",
              "salary                                int64\n",
              "Валюта                               object\n",
              "cls                                  object\n",
              "dtype: object"
            ]
          },
          "metadata": {},
          "execution_count": 9
        }
      ]
    },
    {
      "cell_type": "markdown",
      "source": [
        "Порахуйте, яка частка пропусків міститься в кожній колонці (використовуйте методи isnull та sum):"
      ],
      "metadata": {
        "id": "tNqxwLRqegRZ"
      }
    },
    {
      "cell_type": "code",
      "source": [
        "data.isnull().sum()"
      ],
      "metadata": {
        "colab": {
          "base_uri": "https://localhost:8080/"
        },
        "id": "XRsQVYY8ehPR",
        "outputId": "88fe9c10-1c57-4589-dc1e-ccdd9850259b"
      },
      "execution_count": 20,
      "outputs": [
        {
          "output_type": "execute_result",
          "data": {
            "text/plain": [
              "N                                      0\n",
              "Должность                              0\n",
              "Язык.программирования               3850\n",
              "Специализация                       7219\n",
              "Общий.опыт.работы                      0\n",
              "Опыт.работы.на.текущем.месте           0\n",
              "Зарплата.в.месяц                       0\n",
              "Изменение.зарплаты.за.12.месяцев       0\n",
              "Город                                  0\n",
              "Размер.компании                        0\n",
              "Тип.компании                           0\n",
              "Пол                                    0\n",
              "Возраст                                0\n",
              "Образование                            0\n",
              "Университет                          358\n",
              "Еще.студент                            0\n",
              "Уровень.английского                    0\n",
              "Предметная.область                   223\n",
              "Дата.заполнения                        0\n",
              "User.Agent                             0\n",
              "exp                                    0\n",
              "current_job_exp                        0\n",
              "salary                                 0\n",
              "Валюта                              8694\n",
              "cls                                 1574\n",
              "dtype: int64"
            ]
          },
          "metadata": {},
          "execution_count": 20
        }
      ]
    },
    {
      "cell_type": "markdown",
      "source": [
        "Видаліть усі стовпці з пропусками, крім стовпця \"Мова програмування\":"
      ],
      "metadata": {
        "id": "9LhUHjTpetZu"
      }
    },
    {
      "cell_type": "code",
      "source": [
        "null_col=data.isnull().sum()\n",
        "null_col=null_col[data.isnull().sum()>0]\n",
        "idx=null_col.index\n",
        "data.drop(idx[1:], axis=1,inplace=True)\n",
        "# data.drop(data.iloc[:, 3:], inplace=True, axis=1)\n",
        "\n",
        "data.isnull().sum()"
      ],
      "metadata": {
        "colab": {
          "base_uri": "https://localhost:8080/"
        },
        "id": "6opVuxSyeunN",
        "outputId": "b8421079-d16f-412a-e276-009231a9af4f"
      },
      "execution_count": 21,
      "outputs": [
        {
          "output_type": "execute_result",
          "data": {
            "text/plain": [
              "N                                      0\n",
              "Должность                              0\n",
              "Язык.программирования               3850\n",
              "Общий.опыт.работы                      0\n",
              "Опыт.работы.на.текущем.месте           0\n",
              "Зарплата.в.месяц                       0\n",
              "Изменение.зарплаты.за.12.месяцев       0\n",
              "Город                                  0\n",
              "Размер.компании                        0\n",
              "Тип.компании                           0\n",
              "Пол                                    0\n",
              "Возраст                                0\n",
              "Образование                            0\n",
              "Еще.студент                            0\n",
              "Уровень.английского                    0\n",
              "Дата.заполнения                        0\n",
              "User.Agent                             0\n",
              "exp                                    0\n",
              "current_job_exp                        0\n",
              "salary                                 0\n",
              "dtype: int64"
            ]
          },
          "metadata": {},
          "execution_count": 21
        }
      ]
    },
    {
      "cell_type": "markdown",
      "source": [
        "Знову порахуйте, яка частка пропусків міститься в кожній колонці і переконайтеся, що залишився тільки стовпець \"Мова.програмування\":"
      ],
      "metadata": {
        "id": "CseJqYjvro7y"
      }
    },
    {
      "cell_type": "code",
      "source": [
        "data.isnull().sum()\n",
        "data.shape"
      ],
      "metadata": {
        "colab": {
          "base_uri": "https://localhost:8080/"
        },
        "id": "JutxvXLtrqga",
        "outputId": "76f7ae09-8b48-4dbc-8d75-958c913dccd8"
      },
      "execution_count": 22,
      "outputs": [
        {
          "output_type": "execute_result",
          "data": {
            "text/plain": [
              "(8704, 20)"
            ]
          },
          "metadata": {},
          "execution_count": 22
        }
      ]
    },
    {
      "cell_type": "markdown",
      "source": [
        "Видаліть усі рядки у вихідній таблиці за допомогою методу dropna:"
      ],
      "metadata": {
        "id": "5xyV1k1CsK11"
      }
    },
    {
      "cell_type": "code",
      "source": [
        "data = data.dropna()"
      ],
      "metadata": {
        "id": "Ze5xPnatsLhz"
      },
      "execution_count": 23,
      "outputs": []
    },
    {
      "cell_type": "markdown",
      "source": [
        "Визначте новий розмір таблиці за допомогою методу shape:"
      ],
      "metadata": {
        "id": "CViUkb76sZWh"
      }
    },
    {
      "cell_type": "code",
      "source": [
        "data.shape"
      ],
      "metadata": {
        "colab": {
          "base_uri": "https://localhost:8080/"
        },
        "id": "XdWPPbuENXM0",
        "outputId": "0b1efd4f-7027-4c1c-8e8e-f3bf34c7ae1e"
      },
      "execution_count": 24,
      "outputs": [
        {
          "output_type": "execute_result",
          "data": {
            "text/plain": [
              "(4854, 20)"
            ]
          },
          "metadata": {},
          "execution_count": 24
        }
      ]
    },
    {
      "cell_type": "markdown",
      "source": [
        "Створіть нову таблицю python_data, в якій будуть тільки рядки зі спеціалістами, які вказали мову програмування Python:"
      ],
      "metadata": {
        "id": "1u-P3Vcotdwm"
      }
    },
    {
      "cell_type": "code",
      "source": [
        "python_data = data[data[\"Язык.программирования\"] == 'Python']\n",
        "\n",
        "python_data.head(2)"
      ],
      "metadata": {
        "colab": {
          "base_uri": "https://localhost:8080/",
          "height": 277
        },
        "id": "mhbF8Fh9te8n",
        "outputId": "8db4ec1c-1330-44f0-ccce-99e14962cbfe"
      },
      "execution_count": 25,
      "outputs": [
        {
          "output_type": "execute_result",
          "data": {
            "text/plain": [
              "     N          Должность Язык.программирования Общий.опыт.работы  \\\n",
              "12  13  Software Engineer                Python                 1   \n",
              "68  69  Software Engineer                Python               1.5   \n",
              "\n",
              "   Опыт.работы.на.текущем.месте  Зарплата.в.месяц  \\\n",
              "12             меньше 3 месяцев               800   \n",
              "68                          0.5               900   \n",
              "\n",
              "    Изменение.зарплаты.за.12.месяцев Город Размер.компании    Тип.компании  \\\n",
              "12                               200  Киев   до 50 человек  Аутсорсинговая   \n",
              "68                               900  Киев   до 10 человек         Стартап   \n",
              "\n",
              "        Пол  Возраст           Образование  Еще.студент Уровень.английского  \\\n",
              "12  мужской       26                Высшее        False       ниже среднего   \n",
              "68  мужской       21  Незаконченное высшее         True       выше среднего   \n",
              "\n",
              "        Дата.заполнения                                         User.Agent  \\\n",
              "12  12/06/2017 13:05:54  Mozilla/5.0 (Windows NT 6.1; Win64; x64) Apple...   \n",
              "68  12/06/2017 13:11:17  Mozilla/5.0 (Windows NT 10.0; Win64; x64) Appl...   \n",
              "\n",
              "    exp  current_job_exp  salary  \n",
              "12  1.0              0.0     800  \n",
              "68  1.5              0.5     900  "
            ],
            "text/html": [
              "\n",
              "  <div id=\"df-56abf0bc-1dfa-4e62-aa1b-a10414569709\">\n",
              "    <div class=\"colab-df-container\">\n",
              "      <div>\n",
              "<style scoped>\n",
              "    .dataframe tbody tr th:only-of-type {\n",
              "        vertical-align: middle;\n",
              "    }\n",
              "\n",
              "    .dataframe tbody tr th {\n",
              "        vertical-align: top;\n",
              "    }\n",
              "\n",
              "    .dataframe thead th {\n",
              "        text-align: right;\n",
              "    }\n",
              "</style>\n",
              "<table border=\"1\" class=\"dataframe\">\n",
              "  <thead>\n",
              "    <tr style=\"text-align: right;\">\n",
              "      <th></th>\n",
              "      <th>N</th>\n",
              "      <th>Должность</th>\n",
              "      <th>Язык.программирования</th>\n",
              "      <th>Общий.опыт.работы</th>\n",
              "      <th>Опыт.работы.на.текущем.месте</th>\n",
              "      <th>Зарплата.в.месяц</th>\n",
              "      <th>Изменение.зарплаты.за.12.месяцев</th>\n",
              "      <th>Город</th>\n",
              "      <th>Размер.компании</th>\n",
              "      <th>Тип.компании</th>\n",
              "      <th>Пол</th>\n",
              "      <th>Возраст</th>\n",
              "      <th>Образование</th>\n",
              "      <th>Еще.студент</th>\n",
              "      <th>Уровень.английского</th>\n",
              "      <th>Дата.заполнения</th>\n",
              "      <th>User.Agent</th>\n",
              "      <th>exp</th>\n",
              "      <th>current_job_exp</th>\n",
              "      <th>salary</th>\n",
              "    </tr>\n",
              "  </thead>\n",
              "  <tbody>\n",
              "    <tr>\n",
              "      <th>12</th>\n",
              "      <td>13</td>\n",
              "      <td>Software Engineer</td>\n",
              "      <td>Python</td>\n",
              "      <td>1</td>\n",
              "      <td>меньше 3 месяцев</td>\n",
              "      <td>800</td>\n",
              "      <td>200</td>\n",
              "      <td>Киев</td>\n",
              "      <td>до 50 человек</td>\n",
              "      <td>Аутсорсинговая</td>\n",
              "      <td>мужской</td>\n",
              "      <td>26</td>\n",
              "      <td>Высшее</td>\n",
              "      <td>False</td>\n",
              "      <td>ниже среднего</td>\n",
              "      <td>12/06/2017 13:05:54</td>\n",
              "      <td>Mozilla/5.0 (Windows NT 6.1; Win64; x64) Apple...</td>\n",
              "      <td>1.0</td>\n",
              "      <td>0.0</td>\n",
              "      <td>800</td>\n",
              "    </tr>\n",
              "    <tr>\n",
              "      <th>68</th>\n",
              "      <td>69</td>\n",
              "      <td>Software Engineer</td>\n",
              "      <td>Python</td>\n",
              "      <td>1.5</td>\n",
              "      <td>0.5</td>\n",
              "      <td>900</td>\n",
              "      <td>900</td>\n",
              "      <td>Киев</td>\n",
              "      <td>до 10 человек</td>\n",
              "      <td>Стартап</td>\n",
              "      <td>мужской</td>\n",
              "      <td>21</td>\n",
              "      <td>Незаконченное высшее</td>\n",
              "      <td>True</td>\n",
              "      <td>выше среднего</td>\n",
              "      <td>12/06/2017 13:11:17</td>\n",
              "      <td>Mozilla/5.0 (Windows NT 10.0; Win64; x64) Appl...</td>\n",
              "      <td>1.5</td>\n",
              "      <td>0.5</td>\n",
              "      <td>900</td>\n",
              "    </tr>\n",
              "  </tbody>\n",
              "</table>\n",
              "</div>\n",
              "      <button class=\"colab-df-convert\" onclick=\"convertToInteractive('df-56abf0bc-1dfa-4e62-aa1b-a10414569709')\"\n",
              "              title=\"Convert this dataframe to an interactive table.\"\n",
              "              style=\"display:none;\">\n",
              "        \n",
              "  <svg xmlns=\"http://www.w3.org/2000/svg\" height=\"24px\"viewBox=\"0 0 24 24\"\n",
              "       width=\"24px\">\n",
              "    <path d=\"M0 0h24v24H0V0z\" fill=\"none\"/>\n",
              "    <path d=\"M18.56 5.44l.94 2.06.94-2.06 2.06-.94-2.06-.94-.94-2.06-.94 2.06-2.06.94zm-11 1L8.5 8.5l.94-2.06 2.06-.94-2.06-.94L8.5 2.5l-.94 2.06-2.06.94zm10 10l.94 2.06.94-2.06 2.06-.94-2.06-.94-.94-2.06-.94 2.06-2.06.94z\"/><path d=\"M17.41 7.96l-1.37-1.37c-.4-.4-.92-.59-1.43-.59-.52 0-1.04.2-1.43.59L10.3 9.45l-7.72 7.72c-.78.78-.78 2.05 0 2.83L4 21.41c.39.39.9.59 1.41.59.51 0 1.02-.2 1.41-.59l7.78-7.78 2.81-2.81c.8-.78.8-2.07 0-2.86zM5.41 20L4 18.59l7.72-7.72 1.47 1.35L5.41 20z\"/>\n",
              "  </svg>\n",
              "      </button>\n",
              "      \n",
              "  <style>\n",
              "    .colab-df-container {\n",
              "      display:flex;\n",
              "      flex-wrap:wrap;\n",
              "      gap: 12px;\n",
              "    }\n",
              "\n",
              "    .colab-df-convert {\n",
              "      background-color: #E8F0FE;\n",
              "      border: none;\n",
              "      border-radius: 50%;\n",
              "      cursor: pointer;\n",
              "      display: none;\n",
              "      fill: #1967D2;\n",
              "      height: 32px;\n",
              "      padding: 0 0 0 0;\n",
              "      width: 32px;\n",
              "    }\n",
              "\n",
              "    .colab-df-convert:hover {\n",
              "      background-color: #E2EBFA;\n",
              "      box-shadow: 0px 1px 2px rgba(60, 64, 67, 0.3), 0px 1px 3px 1px rgba(60, 64, 67, 0.15);\n",
              "      fill: #174EA6;\n",
              "    }\n",
              "\n",
              "    [theme=dark] .colab-df-convert {\n",
              "      background-color: #3B4455;\n",
              "      fill: #D2E3FC;\n",
              "    }\n",
              "\n",
              "    [theme=dark] .colab-df-convert:hover {\n",
              "      background-color: #434B5C;\n",
              "      box-shadow: 0px 1px 3px 1px rgba(0, 0, 0, 0.15);\n",
              "      filter: drop-shadow(0px 1px 2px rgba(0, 0, 0, 0.3));\n",
              "      fill: #FFFFFF;\n",
              "    }\n",
              "  </style>\n",
              "\n",
              "      <script>\n",
              "        const buttonEl =\n",
              "          document.querySelector('#df-56abf0bc-1dfa-4e62-aa1b-a10414569709 button.colab-df-convert');\n",
              "        buttonEl.style.display =\n",
              "          google.colab.kernel.accessAllowed ? 'block' : 'none';\n",
              "\n",
              "        async function convertToInteractive(key) {\n",
              "          const element = document.querySelector('#df-56abf0bc-1dfa-4e62-aa1b-a10414569709');\n",
              "          const dataTable =\n",
              "            await google.colab.kernel.invokeFunction('convertToInteractive',\n",
              "                                                     [key], {});\n",
              "          if (!dataTable) return;\n",
              "\n",
              "          const docLinkHtml = 'Like what you see? Visit the ' +\n",
              "            '<a target=\"_blank\" href=https://colab.research.google.com/notebooks/data_table.ipynb>data table notebook</a>'\n",
              "            + ' to learn more about interactive tables.';\n",
              "          element.innerHTML = '';\n",
              "          dataTable['output_type'] = 'display_data';\n",
              "          await google.colab.output.renderOutput(dataTable, element);\n",
              "          const docLink = document.createElement('div');\n",
              "          docLink.innerHTML = docLinkHtml;\n",
              "          element.appendChild(docLink);\n",
              "        }\n",
              "      </script>\n",
              "    </div>\n",
              "  </div>\n",
              "  "
            ]
          },
          "metadata": {},
          "execution_count": 25
        }
      ]
    },
    {
      "cell_type": "markdown",
      "source": [
        "Визначте розмір таблиці python_data за допомогою методу shape:"
      ],
      "metadata": {
        "id": "rkD0h8wdxMt9"
      }
    },
    {
      "cell_type": "code",
      "source": [
        "python_data.shape"
      ],
      "metadata": {
        "colab": {
          "base_uri": "https://localhost:8080/"
        },
        "id": "OqW5sk_YxNtM",
        "outputId": "aa84912b-f445-4c83-a493-80b9f8645da3"
      },
      "execution_count": 26,
      "outputs": [
        {
          "output_type": "execute_result",
          "data": {
            "text/plain": [
              "(207, 20)"
            ]
          },
          "metadata": {},
          "execution_count": 26
        }
      ]
    },
    {
      "cell_type": "markdown",
      "source": [
        "Використовуючи метод groupby, виконайте групування за стовпчиком \"Посада\":"
      ],
      "metadata": {
        "id": "nFns5hEu4X_E"
      }
    },
    {
      "cell_type": "code",
      "source": [
        "grouped = python_data.groupby(by=[\"Должность\"]).sum(numeric_only=True)\n",
        "grouped"
      ],
      "metadata": {
        "colab": {
          "base_uri": "https://localhost:8080/",
          "height": 418
        },
        "id": "wY8iaL7N4ZEl",
        "outputId": "2dec70e1-b3ab-4208-956c-9c5d9e8b65b2"
      },
      "execution_count": 27,
      "outputs": [
        {
          "output_type": "execute_result",
          "data": {
            "text/plain": [
              "                               N  Зарплата.в.месяц  \\\n",
              "Должность                                            \n",
              "Junior Software Engineer  224221             35333   \n",
              "Senior Software Engineer  148238            105000   \n",
              "Software Engineer         366884            179907   \n",
              "System Architect           13978              8000   \n",
              "Technical Lead             59072             34825   \n",
              "\n",
              "                          Изменение.зарплаты.за.12.месяцев  Возраст  \\\n",
              "Должность                                                             \n",
              "Junior Software Engineer                             11405     1523   \n",
              "Senior Software Engineer                             13380      901   \n",
              "Software Engineer                                    47983     2663   \n",
              "System Architect                                         0       71   \n",
              "Technical Lead                                        5005      331   \n",
              "\n",
              "                          Еще.студент     exp  current_job_exp  salary  \n",
              "Должность                                                               \n",
              "Junior Software Engineer           24   55.25            33.00   35333  \n",
              "Senior Software Engineer            1  207.00            48.25  105000  \n",
              "Software Engineer                  13  318.00           112.75  179907  \n",
              "System Architect                    0   20.00             2.25    8000  \n",
              "Technical Lead                      0   78.00            37.25   34825  "
            ],
            "text/html": [
              "\n",
              "  <div id=\"df-62fdedbe-5909-41f3-ad7f-cb2a87106422\">\n",
              "    <div class=\"colab-df-container\">\n",
              "      <div>\n",
              "<style scoped>\n",
              "    .dataframe tbody tr th:only-of-type {\n",
              "        vertical-align: middle;\n",
              "    }\n",
              "\n",
              "    .dataframe tbody tr th {\n",
              "        vertical-align: top;\n",
              "    }\n",
              "\n",
              "    .dataframe thead th {\n",
              "        text-align: right;\n",
              "    }\n",
              "</style>\n",
              "<table border=\"1\" class=\"dataframe\">\n",
              "  <thead>\n",
              "    <tr style=\"text-align: right;\">\n",
              "      <th></th>\n",
              "      <th>N</th>\n",
              "      <th>Зарплата.в.месяц</th>\n",
              "      <th>Изменение.зарплаты.за.12.месяцев</th>\n",
              "      <th>Возраст</th>\n",
              "      <th>Еще.студент</th>\n",
              "      <th>exp</th>\n",
              "      <th>current_job_exp</th>\n",
              "      <th>salary</th>\n",
              "    </tr>\n",
              "    <tr>\n",
              "      <th>Должность</th>\n",
              "      <th></th>\n",
              "      <th></th>\n",
              "      <th></th>\n",
              "      <th></th>\n",
              "      <th></th>\n",
              "      <th></th>\n",
              "      <th></th>\n",
              "      <th></th>\n",
              "    </tr>\n",
              "  </thead>\n",
              "  <tbody>\n",
              "    <tr>\n",
              "      <th>Junior Software Engineer</th>\n",
              "      <td>224221</td>\n",
              "      <td>35333</td>\n",
              "      <td>11405</td>\n",
              "      <td>1523</td>\n",
              "      <td>24</td>\n",
              "      <td>55.25</td>\n",
              "      <td>33.00</td>\n",
              "      <td>35333</td>\n",
              "    </tr>\n",
              "    <tr>\n",
              "      <th>Senior Software Engineer</th>\n",
              "      <td>148238</td>\n",
              "      <td>105000</td>\n",
              "      <td>13380</td>\n",
              "      <td>901</td>\n",
              "      <td>1</td>\n",
              "      <td>207.00</td>\n",
              "      <td>48.25</td>\n",
              "      <td>105000</td>\n",
              "    </tr>\n",
              "    <tr>\n",
              "      <th>Software Engineer</th>\n",
              "      <td>366884</td>\n",
              "      <td>179907</td>\n",
              "      <td>47983</td>\n",
              "      <td>2663</td>\n",
              "      <td>13</td>\n",
              "      <td>318.00</td>\n",
              "      <td>112.75</td>\n",
              "      <td>179907</td>\n",
              "    </tr>\n",
              "    <tr>\n",
              "      <th>System Architect</th>\n",
              "      <td>13978</td>\n",
              "      <td>8000</td>\n",
              "      <td>0</td>\n",
              "      <td>71</td>\n",
              "      <td>0</td>\n",
              "      <td>20.00</td>\n",
              "      <td>2.25</td>\n",
              "      <td>8000</td>\n",
              "    </tr>\n",
              "    <tr>\n",
              "      <th>Technical Lead</th>\n",
              "      <td>59072</td>\n",
              "      <td>34825</td>\n",
              "      <td>5005</td>\n",
              "      <td>331</td>\n",
              "      <td>0</td>\n",
              "      <td>78.00</td>\n",
              "      <td>37.25</td>\n",
              "      <td>34825</td>\n",
              "    </tr>\n",
              "  </tbody>\n",
              "</table>\n",
              "</div>\n",
              "      <button class=\"colab-df-convert\" onclick=\"convertToInteractive('df-62fdedbe-5909-41f3-ad7f-cb2a87106422')\"\n",
              "              title=\"Convert this dataframe to an interactive table.\"\n",
              "              style=\"display:none;\">\n",
              "        \n",
              "  <svg xmlns=\"http://www.w3.org/2000/svg\" height=\"24px\"viewBox=\"0 0 24 24\"\n",
              "       width=\"24px\">\n",
              "    <path d=\"M0 0h24v24H0V0z\" fill=\"none\"/>\n",
              "    <path d=\"M18.56 5.44l.94 2.06.94-2.06 2.06-.94-2.06-.94-.94-2.06-.94 2.06-2.06.94zm-11 1L8.5 8.5l.94-2.06 2.06-.94-2.06-.94L8.5 2.5l-.94 2.06-2.06.94zm10 10l.94 2.06.94-2.06 2.06-.94-2.06-.94-.94-2.06-.94 2.06-2.06.94z\"/><path d=\"M17.41 7.96l-1.37-1.37c-.4-.4-.92-.59-1.43-.59-.52 0-1.04.2-1.43.59L10.3 9.45l-7.72 7.72c-.78.78-.78 2.05 0 2.83L4 21.41c.39.39.9.59 1.41.59.51 0 1.02-.2 1.41-.59l7.78-7.78 2.81-2.81c.8-.78.8-2.07 0-2.86zM5.41 20L4 18.59l7.72-7.72 1.47 1.35L5.41 20z\"/>\n",
              "  </svg>\n",
              "      </button>\n",
              "      \n",
              "  <style>\n",
              "    .colab-df-container {\n",
              "      display:flex;\n",
              "      flex-wrap:wrap;\n",
              "      gap: 12px;\n",
              "    }\n",
              "\n",
              "    .colab-df-convert {\n",
              "      background-color: #E8F0FE;\n",
              "      border: none;\n",
              "      border-radius: 50%;\n",
              "      cursor: pointer;\n",
              "      display: none;\n",
              "      fill: #1967D2;\n",
              "      height: 32px;\n",
              "      padding: 0 0 0 0;\n",
              "      width: 32px;\n",
              "    }\n",
              "\n",
              "    .colab-df-convert:hover {\n",
              "      background-color: #E2EBFA;\n",
              "      box-shadow: 0px 1px 2px rgba(60, 64, 67, 0.3), 0px 1px 3px 1px rgba(60, 64, 67, 0.15);\n",
              "      fill: #174EA6;\n",
              "    }\n",
              "\n",
              "    [theme=dark] .colab-df-convert {\n",
              "      background-color: #3B4455;\n",
              "      fill: #D2E3FC;\n",
              "    }\n",
              "\n",
              "    [theme=dark] .colab-df-convert:hover {\n",
              "      background-color: #434B5C;\n",
              "      box-shadow: 0px 1px 3px 1px rgba(0, 0, 0, 0.15);\n",
              "      filter: drop-shadow(0px 1px 2px rgba(0, 0, 0, 0.3));\n",
              "      fill: #FFFFFF;\n",
              "    }\n",
              "  </style>\n",
              "\n",
              "      <script>\n",
              "        const buttonEl =\n",
              "          document.querySelector('#df-62fdedbe-5909-41f3-ad7f-cb2a87106422 button.colab-df-convert');\n",
              "        buttonEl.style.display =\n",
              "          google.colab.kernel.accessAllowed ? 'block' : 'none';\n",
              "\n",
              "        async function convertToInteractive(key) {\n",
              "          const element = document.querySelector('#df-62fdedbe-5909-41f3-ad7f-cb2a87106422');\n",
              "          const dataTable =\n",
              "            await google.colab.kernel.invokeFunction('convertToInteractive',\n",
              "                                                     [key], {});\n",
              "          if (!dataTable) return;\n",
              "\n",
              "          const docLinkHtml = 'Like what you see? Visit the ' +\n",
              "            '<a target=\"_blank\" href=https://colab.research.google.com/notebooks/data_table.ipynb>data table notebook</a>'\n",
              "            + ' to learn more about interactive tables.';\n",
              "          element.innerHTML = '';\n",
              "          dataTable['output_type'] = 'display_data';\n",
              "          await google.colab.output.renderOutput(dataTable, element);\n",
              "          const docLink = document.createElement('div');\n",
              "          docLink.innerHTML = docLinkHtml;\n",
              "          element.appendChild(docLink);\n",
              "        }\n",
              "      </script>\n",
              "    </div>\n",
              "  </div>\n",
              "  "
            ]
          },
          "metadata": {},
          "execution_count": 27
        }
      ]
    },
    {
      "cell_type": "markdown",
      "source": [
        "Створіть новий DataFrame, де для згрупованих даних за стовпчиком \"Посада\", виконайте агрегацію даних за допомогою методу agg і знайдіть мінімальне та максимальне значення у стовпчику \"Зарплата.в.місяць\":"
      ],
      "metadata": {
        "id": "D5Bex87M_O7N"
      }
    },
    {
      "cell_type": "code",
      "source": [
        "grouped_by_position = grouped.groupby(\"Должность\").agg(\n",
        "    min_salary=(\"Зарплата.в.месяц\", \"min\"),\n",
        "    max_salary=(\"Зарплата.в.месяц\", \"max\"),\n",
        ")\n",
        "grouped_by_position[\"min_salary\"] = grouped_by_position[\"min_salary\"].map('{:,d}'.format)\n",
        "grouped_by_position[\"max_salary\"] = grouped_by_position[\"max_salary\"].map('{:,d}'.format)\n",
        "\n",
        "print(grouped_by_position)"
      ],
      "metadata": {
        "colab": {
          "base_uri": "https://localhost:8080/"
        },
        "id": "PNwDwLda_QN_",
        "outputId": "ab36ca99-63d1-43f0-9768-616de5969995"
      },
      "execution_count": 29,
      "outputs": [
        {
          "output_type": "stream",
          "name": "stdout",
          "text": [
            "                         min_salary max_salary\n",
            "Должность                                     \n",
            "Junior Software Engineer     35,333     35,333\n",
            "Senior Software Engineer    105,000    105,000\n",
            "Software Engineer           179,907    179,907\n",
            "System Architect              8,000      8,000\n",
            "Technical Lead               34,825     34,825\n"
          ]
        }
      ]
    },
    {
      "cell_type": "markdown",
      "source": [
        "Створіть функцію fill_avg_salary, яка повертатиме середнє значення заробітної плати на місяць. Використовуйте її для методу apply та створіть новий стовпчик \"avg\":"
      ],
      "metadata": {
        "id": "LY_aQvW4Dcg1"
      }
    },
    {
      "cell_type": "code",
      "source": [
        "def fill_avg_salary(salary):\n",
        "  return salary.mean().round(1)"
      ],
      "metadata": {
        "id": "EaGKvwXiDdop"
      },
      "execution_count": 30,
      "outputs": []
    },
    {
      "cell_type": "code",
      "source": [
        "avg = python_data.groupby('Должность')['Зарплата.в.месяц'].apply(fill_avg_salary)\n",
        "grouped['avg']=avg # add a new column\n",
        "grouped"
      ],
      "metadata": {
        "colab": {
          "base_uri": "https://localhost:8080/",
          "height": 418
        },
        "id": "mW2HgHm1FfBS",
        "outputId": "2cb7a67e-5e51-4f1a-c7cf-25545cc755ac"
      },
      "execution_count": 31,
      "outputs": [
        {
          "output_type": "execute_result",
          "data": {
            "text/plain": [
              "                               N  Зарплата.в.месяц  \\\n",
              "Должность                                            \n",
              "Junior Software Engineer  224221             35333   \n",
              "Senior Software Engineer  148238            105000   \n",
              "Software Engineer         366884            179907   \n",
              "System Architect           13978              8000   \n",
              "Technical Lead             59072             34825   \n",
              "\n",
              "                          Изменение.зарплаты.за.12.месяцев  Возраст  \\\n",
              "Должность                                                             \n",
              "Junior Software Engineer                             11405     1523   \n",
              "Senior Software Engineer                             13380      901   \n",
              "Software Engineer                                    47983     2663   \n",
              "System Architect                                         0       71   \n",
              "Technical Lead                                        5005      331   \n",
              "\n",
              "                          Еще.студент     exp  current_job_exp  salary     avg  \n",
              "Должность                                                                       \n",
              "Junior Software Engineer           24   55.25            33.00   35333   560.8  \n",
              "Senior Software Engineer            1  207.00            48.25  105000  3387.1  \n",
              "Software Engineer                  13  318.00           112.75  179907  1799.1  \n",
              "System Architect                    0   20.00             2.25    8000  4000.0  \n",
              "Technical Lead                      0   78.00            37.25   34825  3165.9  "
            ],
            "text/html": [
              "\n",
              "  <div id=\"df-8ce0ee07-272f-46ef-903c-50bbd87cae59\">\n",
              "    <div class=\"colab-df-container\">\n",
              "      <div>\n",
              "<style scoped>\n",
              "    .dataframe tbody tr th:only-of-type {\n",
              "        vertical-align: middle;\n",
              "    }\n",
              "\n",
              "    .dataframe tbody tr th {\n",
              "        vertical-align: top;\n",
              "    }\n",
              "\n",
              "    .dataframe thead th {\n",
              "        text-align: right;\n",
              "    }\n",
              "</style>\n",
              "<table border=\"1\" class=\"dataframe\">\n",
              "  <thead>\n",
              "    <tr style=\"text-align: right;\">\n",
              "      <th></th>\n",
              "      <th>N</th>\n",
              "      <th>Зарплата.в.месяц</th>\n",
              "      <th>Изменение.зарплаты.за.12.месяцев</th>\n",
              "      <th>Возраст</th>\n",
              "      <th>Еще.студент</th>\n",
              "      <th>exp</th>\n",
              "      <th>current_job_exp</th>\n",
              "      <th>salary</th>\n",
              "      <th>avg</th>\n",
              "    </tr>\n",
              "    <tr>\n",
              "      <th>Должность</th>\n",
              "      <th></th>\n",
              "      <th></th>\n",
              "      <th></th>\n",
              "      <th></th>\n",
              "      <th></th>\n",
              "      <th></th>\n",
              "      <th></th>\n",
              "      <th></th>\n",
              "      <th></th>\n",
              "    </tr>\n",
              "  </thead>\n",
              "  <tbody>\n",
              "    <tr>\n",
              "      <th>Junior Software Engineer</th>\n",
              "      <td>224221</td>\n",
              "      <td>35333</td>\n",
              "      <td>11405</td>\n",
              "      <td>1523</td>\n",
              "      <td>24</td>\n",
              "      <td>55.25</td>\n",
              "      <td>33.00</td>\n",
              "      <td>35333</td>\n",
              "      <td>560.8</td>\n",
              "    </tr>\n",
              "    <tr>\n",
              "      <th>Senior Software Engineer</th>\n",
              "      <td>148238</td>\n",
              "      <td>105000</td>\n",
              "      <td>13380</td>\n",
              "      <td>901</td>\n",
              "      <td>1</td>\n",
              "      <td>207.00</td>\n",
              "      <td>48.25</td>\n",
              "      <td>105000</td>\n",
              "      <td>3387.1</td>\n",
              "    </tr>\n",
              "    <tr>\n",
              "      <th>Software Engineer</th>\n",
              "      <td>366884</td>\n",
              "      <td>179907</td>\n",
              "      <td>47983</td>\n",
              "      <td>2663</td>\n",
              "      <td>13</td>\n",
              "      <td>318.00</td>\n",
              "      <td>112.75</td>\n",
              "      <td>179907</td>\n",
              "      <td>1799.1</td>\n",
              "    </tr>\n",
              "    <tr>\n",
              "      <th>System Architect</th>\n",
              "      <td>13978</td>\n",
              "      <td>8000</td>\n",
              "      <td>0</td>\n",
              "      <td>71</td>\n",
              "      <td>0</td>\n",
              "      <td>20.00</td>\n",
              "      <td>2.25</td>\n",
              "      <td>8000</td>\n",
              "      <td>4000.0</td>\n",
              "    </tr>\n",
              "    <tr>\n",
              "      <th>Technical Lead</th>\n",
              "      <td>59072</td>\n",
              "      <td>34825</td>\n",
              "      <td>5005</td>\n",
              "      <td>331</td>\n",
              "      <td>0</td>\n",
              "      <td>78.00</td>\n",
              "      <td>37.25</td>\n",
              "      <td>34825</td>\n",
              "      <td>3165.9</td>\n",
              "    </tr>\n",
              "  </tbody>\n",
              "</table>\n",
              "</div>\n",
              "      <button class=\"colab-df-convert\" onclick=\"convertToInteractive('df-8ce0ee07-272f-46ef-903c-50bbd87cae59')\"\n",
              "              title=\"Convert this dataframe to an interactive table.\"\n",
              "              style=\"display:none;\">\n",
              "        \n",
              "  <svg xmlns=\"http://www.w3.org/2000/svg\" height=\"24px\"viewBox=\"0 0 24 24\"\n",
              "       width=\"24px\">\n",
              "    <path d=\"M0 0h24v24H0V0z\" fill=\"none\"/>\n",
              "    <path d=\"M18.56 5.44l.94 2.06.94-2.06 2.06-.94-2.06-.94-.94-2.06-.94 2.06-2.06.94zm-11 1L8.5 8.5l.94-2.06 2.06-.94-2.06-.94L8.5 2.5l-.94 2.06-2.06.94zm10 10l.94 2.06.94-2.06 2.06-.94-2.06-.94-.94-2.06-.94 2.06-2.06.94z\"/><path d=\"M17.41 7.96l-1.37-1.37c-.4-.4-.92-.59-1.43-.59-.52 0-1.04.2-1.43.59L10.3 9.45l-7.72 7.72c-.78.78-.78 2.05 0 2.83L4 21.41c.39.39.9.59 1.41.59.51 0 1.02-.2 1.41-.59l7.78-7.78 2.81-2.81c.8-.78.8-2.07 0-2.86zM5.41 20L4 18.59l7.72-7.72 1.47 1.35L5.41 20z\"/>\n",
              "  </svg>\n",
              "      </button>\n",
              "      \n",
              "  <style>\n",
              "    .colab-df-container {\n",
              "      display:flex;\n",
              "      flex-wrap:wrap;\n",
              "      gap: 12px;\n",
              "    }\n",
              "\n",
              "    .colab-df-convert {\n",
              "      background-color: #E8F0FE;\n",
              "      border: none;\n",
              "      border-radius: 50%;\n",
              "      cursor: pointer;\n",
              "      display: none;\n",
              "      fill: #1967D2;\n",
              "      height: 32px;\n",
              "      padding: 0 0 0 0;\n",
              "      width: 32px;\n",
              "    }\n",
              "\n",
              "    .colab-df-convert:hover {\n",
              "      background-color: #E2EBFA;\n",
              "      box-shadow: 0px 1px 2px rgba(60, 64, 67, 0.3), 0px 1px 3px 1px rgba(60, 64, 67, 0.15);\n",
              "      fill: #174EA6;\n",
              "    }\n",
              "\n",
              "    [theme=dark] .colab-df-convert {\n",
              "      background-color: #3B4455;\n",
              "      fill: #D2E3FC;\n",
              "    }\n",
              "\n",
              "    [theme=dark] .colab-df-convert:hover {\n",
              "      background-color: #434B5C;\n",
              "      box-shadow: 0px 1px 3px 1px rgba(0, 0, 0, 0.15);\n",
              "      filter: drop-shadow(0px 1px 2px rgba(0, 0, 0, 0.3));\n",
              "      fill: #FFFFFF;\n",
              "    }\n",
              "  </style>\n",
              "\n",
              "      <script>\n",
              "        const buttonEl =\n",
              "          document.querySelector('#df-8ce0ee07-272f-46ef-903c-50bbd87cae59 button.colab-df-convert');\n",
              "        buttonEl.style.display =\n",
              "          google.colab.kernel.accessAllowed ? 'block' : 'none';\n",
              "\n",
              "        async function convertToInteractive(key) {\n",
              "          const element = document.querySelector('#df-8ce0ee07-272f-46ef-903c-50bbd87cae59');\n",
              "          const dataTable =\n",
              "            await google.colab.kernel.invokeFunction('convertToInteractive',\n",
              "                                                     [key], {});\n",
              "          if (!dataTable) return;\n",
              "\n",
              "          const docLinkHtml = 'Like what you see? Visit the ' +\n",
              "            '<a target=\"_blank\" href=https://colab.research.google.com/notebooks/data_table.ipynb>data table notebook</a>'\n",
              "            + ' to learn more about interactive tables.';\n",
              "          element.innerHTML = '';\n",
              "          dataTable['output_type'] = 'display_data';\n",
              "          await google.colab.output.renderOutput(dataTable, element);\n",
              "          const docLink = document.createElement('div');\n",
              "          docLink.innerHTML = docLinkHtml;\n",
              "          element.appendChild(docLink);\n",
              "        }\n",
              "      </script>\n",
              "    </div>\n",
              "  </div>\n",
              "  "
            ]
          },
          "metadata": {},
          "execution_count": 31
        }
      ]
    },
    {
      "cell_type": "markdown",
      "source": [
        "Створіть описову статистику за допомогою методу describe для нового стовпчика:"
      ],
      "metadata": {
        "id": "AB7hLlFYK3Ok"
      }
    },
    {
      "cell_type": "code",
      "source": [
        "grouped['avg'].describe().map('{:,.2f}'.format)"
      ],
      "metadata": {
        "colab": {
          "base_uri": "https://localhost:8080/"
        },
        "id": "mONmlYj3K61K",
        "outputId": "0721026c-acd4-48fc-8ec0-24cd192f4e29"
      },
      "execution_count": 36,
      "outputs": [
        {
          "output_type": "execute_result",
          "data": {
            "text/plain": [
              "count        5.00\n",
              "mean     2,582.58\n",
              "std      1,387.27\n",
              "min        560.80\n",
              "25%      1,799.10\n",
              "50%      3,165.90\n",
              "75%      3,387.10\n",
              "max      4,000.00\n",
              "Name: avg, dtype: object"
            ]
          },
          "metadata": {},
          "execution_count": 36
        }
      ]
    },
    {
      "cell_type": "markdown",
      "source": [
        "Збережіть отриману таблицю в CSV файл:"
      ],
      "metadata": {
        "id": "HXr4X8CiLFiV"
      }
    },
    {
      "cell_type": "code",
      "source": [
        "grouped.to_csv('Average_salary_2017.csv')"
      ],
      "metadata": {
        "id": "xCqZNMxTLGh3"
      },
      "execution_count": 37,
      "outputs": []
    },
    {
      "cell_type": "markdown",
      "source": [
        "##***Graphs***:"
      ],
      "metadata": {
        "id": "kF8WgduHl0eZ"
      }
    },
    {
      "cell_type": "code",
      "source": [
        "%matplotlib inline\n",
        "import matplotlib.pyplot as plt"
      ],
      "metadata": {
        "id": "6ToUCQXEFJm3"
      },
      "execution_count": null,
      "outputs": []
    },
    {
      "cell_type": "code",
      "source": [
        "data = grouped.groupby('Должность')['avg'].mean().reset_index()\n",
        "\n",
        "colors = plt.cm.get_cmap('Pastel1')(np.linspace(0, 1, len(data)))\n",
        "plt.bar(data['Должность'], data['avg'], color=colors)\n",
        "plt.xlabel(\"Position\", fontsize=\"small\", color=\"midnightblue\")\n",
        "plt.ylabel(\"Salary range\", fontsize=\"small\", color=\"midnightblue\")\n",
        "plt.title(\"Average salary per position in 2017\", fontsize=15)\n",
        "\n",
        "plt.xticks(rotation=90)\n",
        "\n",
        "plt.show()"
      ],
      "metadata": {
        "colab": {
          "base_uri": "https://localhost:8080/",
          "height": 689
        },
        "id": "8G257IiiFLJ5",
        "outputId": "a87a20f8-327c-4966-ddd3-e9f9c0dc95f5"
      },
      "execution_count": 35,
      "outputs": [
        {
          "output_type": "stream",
          "name": "stderr",
          "text": [
            "<ipython-input-35-6bf754b8c74b>:3: MatplotlibDeprecationWarning: The get_cmap function was deprecated in Matplotlib 3.7 and will be removed two minor releases later. Use ``matplotlib.colormaps[name]`` or ``matplotlib.colormaps.get_cmap(obj)`` instead.\n",
            "  colors = plt.cm.get_cmap('Pastel1')(np.linspace(0, 1, len(data)))\n"
          ]
        },
        {
          "output_type": "display_data",
          "data": {
            "text/plain": [
              "<Figure size 640x480 with 1 Axes>"
            ],
            "image/png": "[encoded data removed]"
          },
          "metadata": {}
        }
      ]
    },
    {
      "cell_type": "code",
      "source": [
        "data.drop_duplicates(subset='Язык.программирования', keep='first', inplace=True)\n",
        "\n",
        "grouped_data = data.groupby(\"Язык.программирования\")[\"Зарплата.в.месяц\"].mean()\n",
        "\n",
        "table = grouped_data.plot(kind='bar')\n",
        "plt.bar(grouped_data.index, grouped_data.values)\n",
        "\n",
        "table.set_title(\"Average salary per programming language in 2017\", color='black')\n",
        "table.legend(['Average salary'], loc='best')\n",
        "\n",
        "table.set_xlabel('Programming language', fontsize=\"small\", color=\"midnightblue\")\n",
        "table.set_ylabel('Salary range', fontsize=\"small\", color=\"midnightblue\")\n",
        "\n",
        "plt.xticks(rotation=90)\n",
        "plt.show()"
      ],
      "metadata": {
        "colab": {
          "base_uri": "https://localhost:8080/",
          "height": 554
        },
        "id": "DgUaidS6Iyhc",
        "outputId": "56e919b0-ff45-42d6-83e5-73268a4ffbd3"
      },
      "execution_count": 17,
      "outputs": [
        {
          "output_type": "display_data",
          "data": {
            "text/plain": [
              "<Figure size 640x480 with 1 Axes>"
            ],
            "image/png": "[encoded data removed]"
          },
          "metadata": {}
        }
      ]
    },
    {
      "cell_type": "code",
      "source": [
        "students = python_data[python_data['Еще.студент']].groupby('Должность').count().reset_index()\n",
        "\n",
        "explode = [0.03, 0.03, 0.03]\n",
        "\n",
        "plt.pie(\n",
        "    students['Еще.студент'].values,\n",
        "    labels=students['Должность'].values,\n",
        "    shadow=True,\n",
        "    explode=explode,\n",
        "    autopct=\"%.0f\",\n",
        "    pctdistance=0.8,\n",
        "    labeldistance=1.1,\n",
        "    startangle=90\n",
        ")\n",
        "\n",
        "plt.title(\"No of students per position\", fontsize=15)\n",
        "\n",
        "plt.show()"
      ],
      "metadata": {
        "colab": {
          "base_uri": "https://localhost:8080/",
          "height": 430
        },
        "id": "whVfNpplTKWf",
        "outputId": "2f7705e0-c2fc-4865-c863-470544297b9b"
      },
      "execution_count": 16,
      "outputs": [
        {
          "output_type": "display_data",
          "data": {
            "text/plain": [
              "<Figure size 640x480 with 1 Axes>"
            ],
            "image/png": "[encoded data removed]"
          },
          "metadata": {}
        }
      ]
    }
  ]
}