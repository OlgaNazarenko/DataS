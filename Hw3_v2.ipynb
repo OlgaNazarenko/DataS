{
  "nbformat": 4,
  "nbformat_minor": 0,
  "metadata": {
    "colab": {
      "provenance": []
    },
    "kernelspec": {
      "name": "python3",
      "display_name": "Python 3"
    },
    "language_info": {
      "name": "python"
    }
  },
  "cells": [
    {
      "cell_type": "code",
      "source": [
        "import numpy as np\n",
        "import pandas as pd\n",
        "import matplotlib.pyplot as plt\n",
        "import seaborn as sns"
      ],
      "metadata": {
        "id": "iI64EyeQDxJO"
      },
      "execution_count": 2,
      "outputs": []
    },
    {
      "cell_type": "code",
      "source": [
        "from google.colab import drive\n",
        "\n",
        "drive.mount('/content/gdrive')"
      ],
      "metadata": {
        "colab": {
          "base_uri": "https://localhost:8080/"
        },
        "id": "TtrKcb82HXVg",
        "outputId": "7fc4bf2a-a02a-4221-a1e7-622dd052f9e6"
      },
      "execution_count": 2,
      "outputs": [
        {
          "output_type": "stream",
          "name": "stdout",
          "text": [
            "Mounted at /content/gdrive\n"
          ]
        }
      ]
    },
    {
      "cell_type": "code",
      "source": [
        "house_path = '/content/Housing.csv'"
      ],
      "metadata": {
        "id": "wQhWvEMeHga5"
      },
      "execution_count": 3,
      "outputs": []
    },
    {
      "cell_type": "code",
      "source": [
        "data = pd.read_csv(house_path)"
      ],
      "metadata": {
        "id": "2WgdDHk9Higz"
      },
      "execution_count": 4,
      "outputs": []
    },
    {
      "cell_type": "markdown",
      "source": [
        "*   напишіть функцію гіпотези лінійної регресії у векторному вигляді:\n",
        "\n",
        "$$h(w⃗, X) = Xw⃗$$\n",
        "\n",
        "\n",
        "*  X - матриця даних, \n",
        "*  w⃗ - вектор параметрів."
      ],
      "metadata": {
        "id": "h-Gc27nCaXWA"
      }
    },
    {
      "cell_type": "code",
      "execution_count": 252,
      "metadata": {
        "id": "xUrOqN3PxPYN"
      },
      "outputs": [],
      "source": [
        "def hypothesis(X,theta):\n",
        "    # x - entire array (m,n+1)\n",
        "    # theta - np.array(n+1,1) -> theta = np.ones(n)\n",
        "    # h(x) = X * theta: The number of column of the first factor must be the same of the number of the row in the second factor.\n",
        "    return np.dot(X, theta)"
      ]
    },
    {
      "cell_type": "markdown",
      "source": [
        "\n",
        "\n",
        "*   створіть функцію для обчислення функції втрат у векторному вигляді:\n",
        "\n",
        "$$J(w⃗) = 1/2m * ∑(h(w⃗, xi) - yi)^2$$\n",
        "\n",
        "\n",
        "*   m - кількість прикладів, \n",
        "*   xi - i-й приклад\n",
        "*   yi - правильна відповідь для i-го прикладу"
      ],
      "metadata": {
        "id": "RyWv4OQ-ESNq"
      }
    },
    {
      "cell_type": "code",
      "source": [
        "def loss_function(X, y, theta):\n",
        "    # print('X shape:', X.shape)\n",
        "    # print('theta shape:', theta.shape)\n",
        "    m = len(y)\n",
        "    J = 1/(2*m) * np.sum((X@theta - y)**2)\n",
        "    return J"
      ],
      "metadata": {
        "id": "Jae9S_oNLv9J"
      },
      "execution_count": 207,
      "outputs": []
    },
    {
      "cell_type": "markdown",
      "source": [
        "\n",
        "\n",
        "*   реалізуйте один крок градієнтного спуску:\n",
        "\n",
        "$$∇J(w⃗) = 1/m * X.T * (h(w⃗, X) - y)$$\n",
        "  - X - matrix (m, n+1),\n",
        "  - y - vector of correct values (m, 1).\n",
        "$$w⃗ := w⃗ - alpha * ∇J(w⃗)$$\n",
        "- alpha = learning rate\n",
        "\n",
        "\n",
        "\n"
      ],
      "metadata": {
        "id": "0yKA9KoGEnHz"
      }
    },
    {
      "cell_type": "code",
      "source": [
        "import time\n",
        "\n",
        "start_time = time.time()\n",
        "def gradient_descent_step(X, y, theta, alpha=0.001):\n",
        "\n",
        "    m = len(y) #number of training examples\n",
        "    h = hypothesis(X, theta)\n",
        "    gradient = (1/m) * np.dot(X.T, (h - y))\n",
        "    theta = theta - alpha * gradient\n",
        "\n",
        "    return theta\n",
        "\n",
        "print('Time Taken For Gradient Descent Step in Sec:',time.time() - start_time)"
      ],
      "metadata": {
        "id": "oMXrEhQFEp9O",
        "colab": {
          "base_uri": "https://localhost:8080/"
        },
        "outputId": "ae2f755c-5080-4eda-f20e-262ce01c3856"
      },
      "execution_count": 7,
      "outputs": [
        {
          "output_type": "stream",
          "name": "stdout",
          "text": [
            "Time Taken For Gradient Descent Step in Sec: 0.000225067138671875\n"
          ]
        }
      ]
    },
    {
      "cell_type": "code",
      "source": [
        "def gradient_descent(X, y, theta, lr=0.0005, num_iterations=100000):\n",
        "    \n",
        "    m = len(y)\n",
        "    cost_list = []\n",
        "\n",
        "    for i in range(int(num_iterations)):\n",
        "    \n",
        "      theta = theta - lr*(1/m)*np.transpose(X)@(X@theta - y)\n",
        "            \n",
        "      cost_val = cost(X, y, theta)\n",
        "      cost_list.append(cost_val)\n",
        "\n",
        "    return theta, cost_list"
      ],
      "metadata": {
        "id": "LNV2CBc_LbOY"
      },
      "execution_count": 56,
      "outputs": []
    },
    {
      "cell_type": "markdown",
      "source": [
        "\n",
        "\n",
        "*   знайдіть найкращі параметри \n",
        "w\n",
        "⃗\n",
        "w\n",
        "  для датасету прогнозуючу ціну на будинок залежно від площі, кількості ванних кімнат та кількості спалень:\n",
        "\n"
      ],
      "metadata": {
        "id": "I3FI1pWEHFlb"
      }
    },
    {
      "cell_type": "code",
      "source": [
        "def normalization(data):\n",
        "\n",
        "  mean = np.mean(data)\n",
        "  value_range = np.max(data) - np.min(data)\n",
        "\n",
        "  result = []\n",
        "\n",
        "  for x in data:\n",
        "    norm_x = (x-mean)/value_range\n",
        "    result.append(norm_x)\n",
        "\n",
        "  return result"
      ],
      "metadata": {
        "id": "zcrnmr_pem-5"
      },
      "execution_count": 57,
      "outputs": []
    },
    {
      "cell_type": "code",
      "source": [
        "norm_df = data.copy()\n",
        "norm_df = pd.DataFrame()"
      ],
      "metadata": {
        "id": "U31BELJJe73h"
      },
      "execution_count": 263,
      "outputs": []
    },
    {
      "cell_type": "code",
      "source": [
        "norm_df['price'] = normalization(data.price)\n",
        "norm_df['area'] = normalization(data.area)\n",
        "norm_df['bedrooms'] = normalization(data.bedrooms)\n",
        "norm_df['bathrooms'] = normalization(data.bathrooms)"
      ],
      "metadata": {
        "id": "DMUdCEACe7sl"
      },
      "execution_count": 264,
      "outputs": []
    },
    {
      "cell_type": "code",
      "source": [
        "norm_df.head(2)"
      ],
      "metadata": {
        "colab": {
          "base_uri": "https://localhost:8080/",
          "height": 111
        },
        "id": "awWEWgoASOgB",
        "outputId": "ca5b2340-6638-4a13-b47b-13830667f874"
      },
      "execution_count": 265,
      "outputs": [
        {
          "output_type": "execute_result",
          "data": {
            "text/plain": [
              "      price      area  bedrooms  bathrooms\n",
              "0  0.738811  0.155977  0.206972   0.237920\n",
              "1  0.647902  0.261818  0.206972   0.904587"
            ],
            "text/html": [
              "\n",
              "  <div id=\"df-2ce729b6-c50a-47b0-b49c-00aa2b46269b\">\n",
              "    <div class=\"colab-df-container\">\n",
              "      <div>\n",
              "<style scoped>\n",
              "    .dataframe tbody tr th:only-of-type {\n",
              "        vertical-align: middle;\n",
              "    }\n",
              "\n",
              "    .dataframe tbody tr th {\n",
              "        vertical-align: top;\n",
              "    }\n",
              "\n",
              "    .dataframe thead th {\n",
              "        text-align: right;\n",
              "    }\n",
              "</style>\n",
              "<table border=\"1\" class=\"dataframe\">\n",
              "  <thead>\n",
              "    <tr style=\"text-align: right;\">\n",
              "      <th></th>\n",
              "      <th>price</th>\n",
              "      <th>area</th>\n",
              "      <th>bedrooms</th>\n",
              "      <th>bathrooms</th>\n",
              "    </tr>\n",
              "  </thead>\n",
              "  <tbody>\n",
              "    <tr>\n",
              "      <th>0</th>\n",
              "      <td>0.738811</td>\n",
              "      <td>0.155977</td>\n",
              "      <td>0.206972</td>\n",
              "      <td>0.237920</td>\n",
              "    </tr>\n",
              "    <tr>\n",
              "      <th>1</th>\n",
              "      <td>0.647902</td>\n",
              "      <td>0.261818</td>\n",
              "      <td>0.206972</td>\n",
              "      <td>0.904587</td>\n",
              "    </tr>\n",
              "  </tbody>\n",
              "</table>\n",
              "</div>\n",
              "      <button class=\"colab-df-convert\" onclick=\"convertToInteractive('df-2ce729b6-c50a-47b0-b49c-00aa2b46269b')\"\n",
              "              title=\"Convert this dataframe to an interactive table.\"\n",
              "              style=\"display:none;\">\n",
              "        \n",
              "  <svg xmlns=\"http://www.w3.org/2000/svg\" height=\"24px\"viewBox=\"0 0 24 24\"\n",
              "       width=\"24px\">\n",
              "    <path d=\"M0 0h24v24H0V0z\" fill=\"none\"/>\n",
              "    <path d=\"M18.56 5.44l.94 2.06.94-2.06 2.06-.94-2.06-.94-.94-2.06-.94 2.06-2.06.94zm-11 1L8.5 8.5l.94-2.06 2.06-.94-2.06-.94L8.5 2.5l-.94 2.06-2.06.94zm10 10l.94 2.06.94-2.06 2.06-.94-2.06-.94-.94-2.06-.94 2.06-2.06.94z\"/><path d=\"M17.41 7.96l-1.37-1.37c-.4-.4-.92-.59-1.43-.59-.52 0-1.04.2-1.43.59L10.3 9.45l-7.72 7.72c-.78.78-.78 2.05 0 2.83L4 21.41c.39.39.9.59 1.41.59.51 0 1.02-.2 1.41-.59l7.78-7.78 2.81-2.81c.8-.78.8-2.07 0-2.86zM5.41 20L4 18.59l7.72-7.72 1.47 1.35L5.41 20z\"/>\n",
              "  </svg>\n",
              "      </button>\n",
              "      \n",
              "  <style>\n",
              "    .colab-df-container {\n",
              "      display:flex;\n",
              "      flex-wrap:wrap;\n",
              "      gap: 12px;\n",
              "    }\n",
              "\n",
              "    .colab-df-convert {\n",
              "      background-color: #E8F0FE;\n",
              "      border: none;\n",
              "      border-radius: 50%;\n",
              "      cursor: pointer;\n",
              "      display: none;\n",
              "      fill: #1967D2;\n",
              "      height: 32px;\n",
              "      padding: 0 0 0 0;\n",
              "      width: 32px;\n",
              "    }\n",
              "\n",
              "    .colab-df-convert:hover {\n",
              "      background-color: #E2EBFA;\n",
              "      box-shadow: 0px 1px 2px rgba(60, 64, 67, 0.3), 0px 1px 3px 1px rgba(60, 64, 67, 0.15);\n",
              "      fill: #174EA6;\n",
              "    }\n",
              "\n",
              "    [theme=dark] .colab-df-convert {\n",
              "      background-color: #3B4455;\n",
              "      fill: #D2E3FC;\n",
              "    }\n",
              "\n",
              "    [theme=dark] .colab-df-convert:hover {\n",
              "      background-color: #434B5C;\n",
              "      box-shadow: 0px 1px 3px 1px rgba(0, 0, 0, 0.15);\n",
              "      filter: drop-shadow(0px 1px 2px rgba(0, 0, 0, 0.3));\n",
              "      fill: #FFFFFF;\n",
              "    }\n",
              "  </style>\n",
              "\n",
              "      <script>\n",
              "        const buttonEl =\n",
              "          document.querySelector('#df-2ce729b6-c50a-47b0-b49c-00aa2b46269b button.colab-df-convert');\n",
              "        buttonEl.style.display =\n",
              "          google.colab.kernel.accessAllowed ? 'block' : 'none';\n",
              "\n",
              "        async function convertToInteractive(key) {\n",
              "          const element = document.querySelector('#df-2ce729b6-c50a-47b0-b49c-00aa2b46269b');\n",
              "          const dataTable =\n",
              "            await google.colab.kernel.invokeFunction('convertToInteractive',\n",
              "                                                     [key], {});\n",
              "          if (!dataTable) return;\n",
              "\n",
              "          const docLinkHtml = 'Like what you see? Visit the ' +\n",
              "            '<a target=\"_blank\" href=https://colab.research.google.com/notebooks/data_table.ipynb>data table notebook</a>'\n",
              "            + ' to learn more about interactive tables.';\n",
              "          element.innerHTML = '';\n",
              "          dataTable['output_type'] = 'display_data';\n",
              "          await google.colab.output.renderOutput(dataTable, element);\n",
              "          const docLink = document.createElement('div');\n",
              "          docLink.innerHTML = docLinkHtml;\n",
              "          element.appendChild(docLink);\n",
              "        }\n",
              "      </script>\n",
              "    </div>\n",
              "  </div>\n",
              "  "
            ]
          },
          "metadata": {},
          "execution_count": 265
        }
      ]
    },
    {
      "cell_type": "code",
      "source": [
        "from sklearn.linear_model import LinearRegression\n",
        "from sklearn.metrics import mean_squared_error, r2_score\n",
        "\n",
        "science_data = norm_df.iloc[:, 0:4]\n",
        "x = science_data[['area', 'bedrooms', 'bathrooms']]\n",
        "y = science_data['price']\n",
        "\n",
        "reg = LinearRegression().fit(x, y)\n",
        "\n",
        "reg.coef_\n",
        "y_predicted = reg.predict(x)\n",
        "rmse = mean_squared_error(y, y_predicted)\n",
        "r2 = r2_score(y, y_predicted) \n",
        "\n",
        "print('Coeficient:', reg.coef_)\n",
        "print('Slope:', reg.coef_)\n",
        "print('Intercept:', reg.intercept_)\n",
        "print('R-squared score is: ', r2)"
      ],
      "metadata": {
        "colab": {
          "base_uri": "https://localhost:8080/"
        },
        "id": "FjhPTf4UNtSq",
        "outputId": "25c3488a-53e0-4bcc-a6d2-ea62758b599d"
      },
      "execution_count": 241,
      "outputs": [
        {
          "output_type": "stream",
          "name": "stdout",
          "text": [
            "Coeficient: [0.47714269 0.17611257 0.36001286]\n",
            "Slope: [0.47714269 0.17611257 0.36001286]\n",
            "Intercept: 7.014204135081996e-17\n",
            "R-squared score is:  0.4870830667058762\n"
          ]
        }
      ]
    },
    {
      "cell_type": "markdown",
      "source": [
        "Coefficient of Determination(R² score) explains how much the total variance of the dependent variable can be reduced by using the least square regression.\n",
        "\n",
        "- We reduced the prediction error by ~ 48% by using regression.\n",
        "\n",
        "\n",
        "\n",
        "\n",
        "\n"
      ],
      "metadata": {
        "id": "_Yh3R1hxSPrK"
      }
    },
    {
      "cell_type": "code",
      "source": [
        "theta = np.append(reg.intercept_, reg.coef_)\n",
        "theta = theta.reshape(-1, 1) # to reshape theta to (1,4)\n",
        "print('Loss function value is: ', loss_function(x, y, theta.T)) # to transpose theta to (4,1)"
      ],
      "metadata": {
        "colab": {
          "base_uri": "https://localhost:8080/"
        },
        "id": "qu9i2K-MpCgu",
        "outputId": "2265db19-fba0-493a-8c33-95eaaa3a909d"
      },
      "execution_count": 208,
      "outputs": [
        {
          "output_type": "stream",
          "name": "stdout",
          "text": [
            "Loss function value is:  0.04357160863812754\n"
          ]
        }
      ]
    },
    {
      "cell_type": "code",
      "source": [
        "X = np.hstack((np.ones((x.shape[0], 1)), x))\n",
        "\n",
        "theta_best = np.linalg.inv(X.T.dot(X)).dot(X.T).dot(y)\n",
        "analytical_loss = loss_function(X, y, theta_best)\n",
        "\n",
        "print(f\"The best w⃗ - vector parameters based on analytical approach: \\n {theta_best}\")\n",
        "\n",
        "print(f\"The analytical loss: \\n {analytical_loss}\")"
      ],
      "metadata": {
        "colab": {
          "base_uri": "https://localhost:8080/"
        },
        "id": "6S6oiDJUSd0-",
        "outputId": "de3647f6-c5dd-41a5-b6dd-545a97b489ca"
      },
      "execution_count": 255,
      "outputs": [
        {
          "output_type": "stream",
          "name": "stdout",
          "text": [
            "The best w⃗ - vector parameters based on analytical approach: \n",
            " [[4.07182721e-17]\n",
            " [5.81968373e-01]]\n",
            "The analytical loss: \n",
            " 0.00932839114027345\n"
          ]
        }
      ]
    },
    {
      "cell_type": "code",
      "source": [
        "plt.figure(figsize=(10,6))\n",
        "\n",
        "x = science_data['area'].values.reshape(-1, 1)\n",
        "y = science_data['price'].values.reshape(-1, 1)\n",
        "\n",
        "plt.plot(x, y, 'gx')\n",
        "\n",
        "x_shaped = np.hstack((np.ones((x.shape[0], 1)), x))\n",
        "\n",
        "theta_best = np.linalg.inv(x_shaped.T.dot(x_shaped)).dot(x_shaped.T).dot(y)\n",
        "\n",
        "plt.plot(x, hypothesis(x_shaped, theta_best), label='Hypothesis model')\n",
        "plt.plot(x, hypothesis(x_shaped, np.array([reg.intercept_, reg.coef_[0]])), label='scikit-learn')\n",
        "\n",
        "plt.xlabel('Area')\n",
        "plt.ylabel('Price')\n",
        "plt.title('Normalized data based on training')\n",
        "plt.grid()\n",
        "plt.legend()\n",
        "\n",
        "plt.show()\n"
      ],
      "metadata": {
        "colab": {
          "base_uri": "https://localhost:8080/",
          "height": 416
        },
        "id": "569mLS8JdG3e",
        "outputId": "7b94beda-9b4f-41c7-e173-ffb842e0c40f"
      },
      "execution_count": 254,
      "outputs": [
        {
          "output_type": "display_data",
          "data": {
            "text/plain": [
              "<Figure size 1000x600 with 1 Axes>"
            ],
            "image/png": "[encoded data removed]"
          },
          "metadata": {}
        }
      ]
    },
    {
      "cell_type": "code",
      "source": [
        "original_loss = loss_function(x, y, theta.T)\n",
        "analytical_loss = loss_function(X, y, theta_best)\n",
        "\n",
        "difference = original_loss - analytical_loss\n",
        "\n",
        "print('The original loss function was: \\n', original_loss)\n",
        "print('The analytical loss was: \\n', analytical_loss)\n",
        "print('The difference is: \\n', difference)"
      ],
      "metadata": {
        "colab": {
          "base_uri": "https://localhost:8080/"
        },
        "id": "qsRgwsWiuEAP",
        "outputId": "41e4ffd8-07ed-4a21-b26e-b0bf3ef5527f"
      },
      "execution_count": 258,
      "outputs": [
        {
          "output_type": "stream",
          "name": "stdout",
          "text": [
            "The original loss function was: \n",
            " 0.04357160863812754\n",
            "The analytical loss was: \n",
            " 0.00932839114027345\n",
            "The difference is: \n",
            " 0.03424321749785409\n"
          ]
        }
      ]
    }
  ]
}